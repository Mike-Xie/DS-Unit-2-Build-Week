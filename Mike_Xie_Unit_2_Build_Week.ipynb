{
  "nbformat": 4,
  "nbformat_minor": 0,
  "metadata": {
    "colab": {
      "name": "Mike_Xie_Unit_2_Build_Week.ipynb",
      "provenance": [],
      "collapsed_sections": [],
      "include_colab_link": true
    },
    "kernelspec": {
      "display_name": "Python 3",
      "language": "python",
      "name": "python3"
    },
    "language_info": {
      "codemirror_mode": {
        "name": "ipython",
        "version": 3
      },
      "file_extension": ".py",
      "mimetype": "text/x-python",
      "name": "python",
      "nbconvert_exporter": "python",
      "pygments_lexer": "ipython3",
      "version": "3.7.3"
    }
  },
  "cells": [
    {
      "cell_type": "markdown",
      "metadata": {
        "id": "view-in-github",
        "colab_type": "text"
      },
      "source": [
        "<a href=\"https://colab.research.google.com/github/Mike-Xie/DS-Unit-2-Build-Week/blob/master/Mike_Xie_Unit_2_Build_Week.ipynb\" target=\"_parent\"><img src=\"https://colab.research.google.com/assets/colab-badge.svg\" alt=\"Open In Colab\"/></a>"
      ]
    },
    {
      "cell_type": "code",
      "metadata": {
        "id": "sN0fQ76kiLoM",
        "colab_type": "code",
        "colab": {}
      },
      "source": [
        "%%capture\n",
        "import sys\n",
        "\n",
        "if 'google.colab' in sys.modules:\n",
        "    # Install packages in Colab\n",
        "    !pip install category_encoders==2.*\n",
        "    !pip install pandas-profiling==2.*"
      ],
      "execution_count": 0,
      "outputs": []
    },
    {
      "cell_type": "code",
      "metadata": {
        "id": "xe50OOs1JcVv",
        "colab_type": "code",
        "outputId": "9758542e-4289-45ca-cd35-330e73b137e2",
        "colab": {
          "base_uri": "https://localhost:8080/",
          "height": 318
        }
      },
      "source": [
        "!wget https://github.com/bowswung/voobly-scraper/raw/master/data/MatchData/20190208/matchDump.csv.zip"
      ],
      "execution_count": 2,
      "outputs": [
        {
          "output_type": "stream",
          "text": [
            "--2020-01-08 17:42:43--  https://github.com/bowswung/voobly-scraper/raw/master/data/MatchData/20190208/matchDump.csv.zip\n",
            "Resolving github.com (github.com)... 192.30.255.112\n",
            "Connecting to github.com (github.com)|192.30.255.112|:443... connected.\n",
            "HTTP request sent, awaiting response... 302 Found\n",
            "Location: https://media.githubusercontent.com/media/bowswung/voobly-scraper/master/data/MatchData/20190208/matchDump.csv.zip [following]\n",
            "--2020-01-08 17:42:43--  https://media.githubusercontent.com/media/bowswung/voobly-scraper/master/data/MatchData/20190208/matchDump.csv.zip\n",
            "Resolving media.githubusercontent.com (media.githubusercontent.com)... 151.101.0.133, 151.101.64.133, 151.101.128.133, ...\n",
            "Connecting to media.githubusercontent.com (media.githubusercontent.com)|151.101.0.133|:443... connected.\n",
            "HTTP request sent, awaiting response... 200 OK\n",
            "Length: 49029198 (47M) [application/zip]\n",
            "Saving to: ‘matchDump.csv.zip’\n",
            "\n",
            "matchDump.csv.zip   100%[===================>]  46.76M   199MB/s    in 0.2s    \n",
            "\n",
            "2020-01-08 17:42:45 (199 MB/s) - ‘matchDump.csv.zip’ saved [49029198/49029198]\n",
            "\n"
          ],
          "name": "stdout"
        }
      ]
    },
    {
      "cell_type": "code",
      "metadata": {
        "id": "81pkxPffJ6vE",
        "colab_type": "code",
        "outputId": "e3a6a6b4-57df-455a-f887-4f2647fb6388",
        "colab": {
          "base_uri": "https://localhost:8080/",
          "height": 52
        }
      },
      "source": [
        "!unzip matchDump.csv.zip"
      ],
      "execution_count": 3,
      "outputs": [
        {
          "output_type": "stream",
          "text": [
            "Archive:  matchDump.csv.zip\n",
            "  inflating: matchDump.csv           \n"
          ],
          "name": "stdout"
        }
      ]
    },
    {
      "cell_type": "code",
      "metadata": {
        "id": "9jUoCeWyJ-8i",
        "colab_type": "code",
        "outputId": "4e824e15-259f-43f3-ef1f-f3619ea3b110",
        "colab": {
          "base_uri": "https://localhost:8080/",
          "height": 213
        }
      },
      "source": [
        "!head matchDump.csv"
      ],
      "execution_count": 4,
      "outputs": [
        {
          "output_type": "stream",
          "text": [
            "MatchId,MatchUrl,MatchDate,MatchDuration,MatchLadder,MatchMap,MatchMods,MatchPlayerId,MatchPlayerName,MatchPlayerTeam,MatchPlayerCivId,MatchPlayerCivName,MatchPlayerWinner,MatchPlayerPreRating,MatchPlayerPostRating,MatchPlayerRecording\r\n",
            "17827685,https://www.voobly.com/match/view/17827685,2018-05-27T18:14:00,520,Match Stats Only,=V= CBA Hero AC V13.scx,v1.5 Beta R6,123972487,___Oreo,1,9,Saracens,1,1584,1600,\r\n",
            "17827685,https://www.voobly.com/match/view/17827685,2018-05-27T18:14:00,520,Match Stats Only,=V= CBA Hero AC V13.scx,v1.5 Beta R6,125049367,___Dm,2,9,Saracens,0,1616,1600,\r\n",
            "17827728,https://www.voobly.com/match/view/17827728,2018-05-27T18:21:00,661,Match Stats Only,=V= CBA Hero AC V13.scx,v1.5 Beta R6,123972487,___Oreo,1,13,Celts,1,1584,1600,\r\n",
            "17827728,https://www.voobly.com/match/view/17827728,2018-05-27T18:21:00,661,Match Stats Only,=V= CBA Hero AC V13.scx,v1.5 Beta R6,125049367,___Dm,2,13,Celts,0,1616,1600,\r\n",
            "17832641,https://www.voobly.com/match/view/17832641,2018-05-28T11:25:00,762,Match Stats Only,=V= CBA Hero AC V13.scx,v1.5 Beta R6,124815560,SOOR_DARA,1,14,Spanish,1,1584,1600,\r\n",
            "17832641,https://www.voobly.com/match/view/17832641,2018-05-28T11:25:00,762,Match Stats Only,=V= CBA Hero AC V13.scx,v1.5 Beta R6,124693469,danyal__,2,14,Spanish,0,1616,1600,\r\n",
            "17839373,https://www.voobly.com/match/view/17839373,2018-05-29T17:04:00,1073,Match Stats Only,=V= TDII TeamBonus v3.scx,\"v1.5 Beta R6, TDII TeamBonus\",125043437,cRiukc,1,17,Huns,1,1584,1600,\r\n",
            "17839373,https://www.voobly.com/match/view/17839373,2018-05-29T17:04:00,1073,Match Stats Only,=V= TDII TeamBonus v3.scx,\"v1.5 Beta R6, TDII TeamBonus\",124157048,_SickBoy,2,16,Mayans,0,1616,1600,\r\n",
            "17839373,https://www.voobly.com/match/view/17839373,2018-05-29T17:04:00,1073,Match Stats Only,=V= TDII TeamBonus v3.scx,\"v1.5 Beta R6, TDII TeamBonus\",*VooblyErrorPlayerNotFound*,\"<td valign=\"\"bottom\"\">Atabeg Zangi (Computer)</td>\",*VooblyErrorPlayerNotFound*,*VooblyErrorPlayerNotFound*,*VooblyErrorPlayerNotFound*,*VooblyErrorPlayerNotFound*,*VooblyErrorPlayerNotFound*,*VooblyErrorPlayerNotFound*,*VooblyErrorPlayerNotFound*\r\n"
          ],
          "name": "stdout"
        }
      ]
    },
    {
      "cell_type": "code",
      "metadata": {
        "id": "V3h4Fq4YKIK0",
        "colab_type": "code",
        "outputId": "2a113c9b-2a82-4142-de78-bb2245cec1ee",
        "colab": {
          "base_uri": "https://localhost:8080/",
          "height": 34
        }
      },
      "source": [
        "# imports \n",
        "import matplotlib.pyplot as plt\n",
        "plt.rcParams['figure.dpi'] = 72\n",
        "import pandas as pd\n",
        "import seaborn as sns\n",
        "import category_encoders as ce\n",
        "from sklearn.ensemble import RandomForestClassifier\n",
        "from sklearn.tree import DecisionTreeClassifier\n",
        "from sklearn.pipeline import make_pipeline\n",
        "pd.options.display.max_rows = 999\n",
        "pd.options.display.max_columns = 100\n",
        "\n",
        "# drop columns with meta data that are useless\n",
        "df = pd.read_csv('matchDump.csv', header=0, engine='python')\n",
        "\n",
        "cols_to_keep = ['MatchId','MatchMods','MatchMap','MatchLadder','MatchDuration','MatchPlayerTeam','MatchPlayerCivId','MatchPlayerCivName','MatchPlayerWinner','MatchPlayerPreRating']\n",
        "\n",
        "df = df[cols_to_keep]\n",
        "\n",
        "df.shape\n"
      ],
      "execution_count": 78,
      "outputs": [
        {
          "output_type": "execute_result",
          "data": {
            "text/plain": [
              "(1263808, 10)"
            ]
          },
          "metadata": {
            "tags": []
          },
          "execution_count": 78
        }
      ]
    },
    {
      "cell_type": "code",
      "metadata": {
        "id": "_Jxq2LxCKMmg",
        "colab_type": "code",
        "outputId": "4d49ba1f-0841-4073-d948-e1bceec6f80f",
        "colab": {
          "base_uri": "https://localhost:8080/",
          "height": 389
        }
      },
      "source": [
        "df.head(5)"
      ],
      "execution_count": 79,
      "outputs": [
        {
          "output_type": "execute_result",
          "data": {
            "text/html": [
              "<div>\n",
              "<style scoped>\n",
              "    .dataframe tbody tr th:only-of-type {\n",
              "        vertical-align: middle;\n",
              "    }\n",
              "\n",
              "    .dataframe tbody tr th {\n",
              "        vertical-align: top;\n",
              "    }\n",
              "\n",
              "    .dataframe thead th {\n",
              "        text-align: right;\n",
              "    }\n",
              "</style>\n",
              "<table border=\"1\" class=\"dataframe\">\n",
              "  <thead>\n",
              "    <tr style=\"text-align: right;\">\n",
              "      <th></th>\n",
              "      <th>MatchId</th>\n",
              "      <th>MatchMods</th>\n",
              "      <th>MatchMap</th>\n",
              "      <th>MatchLadder</th>\n",
              "      <th>MatchDuration</th>\n",
              "      <th>MatchPlayerTeam</th>\n",
              "      <th>MatchPlayerCivId</th>\n",
              "      <th>MatchPlayerCivName</th>\n",
              "      <th>MatchPlayerWinner</th>\n",
              "      <th>MatchPlayerPreRating</th>\n",
              "    </tr>\n",
              "  </thead>\n",
              "  <tbody>\n",
              "    <tr>\n",
              "      <th>0</th>\n",
              "      <td>17827685</td>\n",
              "      <td>v1.5 Beta R6</td>\n",
              "      <td>=V= CBA Hero AC V13.scx</td>\n",
              "      <td>Match Stats Only</td>\n",
              "      <td>520</td>\n",
              "      <td>1</td>\n",
              "      <td>9</td>\n",
              "      <td>Saracens</td>\n",
              "      <td>1</td>\n",
              "      <td>1584</td>\n",
              "    </tr>\n",
              "    <tr>\n",
              "      <th>1</th>\n",
              "      <td>17827685</td>\n",
              "      <td>v1.5 Beta R6</td>\n",
              "      <td>=V= CBA Hero AC V13.scx</td>\n",
              "      <td>Match Stats Only</td>\n",
              "      <td>520</td>\n",
              "      <td>2</td>\n",
              "      <td>9</td>\n",
              "      <td>Saracens</td>\n",
              "      <td>0</td>\n",
              "      <td>1616</td>\n",
              "    </tr>\n",
              "    <tr>\n",
              "      <th>2</th>\n",
              "      <td>17827728</td>\n",
              "      <td>v1.5 Beta R6</td>\n",
              "      <td>=V= CBA Hero AC V13.scx</td>\n",
              "      <td>Match Stats Only</td>\n",
              "      <td>661</td>\n",
              "      <td>1</td>\n",
              "      <td>13</td>\n",
              "      <td>Celts</td>\n",
              "      <td>1</td>\n",
              "      <td>1584</td>\n",
              "    </tr>\n",
              "    <tr>\n",
              "      <th>3</th>\n",
              "      <td>17827728</td>\n",
              "      <td>v1.5 Beta R6</td>\n",
              "      <td>=V= CBA Hero AC V13.scx</td>\n",
              "      <td>Match Stats Only</td>\n",
              "      <td>661</td>\n",
              "      <td>2</td>\n",
              "      <td>13</td>\n",
              "      <td>Celts</td>\n",
              "      <td>0</td>\n",
              "      <td>1616</td>\n",
              "    </tr>\n",
              "    <tr>\n",
              "      <th>4</th>\n",
              "      <td>17832641</td>\n",
              "      <td>v1.5 Beta R6</td>\n",
              "      <td>=V= CBA Hero AC V13.scx</td>\n",
              "      <td>Match Stats Only</td>\n",
              "      <td>762</td>\n",
              "      <td>1</td>\n",
              "      <td>14</td>\n",
              "      <td>Spanish</td>\n",
              "      <td>1</td>\n",
              "      <td>1584</td>\n",
              "    </tr>\n",
              "  </tbody>\n",
              "</table>\n",
              "</div>"
            ],
            "text/plain": [
              "    MatchId     MatchMods                 MatchMap       MatchLadder  \\\n",
              "0  17827685  v1.5 Beta R6  =V= CBA Hero AC V13.scx  Match Stats Only   \n",
              "1  17827685  v1.5 Beta R6  =V= CBA Hero AC V13.scx  Match Stats Only   \n",
              "2  17827728  v1.5 Beta R6  =V= CBA Hero AC V13.scx  Match Stats Only   \n",
              "3  17827728  v1.5 Beta R6  =V= CBA Hero AC V13.scx  Match Stats Only   \n",
              "4  17832641  v1.5 Beta R6  =V= CBA Hero AC V13.scx  Match Stats Only   \n",
              "\n",
              "   MatchDuration MatchPlayerTeam MatchPlayerCivId MatchPlayerCivName  \\\n",
              "0            520               1                9           Saracens   \n",
              "1            520               2                9           Saracens   \n",
              "2            661               1               13              Celts   \n",
              "3            661               2               13              Celts   \n",
              "4            762               1               14            Spanish   \n",
              "\n",
              "  MatchPlayerWinner MatchPlayerPreRating  \n",
              "0                 1                 1584  \n",
              "1                 0                 1616  \n",
              "2                 1                 1584  \n",
              "3                 0                 1616  \n",
              "4                 1                 1584  "
            ]
          },
          "metadata": {
            "tags": []
          },
          "execution_count": 79
        }
      ]
    },
    {
      "cell_type": "markdown",
      "metadata": {
        "id": "nj3sWMupLhK4",
        "colab_type": "text"
      },
      "source": [
        "# Choose Target"
      ]
    },
    {
      "cell_type": "code",
      "metadata": {
        "id": "ExrMJgtHKplz",
        "colab_type": "code",
        "colab": {}
      },
      "source": [
        "# I want to predict which player wins\n",
        "\n",
        "target = 'MatchPlayerWinner'\n",
        "\n",
        "# This is 50/50 since odds are P1 and evens are P2 for a baseline"
      ],
      "execution_count": 0,
      "outputs": []
    },
    {
      "cell_type": "code",
      "metadata": {
        "id": "tnc3ar8fLyto",
        "colab_type": "code",
        "outputId": "27078a24-a6fd-4350-f160-4145f252d2ec",
        "colab": {
          "base_uri": "https://localhost:8080/",
          "height": 105
        }
      },
      "source": [
        "df[target].describe()"
      ],
      "execution_count": 81,
      "outputs": [
        {
          "output_type": "execute_result",
          "data": {
            "text/plain": [
              "count     1263808\n",
              "unique          3\n",
              "top             0\n",
              "freq       647589\n",
              "Name: MatchPlayerWinner, dtype: object"
            ]
          },
          "metadata": {
            "tags": []
          },
          "execution_count": 81
        }
      ]
    },
    {
      "cell_type": "code",
      "metadata": {
        "id": "7IhBk2F1L4Od",
        "colab_type": "code",
        "outputId": "1be41fe1-22a4-410d-9fc1-3eca3a46968a",
        "colab": {
          "base_uri": "https://localhost:8080/",
          "height": 122
        }
      },
      "source": [
        "df['MatchLadder'].value_counts()"
      ],
      "execution_count": 82,
      "outputs": [
        {
          "output_type": "execute_result",
          "data": {
            "text/plain": [
              "RM - Team           723786\n",
              "RM - 1v1            411718\n",
              "Match Stats Only     81083\n",
              "DM - Team            40249\n",
              "DM - 1v1              6972\n",
              "Name: MatchLadder, dtype: int64"
            ]
          },
          "metadata": {
            "tags": []
          },
          "execution_count": 82
        }
      ]
    },
    {
      "cell_type": "code",
      "metadata": {
        "id": "YwD4fGN5MfFu",
        "colab_type": "code",
        "outputId": "1bc0c9ec-1871-4c11-e6cd-bd13e53dce22",
        "colab": {
          "base_uri": "https://localhost:8080/",
          "height": 199
        }
      },
      "source": [
        "# only do 1v1 on random map game mode\n",
        "\n",
        "rm_1v1 = df[df['MatchLadder'] == 'RM - 1v1']\n",
        "\n",
        "# remove ones with errors\n",
        "\n",
        "rm_1v1 = rm_1v1[rm_1v1.MatchPlayerPreRating != '*VooblyErrorPlayerNotFound*']\n",
        "\n",
        "# drop matchladder now since it's all the same\n",
        "\n",
        "rm_1v1 = rm_1v1.drop(labels=['MatchLadder','MatchPlayerCivName','MatchPlayerTeam'], axis=1)\n",
        "\n",
        "rm_1v1.head()"
      ],
      "execution_count": 83,
      "outputs": [
        {
          "output_type": "execute_result",
          "data": {
            "text/html": [
              "<div>\n",
              "<style scoped>\n",
              "    .dataframe tbody tr th:only-of-type {\n",
              "        vertical-align: middle;\n",
              "    }\n",
              "\n",
              "    .dataframe tbody tr th {\n",
              "        vertical-align: top;\n",
              "    }\n",
              "\n",
              "    .dataframe thead th {\n",
              "        text-align: right;\n",
              "    }\n",
              "</style>\n",
              "<table border=\"1\" class=\"dataframe\">\n",
              "  <thead>\n",
              "    <tr style=\"text-align: right;\">\n",
              "      <th></th>\n",
              "      <th>MatchId</th>\n",
              "      <th>MatchMods</th>\n",
              "      <th>MatchMap</th>\n",
              "      <th>MatchDuration</th>\n",
              "      <th>MatchPlayerCivId</th>\n",
              "      <th>MatchPlayerWinner</th>\n",
              "      <th>MatchPlayerPreRating</th>\n",
              "    </tr>\n",
              "  </thead>\n",
              "  <tbody>\n",
              "    <tr>\n",
              "      <th>728</th>\n",
              "      <td>18658367</td>\n",
              "      <td>v1.5 Beta R7, WololoKingdoms</td>\n",
              "      <td>Arabia</td>\n",
              "      <td>1055</td>\n",
              "      <td>16</td>\n",
              "      <td>1</td>\n",
              "      <td>1599</td>\n",
              "    </tr>\n",
              "    <tr>\n",
              "      <th>729</th>\n",
              "      <td>18658367</td>\n",
              "      <td>v1.5 Beta R7, WololoKingdoms</td>\n",
              "      <td>Arabia</td>\n",
              "      <td>1055</td>\n",
              "      <td>11</td>\n",
              "      <td>0</td>\n",
              "      <td>1600</td>\n",
              "    </tr>\n",
              "    <tr>\n",
              "      <th>730</th>\n",
              "      <td>18658419</td>\n",
              "      <td>1.4 RC</td>\n",
              "      <td>Custom</td>\n",
              "      <td>3361</td>\n",
              "      <td>18</td>\n",
              "      <td>1</td>\n",
              "      <td>1629</td>\n",
              "    </tr>\n",
              "    <tr>\n",
              "      <th>731</th>\n",
              "      <td>18658419</td>\n",
              "      <td>1.4 RC</td>\n",
              "      <td>Custom</td>\n",
              "      <td>3361</td>\n",
              "      <td>17</td>\n",
              "      <td>0</td>\n",
              "      <td>1548</td>\n",
              "    </tr>\n",
              "    <tr>\n",
              "      <th>732</th>\n",
              "      <td>18658476</td>\n",
              "      <td>v1.5 Beta R7, WololoKingdoms</td>\n",
              "      <td>Nomad</td>\n",
              "      <td>3369</td>\n",
              "      <td>6</td>\n",
              "      <td>1</td>\n",
              "      <td>1975</td>\n",
              "    </tr>\n",
              "  </tbody>\n",
              "</table>\n",
              "</div>"
            ],
            "text/plain": [
              "      MatchId                     MatchMods MatchMap  MatchDuration  \\\n",
              "728  18658367  v1.5 Beta R7, WololoKingdoms   Arabia           1055   \n",
              "729  18658367  v1.5 Beta R7, WololoKingdoms   Arabia           1055   \n",
              "730  18658419                        1.4 RC   Custom           3361   \n",
              "731  18658419                        1.4 RC   Custom           3361   \n",
              "732  18658476  v1.5 Beta R7, WololoKingdoms    Nomad           3369   \n",
              "\n",
              "    MatchPlayerCivId MatchPlayerWinner MatchPlayerPreRating  \n",
              "728               16                 1                 1599  \n",
              "729               11                 0                 1600  \n",
              "730               18                 1                 1629  \n",
              "731               17                 0                 1548  \n",
              "732                6                 1                 1975  "
            ]
          },
          "metadata": {
            "tags": []
          },
          "execution_count": 83
        }
      ]
    },
    {
      "cell_type": "code",
      "metadata": {
        "id": "Q9tvqFh4zNH4",
        "colab_type": "code",
        "outputId": "2552aae0-bdbf-4549-fe5b-bf7edd9d82e2",
        "colab": {
          "base_uri": "https://localhost:8080/",
          "height": 157
        }
      },
      "source": [
        "rm_1v1.dtypes"
      ],
      "execution_count": 84,
      "outputs": [
        {
          "output_type": "execute_result",
          "data": {
            "text/plain": [
              "MatchId                  int64\n",
              "MatchMods               object\n",
              "MatchMap                object\n",
              "MatchDuration            int64\n",
              "MatchPlayerCivId        object\n",
              "MatchPlayerWinner       object\n",
              "MatchPlayerPreRating    object\n",
              "dtype: object"
            ]
          },
          "metadata": {
            "tags": []
          },
          "execution_count": 84
        }
      ]
    },
    {
      "cell_type": "code",
      "metadata": {
        "id": "P_nyOFAXyXHC",
        "colab_type": "code",
        "colab": {}
      },
      "source": [
        "rm_1v1['MatchPlayerCivId'] = rm_1v1['MatchPlayerCivId'].astype(int)\n",
        "rm_1v1['MatchPlayerWinner'] = rm_1v1['MatchPlayerWinner'].astype(int)\n",
        "rm_1v1['MatchPlayerPreRating'] = rm_1v1['MatchPlayerPreRating'].astype(int)"
      ],
      "execution_count": 0,
      "outputs": []
    },
    {
      "cell_type": "code",
      "metadata": {
        "id": "fSo8PJieyZjR",
        "colab_type": "code",
        "outputId": "d6099d4a-6528-4b72-f610-4c6b1344c456",
        "colab": {
          "base_uri": "https://localhost:8080/",
          "height": 157
        }
      },
      "source": [
        "rm_1v1.dtypes "
      ],
      "execution_count": 86,
      "outputs": [
        {
          "output_type": "execute_result",
          "data": {
            "text/plain": [
              "MatchId                  int64\n",
              "MatchMods               object\n",
              "MatchMap                object\n",
              "MatchDuration            int64\n",
              "MatchPlayerCivId         int64\n",
              "MatchPlayerWinner        int64\n",
              "MatchPlayerPreRating     int64\n",
              "dtype: object"
            ]
          },
          "metadata": {
            "tags": []
          },
          "execution_count": 86
        }
      ]
    },
    {
      "cell_type": "code",
      "metadata": {
        "id": "oVPkSv2wP9bi",
        "colab_type": "code",
        "outputId": "dba80917-cc5e-4b30-aa3f-c24503e67e48",
        "colab": {
          "base_uri": "https://localhost:8080/",
          "height": 105
        }
      },
      "source": [
        "rm_1v1['MatchMods'].describe()"
      ],
      "execution_count": 87,
      "outputs": [
        {
          "output_type": "execute_result",
          "data": {
            "text/plain": [
              "count                           411632\n",
              "unique                              40\n",
              "top       v1.5 Beta R7, WololoKingdoms\n",
              "freq                            293214\n",
              "Name: MatchMods, dtype: object"
            ]
          },
          "metadata": {
            "tags": []
          },
          "execution_count": 87
        }
      ]
    },
    {
      "cell_type": "code",
      "metadata": {
        "id": "zvdO8GNj0WGp",
        "colab_type": "code",
        "outputId": "0d84e717-2c84-4a40-deb7-1262f4994515",
        "colab": {
          "base_uri": "https://localhost:8080/",
          "height": 105
        }
      },
      "source": [
        "rm_1v1['MatchMap'].describe()"
      ],
      "execution_count": 88,
      "outputs": [
        {
          "output_type": "execute_result",
          "data": {
            "text/plain": [
              "count     411632\n",
              "unique        57\n",
              "top       Arabia\n",
              "freq      274278\n",
              "Name: MatchMap, dtype: object"
            ]
          },
          "metadata": {
            "tags": []
          },
          "execution_count": 88
        }
      ]
    },
    {
      "cell_type": "code",
      "metadata": {
        "id": "xKbSuIu3QCMh",
        "colab_type": "code",
        "outputId": "c6af347c-4e7b-4731-f1d0-f2dfa368eed6",
        "colab": {
          "base_uri": "https://localhost:8080/",
          "height": 199
        }
      },
      "source": [
        "rm_1v1.tail()"
      ],
      "execution_count": 89,
      "outputs": [
        {
          "output_type": "execute_result",
          "data": {
            "text/html": [
              "<div>\n",
              "<style scoped>\n",
              "    .dataframe tbody tr th:only-of-type {\n",
              "        vertical-align: middle;\n",
              "    }\n",
              "\n",
              "    .dataframe tbody tr th {\n",
              "        vertical-align: top;\n",
              "    }\n",
              "\n",
              "    .dataframe thead th {\n",
              "        text-align: right;\n",
              "    }\n",
              "</style>\n",
              "<table border=\"1\" class=\"dataframe\">\n",
              "  <thead>\n",
              "    <tr style=\"text-align: right;\">\n",
              "      <th></th>\n",
              "      <th>MatchId</th>\n",
              "      <th>MatchMods</th>\n",
              "      <th>MatchMap</th>\n",
              "      <th>MatchDuration</th>\n",
              "      <th>MatchPlayerCivId</th>\n",
              "      <th>MatchPlayerWinner</th>\n",
              "      <th>MatchPlayerPreRating</th>\n",
              "    </tr>\n",
              "  </thead>\n",
              "  <tbody>\n",
              "    <tr>\n",
              "      <th>1263771</th>\n",
              "      <td>19250562</td>\n",
              "      <td>v1.5 Beta R7, WololoKingdoms</td>\n",
              "      <td>Arabia</td>\n",
              "      <td>4797</td>\n",
              "      <td>8</td>\n",
              "      <td>0</td>\n",
              "      <td>1695</td>\n",
              "    </tr>\n",
              "    <tr>\n",
              "      <th>1263772</th>\n",
              "      <td>19250571</td>\n",
              "      <td>v1.5 Beta R7, WololoKingdoms</td>\n",
              "      <td>Custom</td>\n",
              "      <td>2501</td>\n",
              "      <td>13</td>\n",
              "      <td>1</td>\n",
              "      <td>1933</td>\n",
              "    </tr>\n",
              "    <tr>\n",
              "      <th>1263773</th>\n",
              "      <td>19250571</td>\n",
              "      <td>v1.5 Beta R7, WololoKingdoms</td>\n",
              "      <td>Custom</td>\n",
              "      <td>2501</td>\n",
              "      <td>12</td>\n",
              "      <td>0</td>\n",
              "      <td>1909</td>\n",
              "    </tr>\n",
              "    <tr>\n",
              "      <th>1263774</th>\n",
              "      <td>19250581</td>\n",
              "      <td>v1.5 Beta R7, WololoKingdoms</td>\n",
              "      <td>Custom</td>\n",
              "      <td>4080</td>\n",
              "      <td>24</td>\n",
              "      <td>1</td>\n",
              "      <td>1542</td>\n",
              "    </tr>\n",
              "    <tr>\n",
              "      <th>1263775</th>\n",
              "      <td>19250581</td>\n",
              "      <td>v1.5 Beta R7, WololoKingdoms</td>\n",
              "      <td>Custom</td>\n",
              "      <td>4080</td>\n",
              "      <td>19</td>\n",
              "      <td>0</td>\n",
              "      <td>1479</td>\n",
              "    </tr>\n",
              "  </tbody>\n",
              "</table>\n",
              "</div>"
            ],
            "text/plain": [
              "          MatchId                     MatchMods MatchMap  MatchDuration  \\\n",
              "1263771  19250562  v1.5 Beta R7, WololoKingdoms   Arabia           4797   \n",
              "1263772  19250571  v1.5 Beta R7, WololoKingdoms   Custom           2501   \n",
              "1263773  19250571  v1.5 Beta R7, WololoKingdoms   Custom           2501   \n",
              "1263774  19250581  v1.5 Beta R7, WololoKingdoms   Custom           4080   \n",
              "1263775  19250581  v1.5 Beta R7, WololoKingdoms   Custom           4080   \n",
              "\n",
              "         MatchPlayerCivId  MatchPlayerWinner  MatchPlayerPreRating  \n",
              "1263771                 8                  0                  1695  \n",
              "1263772                13                  1                  1933  \n",
              "1263773                12                  0                  1909  \n",
              "1263774                24                  1                  1542  \n",
              "1263775                19                  0                  1479  "
            ]
          },
          "metadata": {
            "tags": []
          },
          "execution_count": 89
        }
      ]
    },
    {
      "cell_type": "code",
      "metadata": {
        "id": "reFDWJ-NQq_s",
        "colab_type": "code",
        "outputId": "d306317c-bc9e-475c-96ac-564d40637998",
        "colab": {
          "base_uri": "https://localhost:8080/",
          "height": 34
        }
      },
      "source": [
        "y = rm_1v1[target]\n",
        "\n",
        "y.nunique()"
      ],
      "execution_count": 90,
      "outputs": [
        {
          "output_type": "execute_result",
          "data": {
            "text/plain": [
              "2"
            ]
          },
          "metadata": {
            "tags": []
          },
          "execution_count": 90
        }
      ]
    },
    {
      "cell_type": "code",
      "metadata": {
        "id": "yBqsdVSIUARU",
        "colab_type": "code",
        "outputId": "c5557c3f-378a-4949-dd1f-c63f8e13876b",
        "colab": {
          "base_uri": "https://localhost:8080/",
          "height": 70
        }
      },
      "source": [
        "y.value_counts() # baseline is 50/50 since only P1 or P2 can win a 1v1"
      ],
      "execution_count": 91,
      "outputs": [
        {
          "output_type": "execute_result",
          "data": {
            "text/plain": [
              "1    205816\n",
              "0    205816\n",
              "Name: MatchPlayerWinner, dtype: int64"
            ]
          },
          "metadata": {
            "tags": []
          },
          "execution_count": 91
        }
      ]
    },
    {
      "cell_type": "code",
      "metadata": {
        "id": "zlu0hPt2abDI",
        "colab_type": "code",
        "outputId": "a8bc19be-ea6c-40df-c6da-6ab224d75683",
        "colab": {
          "base_uri": "https://localhost:8080/",
          "height": 34
        }
      },
      "source": [
        "# re-arranging dataframe since right now, odd player always wins which makes the model always guess player one wins\n",
        "\n",
        "first_players = rm_1v1[::2]\n",
        "second_players = rm_1v1[1::2]\n",
        "\n",
        "\n",
        "first_players.shape, second_players.shape"
      ],
      "execution_count": 92,
      "outputs": [
        {
          "output_type": "execute_result",
          "data": {
            "text/plain": [
              "((205816, 7), (205816, 7))"
            ]
          },
          "metadata": {
            "tags": []
          },
          "execution_count": 92
        }
      ]
    },
    {
      "cell_type": "code",
      "metadata": {
        "id": "PnEvNQyn5AuH",
        "colab_type": "code",
        "outputId": "1bfd57bd-2d85-4439-e439-563deedf52ee",
        "colab": {
          "base_uri": "https://localhost:8080/",
          "height": 199
        }
      },
      "source": [
        "first_players.head()"
      ],
      "execution_count": 93,
      "outputs": [
        {
          "output_type": "execute_result",
          "data": {
            "text/html": [
              "<div>\n",
              "<style scoped>\n",
              "    .dataframe tbody tr th:only-of-type {\n",
              "        vertical-align: middle;\n",
              "    }\n",
              "\n",
              "    .dataframe tbody tr th {\n",
              "        vertical-align: top;\n",
              "    }\n",
              "\n",
              "    .dataframe thead th {\n",
              "        text-align: right;\n",
              "    }\n",
              "</style>\n",
              "<table border=\"1\" class=\"dataframe\">\n",
              "  <thead>\n",
              "    <tr style=\"text-align: right;\">\n",
              "      <th></th>\n",
              "      <th>MatchId</th>\n",
              "      <th>MatchMods</th>\n",
              "      <th>MatchMap</th>\n",
              "      <th>MatchDuration</th>\n",
              "      <th>MatchPlayerCivId</th>\n",
              "      <th>MatchPlayerWinner</th>\n",
              "      <th>MatchPlayerPreRating</th>\n",
              "    </tr>\n",
              "  </thead>\n",
              "  <tbody>\n",
              "    <tr>\n",
              "      <th>728</th>\n",
              "      <td>18658367</td>\n",
              "      <td>v1.5 Beta R7, WololoKingdoms</td>\n",
              "      <td>Arabia</td>\n",
              "      <td>1055</td>\n",
              "      <td>16</td>\n",
              "      <td>1</td>\n",
              "      <td>1599</td>\n",
              "    </tr>\n",
              "    <tr>\n",
              "      <th>730</th>\n",
              "      <td>18658419</td>\n",
              "      <td>1.4 RC</td>\n",
              "      <td>Custom</td>\n",
              "      <td>3361</td>\n",
              "      <td>18</td>\n",
              "      <td>1</td>\n",
              "      <td>1629</td>\n",
              "    </tr>\n",
              "    <tr>\n",
              "      <th>732</th>\n",
              "      <td>18658476</td>\n",
              "      <td>v1.5 Beta R7, WololoKingdoms</td>\n",
              "      <td>Nomad</td>\n",
              "      <td>3369</td>\n",
              "      <td>6</td>\n",
              "      <td>1</td>\n",
              "      <td>1975</td>\n",
              "    </tr>\n",
              "    <tr>\n",
              "      <th>734</th>\n",
              "      <td>18658489</td>\n",
              "      <td>1.4 RC</td>\n",
              "      <td>Custom</td>\n",
              "      <td>1891</td>\n",
              "      <td>12</td>\n",
              "      <td>1</td>\n",
              "      <td>1415</td>\n",
              "    </tr>\n",
              "    <tr>\n",
              "      <th>736</th>\n",
              "      <td>18658492</td>\n",
              "      <td>v1.5 Beta R7, WololoKingdoms</td>\n",
              "      <td>Custom</td>\n",
              "      <td>3832</td>\n",
              "      <td>22</td>\n",
              "      <td>1</td>\n",
              "      <td>1385</td>\n",
              "    </tr>\n",
              "  </tbody>\n",
              "</table>\n",
              "</div>"
            ],
            "text/plain": [
              "      MatchId                     MatchMods MatchMap  MatchDuration  \\\n",
              "728  18658367  v1.5 Beta R7, WololoKingdoms   Arabia           1055   \n",
              "730  18658419                        1.4 RC   Custom           3361   \n",
              "732  18658476  v1.5 Beta R7, WololoKingdoms    Nomad           3369   \n",
              "734  18658489                        1.4 RC   Custom           1891   \n",
              "736  18658492  v1.5 Beta R7, WololoKingdoms   Custom           3832   \n",
              "\n",
              "     MatchPlayerCivId  MatchPlayerWinner  MatchPlayerPreRating  \n",
              "728                16                  1                  1599  \n",
              "730                18                  1                  1629  \n",
              "732                 6                  1                  1975  \n",
              "734                12                  1                  1415  \n",
              "736                22                  1                  1385  "
            ]
          },
          "metadata": {
            "tags": []
          },
          "execution_count": 93
        }
      ]
    },
    {
      "cell_type": "code",
      "metadata": {
        "id": "c4ojEtLi5DY7",
        "colab_type": "code",
        "outputId": "68b4c5fb-441f-4768-efa8-4b52611682aa",
        "colab": {
          "base_uri": "https://localhost:8080/",
          "height": 199
        }
      },
      "source": [
        "second_players.head()"
      ],
      "execution_count": 94,
      "outputs": [
        {
          "output_type": "execute_result",
          "data": {
            "text/html": [
              "<div>\n",
              "<style scoped>\n",
              "    .dataframe tbody tr th:only-of-type {\n",
              "        vertical-align: middle;\n",
              "    }\n",
              "\n",
              "    .dataframe tbody tr th {\n",
              "        vertical-align: top;\n",
              "    }\n",
              "\n",
              "    .dataframe thead th {\n",
              "        text-align: right;\n",
              "    }\n",
              "</style>\n",
              "<table border=\"1\" class=\"dataframe\">\n",
              "  <thead>\n",
              "    <tr style=\"text-align: right;\">\n",
              "      <th></th>\n",
              "      <th>MatchId</th>\n",
              "      <th>MatchMods</th>\n",
              "      <th>MatchMap</th>\n",
              "      <th>MatchDuration</th>\n",
              "      <th>MatchPlayerCivId</th>\n",
              "      <th>MatchPlayerWinner</th>\n",
              "      <th>MatchPlayerPreRating</th>\n",
              "    </tr>\n",
              "  </thead>\n",
              "  <tbody>\n",
              "    <tr>\n",
              "      <th>729</th>\n",
              "      <td>18658367</td>\n",
              "      <td>v1.5 Beta R7, WololoKingdoms</td>\n",
              "      <td>Arabia</td>\n",
              "      <td>1055</td>\n",
              "      <td>11</td>\n",
              "      <td>0</td>\n",
              "      <td>1600</td>\n",
              "    </tr>\n",
              "    <tr>\n",
              "      <th>731</th>\n",
              "      <td>18658419</td>\n",
              "      <td>1.4 RC</td>\n",
              "      <td>Custom</td>\n",
              "      <td>3361</td>\n",
              "      <td>17</td>\n",
              "      <td>0</td>\n",
              "      <td>1548</td>\n",
              "    </tr>\n",
              "    <tr>\n",
              "      <th>733</th>\n",
              "      <td>18658476</td>\n",
              "      <td>v1.5 Beta R7, WololoKingdoms</td>\n",
              "      <td>Nomad</td>\n",
              "      <td>3369</td>\n",
              "      <td>17</td>\n",
              "      <td>0</td>\n",
              "      <td>2065</td>\n",
              "    </tr>\n",
              "    <tr>\n",
              "      <th>735</th>\n",
              "      <td>18658489</td>\n",
              "      <td>1.4 RC</td>\n",
              "      <td>Custom</td>\n",
              "      <td>1891</td>\n",
              "      <td>18</td>\n",
              "      <td>0</td>\n",
              "      <td>1535</td>\n",
              "    </tr>\n",
              "    <tr>\n",
              "      <th>737</th>\n",
              "      <td>18658492</td>\n",
              "      <td>v1.5 Beta R7, WololoKingdoms</td>\n",
              "      <td>Custom</td>\n",
              "      <td>3832</td>\n",
              "      <td>8</td>\n",
              "      <td>0</td>\n",
              "      <td>1600</td>\n",
              "    </tr>\n",
              "  </tbody>\n",
              "</table>\n",
              "</div>"
            ],
            "text/plain": [
              "      MatchId                     MatchMods MatchMap  MatchDuration  \\\n",
              "729  18658367  v1.5 Beta R7, WololoKingdoms   Arabia           1055   \n",
              "731  18658419                        1.4 RC   Custom           3361   \n",
              "733  18658476  v1.5 Beta R7, WololoKingdoms    Nomad           3369   \n",
              "735  18658489                        1.4 RC   Custom           1891   \n",
              "737  18658492  v1.5 Beta R7, WololoKingdoms   Custom           3832   \n",
              "\n",
              "     MatchPlayerCivId  MatchPlayerWinner  MatchPlayerPreRating  \n",
              "729                11                  0                  1600  \n",
              "731                17                  0                  1548  \n",
              "733                17                  0                  2065  \n",
              "735                18                  0                  1535  \n",
              "737                 8                  0                  1600  "
            ]
          },
          "metadata": {
            "tags": []
          },
          "execution_count": 94
        }
      ]
    },
    {
      "cell_type": "code",
      "metadata": {
        "id": "qYUVvUAMQMR9",
        "colab_type": "code",
        "outputId": "655c76ee-f65a-460e-f2be-065edfc8fd3a",
        "colab": {
          "base_uri": "https://localhost:8080/",
          "height": 199
        }
      },
      "source": [
        "p2_names = {\n",
        "    \"MatchPlayerCivId\" : \"MatchPlayerCivId2\",\n",
        "    \"MatchPlayerPreRating\" : \"MatchPlayerPreRating2\",\n",
        "    \"MatchPlayerPostRating\" : \"MatchPlayerPostRating2\"\n",
        "}\n",
        "\n",
        "second_players = second_players.rename(columns=p2_names)\n",
        "\n",
        "drop_cols = ['MatchMods','MatchDuration','MatchPlayerWinner', 'MatchMap']\n",
        "second_players = second_players.drop(labels=drop_cols, axis=1)\n",
        "\n",
        "second_players.head()"
      ],
      "execution_count": 95,
      "outputs": [
        {
          "output_type": "execute_result",
          "data": {
            "text/html": [
              "<div>\n",
              "<style scoped>\n",
              "    .dataframe tbody tr th:only-of-type {\n",
              "        vertical-align: middle;\n",
              "    }\n",
              "\n",
              "    .dataframe tbody tr th {\n",
              "        vertical-align: top;\n",
              "    }\n",
              "\n",
              "    .dataframe thead th {\n",
              "        text-align: right;\n",
              "    }\n",
              "</style>\n",
              "<table border=\"1\" class=\"dataframe\">\n",
              "  <thead>\n",
              "    <tr style=\"text-align: right;\">\n",
              "      <th></th>\n",
              "      <th>MatchId</th>\n",
              "      <th>MatchPlayerCivId2</th>\n",
              "      <th>MatchPlayerPreRating2</th>\n",
              "    </tr>\n",
              "  </thead>\n",
              "  <tbody>\n",
              "    <tr>\n",
              "      <th>729</th>\n",
              "      <td>18658367</td>\n",
              "      <td>11</td>\n",
              "      <td>1600</td>\n",
              "    </tr>\n",
              "    <tr>\n",
              "      <th>731</th>\n",
              "      <td>18658419</td>\n",
              "      <td>17</td>\n",
              "      <td>1548</td>\n",
              "    </tr>\n",
              "    <tr>\n",
              "      <th>733</th>\n",
              "      <td>18658476</td>\n",
              "      <td>17</td>\n",
              "      <td>2065</td>\n",
              "    </tr>\n",
              "    <tr>\n",
              "      <th>735</th>\n",
              "      <td>18658489</td>\n",
              "      <td>18</td>\n",
              "      <td>1535</td>\n",
              "    </tr>\n",
              "    <tr>\n",
              "      <th>737</th>\n",
              "      <td>18658492</td>\n",
              "      <td>8</td>\n",
              "      <td>1600</td>\n",
              "    </tr>\n",
              "  </tbody>\n",
              "</table>\n",
              "</div>"
            ],
            "text/plain": [
              "      MatchId  MatchPlayerCivId2  MatchPlayerPreRating2\n",
              "729  18658367                 11                   1600\n",
              "731  18658419                 17                   1548\n",
              "733  18658476                 17                   2065\n",
              "735  18658489                 18                   1535\n",
              "737  18658492                  8                   1600"
            ]
          },
          "metadata": {
            "tags": []
          },
          "execution_count": 95
        }
      ]
    },
    {
      "cell_type": "code",
      "metadata": {
        "id": "rqitzCLLXHMk",
        "colab_type": "code",
        "colab": {}
      },
      "source": [
        "# merge first and second players so each row has match data for both players since\n",
        "# the features we care about are relative like their relative elo difference\n",
        "\n",
        "rm_1v1 = first_players.merge(second_players, on='MatchId')\n"
      ],
      "execution_count": 0,
      "outputs": []
    },
    {
      "cell_type": "code",
      "metadata": {
        "id": "LV7xypp7wK0U",
        "colab_type": "code",
        "colab": {}
      },
      "source": [
        "# set matchID as index\n",
        "\n",
        "rm_1v1 = rm_1v1.set_index('MatchId')"
      ],
      "execution_count": 0,
      "outputs": []
    },
    {
      "cell_type": "code",
      "metadata": {
        "id": "ejHhsqrwIIdH",
        "colab_type": "code",
        "outputId": "b8031023-234d-44ee-c90c-a561fb084a63",
        "colab": {
          "base_uri": "https://localhost:8080/",
          "height": 334
        }
      },
      "source": [
        "# split set in half and reverse P1 and P2 in second half\n",
        "# so half of the data has P1 and P2 as winner\n",
        "\n",
        "from sklearn.model_selection import train_test_split\n",
        "\n",
        "fst, snd = train_test_split(rm_1v1, train_size=0.5, test_size=0.5)\n",
        "\n",
        "fst.shape, snd.shape\n",
        "\n",
        "snd_names = {\n",
        "    \"MatchPlayerCivId\" : \"MatchPlayerCivId2\",\n",
        "    \"MatchPlayerPreRating\" : \"MatchPlayerPreRating2\",\n",
        "    \"MatchPlayerPostRating\" : \"MatchPlayerPostRating2\",\n",
        "    \"MatchPlayerCivId2\" : \"MatchPlayerCivId\",\n",
        "    \"MatchPlayerPreRating2\" : \"MatchPlayerPreRating\",\n",
        "    \"MatchPlayerPostRating2\" : \"MatchPlayerPostRating\"\n",
        "}\n",
        "\n",
        "snd = snd.rename(columns=snd_names)\n",
        "snd['MatchPlayerWinner'] = snd['MatchPlayerWinner'].map({1:0})\n",
        "\n",
        "snd = snd.fillna(0)\n",
        "\n",
        "snd.head()\n"
      ],
      "execution_count": 98,
      "outputs": [
        {
          "output_type": "execute_result",
          "data": {
            "text/html": [
              "<div>\n",
              "<style scoped>\n",
              "    .dataframe tbody tr th:only-of-type {\n",
              "        vertical-align: middle;\n",
              "    }\n",
              "\n",
              "    .dataframe tbody tr th {\n",
              "        vertical-align: top;\n",
              "    }\n",
              "\n",
              "    .dataframe thead th {\n",
              "        text-align: right;\n",
              "    }\n",
              "</style>\n",
              "<table border=\"1\" class=\"dataframe\">\n",
              "  <thead>\n",
              "    <tr style=\"text-align: right;\">\n",
              "      <th></th>\n",
              "      <th>MatchMods</th>\n",
              "      <th>MatchMap</th>\n",
              "      <th>MatchDuration</th>\n",
              "      <th>MatchPlayerCivId2</th>\n",
              "      <th>MatchPlayerWinner</th>\n",
              "      <th>MatchPlayerPreRating2</th>\n",
              "      <th>MatchPlayerCivId</th>\n",
              "      <th>MatchPlayerPreRating</th>\n",
              "    </tr>\n",
              "    <tr>\n",
              "      <th>MatchId</th>\n",
              "      <th></th>\n",
              "      <th></th>\n",
              "      <th></th>\n",
              "      <th></th>\n",
              "      <th></th>\n",
              "      <th></th>\n",
              "      <th></th>\n",
              "      <th></th>\n",
              "    </tr>\n",
              "  </thead>\n",
              "  <tbody>\n",
              "    <tr>\n",
              "      <th>19044674</th>\n",
              "      <td>v1.5 Beta R7, Small Trees - N</td>\n",
              "      <td>Nomad</td>\n",
              "      <td>2066</td>\n",
              "      <td>14</td>\n",
              "      <td>0</td>\n",
              "      <td>1669</td>\n",
              "      <td>18</td>\n",
              "      <td>1625</td>\n",
              "    </tr>\n",
              "    <tr>\n",
              "      <th>19191267</th>\n",
              "      <td>v1.5 Beta R7, WololoKingdoms</td>\n",
              "      <td>Arabia</td>\n",
              "      <td>871</td>\n",
              "      <td>29</td>\n",
              "      <td>0</td>\n",
              "      <td>1751</td>\n",
              "      <td>13</td>\n",
              "      <td>1690</td>\n",
              "    </tr>\n",
              "    <tr>\n",
              "      <th>18781992</th>\n",
              "      <td>v1.5 Beta R7, WololoKingdoms</td>\n",
              "      <td>Custom</td>\n",
              "      <td>1697</td>\n",
              "      <td>23</td>\n",
              "      <td>0</td>\n",
              "      <td>2382</td>\n",
              "      <td>26</td>\n",
              "      <td>2427</td>\n",
              "    </tr>\n",
              "    <tr>\n",
              "      <th>19070033</th>\n",
              "      <td>v1.5 Beta R7, WololoKingdoms</td>\n",
              "      <td>Arabia</td>\n",
              "      <td>2724</td>\n",
              "      <td>7</td>\n",
              "      <td>0</td>\n",
              "      <td>1610</td>\n",
              "      <td>26</td>\n",
              "      <td>1594</td>\n",
              "    </tr>\n",
              "    <tr>\n",
              "      <th>18841274</th>\n",
              "      <td>v1.5 Beta R7, WololoKingdoms</td>\n",
              "      <td>Arabia</td>\n",
              "      <td>1640</td>\n",
              "      <td>27</td>\n",
              "      <td>0</td>\n",
              "      <td>1750</td>\n",
              "      <td>9</td>\n",
              "      <td>1711</td>\n",
              "    </tr>\n",
              "  </tbody>\n",
              "</table>\n",
              "</div>"
            ],
            "text/plain": [
              "                              MatchMods MatchMap  MatchDuration  \\\n",
              "MatchId                                                           \n",
              "19044674  v1.5 Beta R7, Small Trees - N    Nomad           2066   \n",
              "19191267   v1.5 Beta R7, WololoKingdoms   Arabia            871   \n",
              "18781992   v1.5 Beta R7, WololoKingdoms   Custom           1697   \n",
              "19070033   v1.5 Beta R7, WololoKingdoms   Arabia           2724   \n",
              "18841274   v1.5 Beta R7, WololoKingdoms   Arabia           1640   \n",
              "\n",
              "          MatchPlayerCivId2  MatchPlayerWinner  MatchPlayerPreRating2  \\\n",
              "MatchId                                                                 \n",
              "19044674                 14                  0                   1669   \n",
              "19191267                 29                  0                   1751   \n",
              "18781992                 23                  0                   2382   \n",
              "19070033                  7                  0                   1610   \n",
              "18841274                 27                  0                   1750   \n",
              "\n",
              "          MatchPlayerCivId  MatchPlayerPreRating  \n",
              "MatchId                                           \n",
              "19044674                18                  1625  \n",
              "19191267                13                  1690  \n",
              "18781992                26                  2427  \n",
              "19070033                26                  1594  \n",
              "18841274                 9                  1711  "
            ]
          },
          "metadata": {
            "tags": []
          },
          "execution_count": 98
        }
      ]
    },
    {
      "cell_type": "code",
      "metadata": {
        "id": "Cqvb7gcmI3Sg",
        "colab_type": "code",
        "outputId": "f97bb97b-7707-4460-cade-a0a62f9bdc14",
        "colab": {
          "base_uri": "https://localhost:8080/",
          "height": 334
        }
      },
      "source": [
        "fst.head()"
      ],
      "execution_count": 99,
      "outputs": [
        {
          "output_type": "execute_result",
          "data": {
            "text/html": [
              "<div>\n",
              "<style scoped>\n",
              "    .dataframe tbody tr th:only-of-type {\n",
              "        vertical-align: middle;\n",
              "    }\n",
              "\n",
              "    .dataframe tbody tr th {\n",
              "        vertical-align: top;\n",
              "    }\n",
              "\n",
              "    .dataframe thead th {\n",
              "        text-align: right;\n",
              "    }\n",
              "</style>\n",
              "<table border=\"1\" class=\"dataframe\">\n",
              "  <thead>\n",
              "    <tr style=\"text-align: right;\">\n",
              "      <th></th>\n",
              "      <th>MatchMods</th>\n",
              "      <th>MatchMap</th>\n",
              "      <th>MatchDuration</th>\n",
              "      <th>MatchPlayerCivId</th>\n",
              "      <th>MatchPlayerWinner</th>\n",
              "      <th>MatchPlayerPreRating</th>\n",
              "      <th>MatchPlayerCivId2</th>\n",
              "      <th>MatchPlayerPreRating2</th>\n",
              "    </tr>\n",
              "    <tr>\n",
              "      <th>MatchId</th>\n",
              "      <th></th>\n",
              "      <th></th>\n",
              "      <th></th>\n",
              "      <th></th>\n",
              "      <th></th>\n",
              "      <th></th>\n",
              "      <th></th>\n",
              "      <th></th>\n",
              "    </tr>\n",
              "  </thead>\n",
              "  <tbody>\n",
              "    <tr>\n",
              "      <th>18726012</th>\n",
              "      <td>v1.5 Beta R7, WololoKingdoms</td>\n",
              "      <td>Arabia</td>\n",
              "      <td>1777</td>\n",
              "      <td>8</td>\n",
              "      <td>1</td>\n",
              "      <td>1658</td>\n",
              "      <td>18</td>\n",
              "      <td>1697</td>\n",
              "    </tr>\n",
              "    <tr>\n",
              "      <th>18839282</th>\n",
              "      <td>v1.5 Beta R7, WololoKingdoms</td>\n",
              "      <td>Arabia</td>\n",
              "      <td>1505</td>\n",
              "      <td>1</td>\n",
              "      <td>1</td>\n",
              "      <td>1491</td>\n",
              "      <td>9</td>\n",
              "      <td>1478</td>\n",
              "    </tr>\n",
              "    <tr>\n",
              "      <th>18902536</th>\n",
              "      <td>v1.5 Beta R7, WololoKingdoms</td>\n",
              "      <td>Arabia</td>\n",
              "      <td>5111</td>\n",
              "      <td>28</td>\n",
              "      <td>1</td>\n",
              "      <td>1681</td>\n",
              "      <td>12</td>\n",
              "      <td>1714</td>\n",
              "    </tr>\n",
              "    <tr>\n",
              "      <th>18709844</th>\n",
              "      <td>v1.5 Beta R7, WololoKingdoms</td>\n",
              "      <td>Arena</td>\n",
              "      <td>2509</td>\n",
              "      <td>20</td>\n",
              "      <td>1</td>\n",
              "      <td>1710</td>\n",
              "      <td>28</td>\n",
              "      <td>1784</td>\n",
              "    </tr>\n",
              "    <tr>\n",
              "      <th>18785920</th>\n",
              "      <td>v1.5 Beta R7, WololoKingdoms</td>\n",
              "      <td>Arabia</td>\n",
              "      <td>2103</td>\n",
              "      <td>25</td>\n",
              "      <td>1</td>\n",
              "      <td>1482</td>\n",
              "      <td>1</td>\n",
              "      <td>1244</td>\n",
              "    </tr>\n",
              "  </tbody>\n",
              "</table>\n",
              "</div>"
            ],
            "text/plain": [
              "                             MatchMods MatchMap  MatchDuration  \\\n",
              "MatchId                                                          \n",
              "18726012  v1.5 Beta R7, WololoKingdoms   Arabia           1777   \n",
              "18839282  v1.5 Beta R7, WololoKingdoms   Arabia           1505   \n",
              "18902536  v1.5 Beta R7, WololoKingdoms   Arabia           5111   \n",
              "18709844  v1.5 Beta R7, WololoKingdoms    Arena           2509   \n",
              "18785920  v1.5 Beta R7, WololoKingdoms   Arabia           2103   \n",
              "\n",
              "          MatchPlayerCivId  MatchPlayerWinner  MatchPlayerPreRating  \\\n",
              "MatchId                                                               \n",
              "18726012                 8                  1                  1658   \n",
              "18839282                 1                  1                  1491   \n",
              "18902536                28                  1                  1681   \n",
              "18709844                20                  1                  1710   \n",
              "18785920                25                  1                  1482   \n",
              "\n",
              "          MatchPlayerCivId2  MatchPlayerPreRating2  \n",
              "MatchId                                             \n",
              "18726012                 18                   1697  \n",
              "18839282                  9                   1478  \n",
              "18902536                 12                   1714  \n",
              "18709844                 28                   1784  \n",
              "18785920                  1                   1244  "
            ]
          },
          "metadata": {
            "tags": []
          },
          "execution_count": 99
        }
      ]
    },
    {
      "cell_type": "code",
      "metadata": {
        "id": "0Tl881IhJYUG",
        "colab_type": "code",
        "colab": {}
      },
      "source": [
        "# data frame is finally ready to have features engineered\n",
        "\n",
        "rm_1v1 = snd.append(fst, sort=True)"
      ],
      "execution_count": 0,
      "outputs": []
    },
    {
      "cell_type": "markdown",
      "metadata": {
        "id": "690S-YuVg31Z",
        "colab_type": "text"
      },
      "source": [
        "# Feature Engineering "
      ]
    },
    {
      "cell_type": "code",
      "metadata": {
        "id": "jIPZLu-PurlS",
        "colab_type": "code",
        "outputId": "e55cfa3f-28a0-49c5-8353-f32fd73e0ff0",
        "colab": {
          "base_uri": "https://localhost:8080/",
          "height": 334
        }
      },
      "source": [
        "\n",
        "rm_1v1['EloDifference'] = rm_1v1['MatchPlayerPreRating'] - rm_1v1['MatchPlayerPreRating2']\n",
        "\n",
        "rm_1v1.head()"
      ],
      "execution_count": 101,
      "outputs": [
        {
          "output_type": "execute_result",
          "data": {
            "text/html": [
              "<div>\n",
              "<style scoped>\n",
              "    .dataframe tbody tr th:only-of-type {\n",
              "        vertical-align: middle;\n",
              "    }\n",
              "\n",
              "    .dataframe tbody tr th {\n",
              "        vertical-align: top;\n",
              "    }\n",
              "\n",
              "    .dataframe thead th {\n",
              "        text-align: right;\n",
              "    }\n",
              "</style>\n",
              "<table border=\"1\" class=\"dataframe\">\n",
              "  <thead>\n",
              "    <tr style=\"text-align: right;\">\n",
              "      <th></th>\n",
              "      <th>MatchDuration</th>\n",
              "      <th>MatchMap</th>\n",
              "      <th>MatchMods</th>\n",
              "      <th>MatchPlayerCivId</th>\n",
              "      <th>MatchPlayerCivId2</th>\n",
              "      <th>MatchPlayerPreRating</th>\n",
              "      <th>MatchPlayerPreRating2</th>\n",
              "      <th>MatchPlayerWinner</th>\n",
              "      <th>EloDifference</th>\n",
              "    </tr>\n",
              "    <tr>\n",
              "      <th>MatchId</th>\n",
              "      <th></th>\n",
              "      <th></th>\n",
              "      <th></th>\n",
              "      <th></th>\n",
              "      <th></th>\n",
              "      <th></th>\n",
              "      <th></th>\n",
              "      <th></th>\n",
              "      <th></th>\n",
              "    </tr>\n",
              "  </thead>\n",
              "  <tbody>\n",
              "    <tr>\n",
              "      <th>19044674</th>\n",
              "      <td>2066</td>\n",
              "      <td>Nomad</td>\n",
              "      <td>v1.5 Beta R7, Small Trees - N</td>\n",
              "      <td>18</td>\n",
              "      <td>14</td>\n",
              "      <td>1625</td>\n",
              "      <td>1669</td>\n",
              "      <td>0</td>\n",
              "      <td>-44</td>\n",
              "    </tr>\n",
              "    <tr>\n",
              "      <th>19191267</th>\n",
              "      <td>871</td>\n",
              "      <td>Arabia</td>\n",
              "      <td>v1.5 Beta R7, WololoKingdoms</td>\n",
              "      <td>13</td>\n",
              "      <td>29</td>\n",
              "      <td>1690</td>\n",
              "      <td>1751</td>\n",
              "      <td>0</td>\n",
              "      <td>-61</td>\n",
              "    </tr>\n",
              "    <tr>\n",
              "      <th>18781992</th>\n",
              "      <td>1697</td>\n",
              "      <td>Custom</td>\n",
              "      <td>v1.5 Beta R7, WololoKingdoms</td>\n",
              "      <td>26</td>\n",
              "      <td>23</td>\n",
              "      <td>2427</td>\n",
              "      <td>2382</td>\n",
              "      <td>0</td>\n",
              "      <td>45</td>\n",
              "    </tr>\n",
              "    <tr>\n",
              "      <th>19070033</th>\n",
              "      <td>2724</td>\n",
              "      <td>Arabia</td>\n",
              "      <td>v1.5 Beta R7, WololoKingdoms</td>\n",
              "      <td>26</td>\n",
              "      <td>7</td>\n",
              "      <td>1594</td>\n",
              "      <td>1610</td>\n",
              "      <td>0</td>\n",
              "      <td>-16</td>\n",
              "    </tr>\n",
              "    <tr>\n",
              "      <th>18841274</th>\n",
              "      <td>1640</td>\n",
              "      <td>Arabia</td>\n",
              "      <td>v1.5 Beta R7, WololoKingdoms</td>\n",
              "      <td>9</td>\n",
              "      <td>27</td>\n",
              "      <td>1711</td>\n",
              "      <td>1750</td>\n",
              "      <td>0</td>\n",
              "      <td>-39</td>\n",
              "    </tr>\n",
              "  </tbody>\n",
              "</table>\n",
              "</div>"
            ],
            "text/plain": [
              "          MatchDuration MatchMap                      MatchMods  \\\n",
              "MatchId                                                           \n",
              "19044674           2066    Nomad  v1.5 Beta R7, Small Trees - N   \n",
              "19191267            871   Arabia   v1.5 Beta R7, WololoKingdoms   \n",
              "18781992           1697   Custom   v1.5 Beta R7, WololoKingdoms   \n",
              "19070033           2724   Arabia   v1.5 Beta R7, WololoKingdoms   \n",
              "18841274           1640   Arabia   v1.5 Beta R7, WololoKingdoms   \n",
              "\n",
              "          MatchPlayerCivId  MatchPlayerCivId2  MatchPlayerPreRating  \\\n",
              "MatchId                                                               \n",
              "19044674                18                 14                  1625   \n",
              "19191267                13                 29                  1690   \n",
              "18781992                26                 23                  2427   \n",
              "19070033                26                  7                  1594   \n",
              "18841274                 9                 27                  1711   \n",
              "\n",
              "          MatchPlayerPreRating2  MatchPlayerWinner  EloDifference  \n",
              "MatchId                                                            \n",
              "19044674                   1669                  0            -44  \n",
              "19191267                   1751                  0            -61  \n",
              "18781992                   2382                  0             45  \n",
              "19070033                   1610                  0            -16  \n",
              "18841274                   1750                  0            -39  "
            ]
          },
          "metadata": {
            "tags": []
          },
          "execution_count": 101
        }
      ]
    },
    {
      "cell_type": "code",
      "metadata": {
        "id": "lJBSTcop2fUX",
        "colab_type": "code",
        "outputId": "565c5aec-575e-4077-a860-8cb8ccce1928",
        "colab": {
          "base_uri": "https://localhost:8080/",
          "height": 87
        }
      },
      "source": [
        "rm_1v1.columns"
      ],
      "execution_count": 102,
      "outputs": [
        {
          "output_type": "execute_result",
          "data": {
            "text/plain": [
              "Index(['MatchDuration', 'MatchMap', 'MatchMods', 'MatchPlayerCivId',\n",
              "       'MatchPlayerCivId2', 'MatchPlayerPreRating', 'MatchPlayerPreRating2',\n",
              "       'MatchPlayerWinner', 'EloDifference'],\n",
              "      dtype='object')"
            ]
          },
          "metadata": {
            "tags": []
          },
          "execution_count": 102
        }
      ]
    },
    {
      "cell_type": "code",
      "metadata": {
        "id": "x27FMMrfOUoN",
        "colab_type": "code",
        "outputId": "c09371a7-2684-43bd-950f-6ecc7992a7d1",
        "colab": {
          "base_uri": "https://localhost:8080/",
          "height": 280
        }
      },
      "source": [
        "rm_1v1['EloBin'] = pd.qcut(rm_1v1['EloDifference'], 6, labels=[1,2,3,4,5,6])\n",
        "\n",
        "sns.barplot(x='EloBin', y='MatchPlayerWinner', data=rm_1v1);\n",
        "\n",
        "# ok this looks reasonable, a lot lower than expected because of smurfs but\n",
        "# will address difficulty of smurf detection/lack of 'trueElo' in blog"
      ],
      "execution_count": 103,
      "outputs": [
        {
          "output_type": "display_data",
          "data": {
            "image/png": "[encoded data removed]",
            "text/plain": [
              "<Figure size 432x288 with 1 Axes>"
            ]
          },
          "metadata": {
            "tags": []
          }
        }
      ]
    },
    {
      "cell_type": "code",
      "metadata": {
        "id": "En_cMvboTcNT",
        "colab_type": "code",
        "outputId": "62bc89ca-84d2-436c-f963-207b4c600316",
        "colab": {
          "base_uri": "https://localhost:8080/",
          "height": 279
        }
      },
      "source": [
        "rm_1v1['TimeBin'] = pd.qcut(rm_1v1['MatchDuration'], 6, labels=[1,2,3,4,5,6])\n",
        "\n",
        "sns.barplot(x='TimeBin', y='MatchPlayerWinner', data=rm_1v1);\n",
        "\n",
        "# ok this is useless by itself, let's see if any factions are rush/late game\n",
        "# and make a feature around that"
      ],
      "execution_count": 104,
      "outputs": [
        {
          "output_type": "display_data",
          "data": {
            "image/png": "[encoded data removed]",
            "text/plain": [
              "<Figure size 432x288 with 1 Axes>"
            ]
          },
          "metadata": {
            "tags": []
          }
        }
      ]
    },
    {
      "cell_type": "code",
      "metadata": {
        "colab_type": "code",
        "outputId": "c79b205d-9d3a-4fab-a626-2c5b69887887",
        "id": "Qv6BdhThPuPs",
        "colab": {
          "base_uri": "https://localhost:8080/",
          "height": 279
        }
      },
      "source": [
        "sns.barplot(x='EloDifference', y='MatchPlayerWinner', data=rm_1v1);\n",
        "\n",
        "# not sure why it does an inverse color thing above\n",
        "# TODO: remove bottom margin labels\n",
        "# again, the smurfing is ruining it "
      ],
      "execution_count": 105,
      "outputs": [
        {
          "output_type": "display_data",
          "data": {
            "image/png": "[encoded data removed]",
            "text/plain": [
              "<Figure size 432x288 with 1 Axes>"
            ]
          },
          "metadata": {
            "tags": []
          }
        }
      ]
    },
    {
      "cell_type": "code",
      "metadata": {
        "id": "8Ke13nR-TxGC",
        "colab_type": "code",
        "outputId": "1c718aff-9d1f-4b0d-c6e6-b4b1d9cdc241",
        "colab": {
          "base_uri": "https://localhost:8080/",
          "height": 511
        }
      },
      "source": [
        "a4_dims = (11.7, 8.27)\n",
        "\n",
        "fig, ax = plt.subplots(figsize=a4_dims)\n",
        "sns.barplot(ax=ax, x='MatchPlayerCivId', y='MatchPlayerWinner', data=rm_1v1); \n",
        "\n",
        "# ok prob bin some of the less popular ones together\n",
        "# TODO: use this and some tier lists to make a tier of race and then relative tier advantage feature"
      ],
      "execution_count": 108,
      "outputs": [
        {
          "output_type": "display_data",
          "data": {
            "image/png": "[encoded data removed]",
            "text/plain": [
              "<Figure size 842.4x595.44 with 1 Axes>"
            ]
          },
          "metadata": {
            "tags": []
          }
        }
      ]
    },
    {
      "cell_type": "code",
      "metadata": {
        "id": "Uk3kf2QQUGw7",
        "colab_type": "code",
        "outputId": "681228e6-4462-47a1-e5f9-74e7380137de",
        "colab": {
          "base_uri": "https://localhost:8080/",
          "height": 773
        }
      },
      "source": [
        "rm_1v1['MatchPlayerCivId'].value_counts()"
      ],
      "execution_count": 127,
      "outputs": [
        {
          "output_type": "execute_result",
          "data": {
            "text/plain": [
              "17    15646\n",
              "12     8189\n",
              "16     7959\n",
              "13     7875\n",
              "7      7799\n",
              "15     7784\n",
              "2      7747\n",
              "11     7678\n",
              "1      7618\n",
              "14     7528\n",
              "18     7523\n",
              "3      7489\n",
              "4      7464\n",
              "5      7429\n",
              "8      7415\n",
              "6      7383\n",
              "9      7304\n",
              "10     7268\n",
              "23     4804\n",
              "22     4796\n",
              "21     4785\n",
              "20     4775\n",
              "27     4643\n",
              "26     4629\n",
              "19     4618\n",
              "31     4600\n",
              "29     4590\n",
              "28     4586\n",
              "30     4565\n",
              "25     4558\n",
              "24     4520\n",
              "46      214\n",
              "33        8\n",
              "34        6\n",
              "41        5\n",
              "32        4\n",
              "35        3\n",
              "36        3\n",
              "38        2\n",
              "40        2\n",
              "37        1\n",
              "39        1\n",
              "Name: MatchPlayerCivId, dtype: int64"
            ]
          },
          "metadata": {
            "tags": []
          },
          "execution_count": 127
        }
      ]
    },
    {
      "cell_type": "code",
      "metadata": {
        "id": "Xxjl0H3iWNgS",
        "colab_type": "code",
        "colab": {
          "base_uri": "https://localhost:8080/",
          "height": 737
        },
        "outputId": "ac11ad3e-c9fc-4ac5-dab3-1a8f9d1e7a58"
      },
      "source": [
        "rm_1v1['MatchMods'].value_counts()\n",
        "\n",
        "# I don't play with balance mods and have no idea how these influence balance\n",
        "# Outside of time budget\n",
        "# However I do know that cosmetic mods are optional and one sided only\n",
        "# Like with removing shrubs and smaller trees and these do give an advantage"
      ],
      "execution_count": 129,
      "outputs": [
        {
          "output_type": "execute_result",
          "data": {
            "text/plain": [
              "v1.5 Beta R7, WololoKingdoms     146607\n",
              "v1.5 Beta R7                      38850\n",
              "v1.5 Beta R7, Allied Vision        6813\n",
              "v1.5 Beta R7, Small Trees - N      4599\n",
              "1.4 RC                             4394\n",
              "1.4 RC, WololoKingdoms              708\n",
              "v1.5 Beta R7, Advanced Statis       705\n",
              "v1.5 Beta R7, Allied Vision -       655\n",
              "v1.5 Beta R7, X-Patch with Al       596\n",
              "v1.5 Beta R7, Longer Lasting        498\n",
              "1.4 RC, Allied Vision               448\n",
              "v1.5 Beta R7, 1.0 Patch Mod         191\n",
              "1.4 RC, Small Trees - No Snow       181\n",
              "v1.5 Beta R7, Realms                150\n",
              "1.4 RC, Advanced Statistics          97\n",
              "v1.5 Beta R7, No Walls Mod           70\n",
              "1.4 RC, Allied Vision - Advan        48\n",
              "v1.5 Beta R7, Mad Random Maps        44\n",
              "v1.5 RC, WololoKingdoms              41\n",
              "v1.5 Beta R7, LN FFA rules mo        26\n",
              "v1.5 Beta R7, 5th Age Mod            26\n",
              "1.4 RC, X-Patch with Allied V        14\n",
              "1.4 RC, 1.0 Patch Mod                 9\n",
              "1.4 RC, 5th Age Mod                   9\n",
              "v1.5 RC                               4\n",
              "1.4 RC - Extended Info, Advan         4\n",
              "1.4 RC - Extended Info, Wolol         4\n",
              "1.4 RC - Extended Info                3\n",
              "v1.5 Beta R7, X-Patch                 3\n",
              "1.4 RC, LN FFA rules mod              3\n",
              "1.4 RC, WololoKingdoms AK             2\n",
              "v1.5 RC, Allied Vision                2\n",
              "v1.5 Beta R7, Allied vision w         2\n",
              "1.4 RC, Longer Lasting Resour         2\n",
              "v1.5 Beta R7, 1000 Pop Limit          2\n",
              "1.4 RC - Extended Info, Small         2\n",
              "1.4, 5th Age Mod                      1\n",
              "1.4                                   1\n",
              "1.4 RC, No Walls Mod                  1\n",
              "1.4 RC, WololoKingdoms FE             1\n",
              "Name: MatchMods, dtype: int64"
            ]
          },
          "metadata": {
            "tags": []
          },
          "execution_count": 129
        }
      ]
    },
    {
      "cell_type": "markdown",
      "metadata": {
        "id": "JySxF8mKW65S",
        "colab_type": "text"
      },
      "source": [
        "Wololo Kingdoms vs Vanilla Win Rates from Reddit\n",
        "\n",
        "![Wololo Kingdoms vs Vanilla Game](https://i.redd.it/b5x2mnh608w01.png)"
      ]
    },
    {
      "cell_type": "code",
      "metadata": {
        "id": "bYynF3-MO24Z",
        "colab_type": "code",
        "outputId": "0b656cdd-94d6-4e3f-c10d-0f5d7afc2762",
        "colab": {
          "base_uri": "https://localhost:8080/",
          "height": 87
        }
      },
      "source": [
        "rm_1v1.columns"
      ],
      "execution_count": 110,
      "outputs": [
        {
          "output_type": "execute_result",
          "data": {
            "text/plain": [
              "Index(['MatchDuration', 'MatchMap', 'MatchMods', 'MatchPlayerCivId',\n",
              "       'MatchPlayerCivId2', 'MatchPlayerPreRating', 'MatchPlayerPreRating2',\n",
              "       'MatchPlayerWinner', 'EloDifference', 'EloBin', 'TimeBin'],\n",
              "      dtype='object')"
            ]
          },
          "metadata": {
            "tags": []
          },
          "execution_count": 110
        }
      ]
    },
    {
      "cell_type": "code",
      "metadata": {
        "id": "pLBORqg3QKBt",
        "colab_type": "code",
        "outputId": "0b46083b-7438-4e37-89c3-6f12546a397c",
        "colab": {
          "base_uri": "https://localhost:8080/",
          "height": 334
        }
      },
      "source": [
        "rm_1v1.head()"
      ],
      "execution_count": 111,
      "outputs": [
        {
          "output_type": "execute_result",
          "data": {
            "text/html": [
              "<div>\n",
              "<style scoped>\n",
              "    .dataframe tbody tr th:only-of-type {\n",
              "        vertical-align: middle;\n",
              "    }\n",
              "\n",
              "    .dataframe tbody tr th {\n",
              "        vertical-align: top;\n",
              "    }\n",
              "\n",
              "    .dataframe thead th {\n",
              "        text-align: right;\n",
              "    }\n",
              "</style>\n",
              "<table border=\"1\" class=\"dataframe\">\n",
              "  <thead>\n",
              "    <tr style=\"text-align: right;\">\n",
              "      <th></th>\n",
              "      <th>MatchDuration</th>\n",
              "      <th>MatchMap</th>\n",
              "      <th>MatchMods</th>\n",
              "      <th>MatchPlayerCivId</th>\n",
              "      <th>MatchPlayerCivId2</th>\n",
              "      <th>MatchPlayerPreRating</th>\n",
              "      <th>MatchPlayerPreRating2</th>\n",
              "      <th>MatchPlayerWinner</th>\n",
              "      <th>EloDifference</th>\n",
              "      <th>EloBin</th>\n",
              "      <th>TimeBin</th>\n",
              "    </tr>\n",
              "    <tr>\n",
              "      <th>MatchId</th>\n",
              "      <th></th>\n",
              "      <th></th>\n",
              "      <th></th>\n",
              "      <th></th>\n",
              "      <th></th>\n",
              "      <th></th>\n",
              "      <th></th>\n",
              "      <th></th>\n",
              "      <th></th>\n",
              "      <th></th>\n",
              "      <th></th>\n",
              "    </tr>\n",
              "  </thead>\n",
              "  <tbody>\n",
              "    <tr>\n",
              "      <th>19044674</th>\n",
              "      <td>2066</td>\n",
              "      <td>Nomad</td>\n",
              "      <td>v1.5 Beta R7, Small Trees - N</td>\n",
              "      <td>18</td>\n",
              "      <td>14</td>\n",
              "      <td>1625</td>\n",
              "      <td>1669</td>\n",
              "      <td>0</td>\n",
              "      <td>-44</td>\n",
              "      <td>2</td>\n",
              "      <td>3</td>\n",
              "    </tr>\n",
              "    <tr>\n",
              "      <th>19191267</th>\n",
              "      <td>871</td>\n",
              "      <td>Arabia</td>\n",
              "      <td>v1.5 Beta R7, WololoKingdoms</td>\n",
              "      <td>13</td>\n",
              "      <td>29</td>\n",
              "      <td>1690</td>\n",
              "      <td>1751</td>\n",
              "      <td>0</td>\n",
              "      <td>-61</td>\n",
              "      <td>2</td>\n",
              "      <td>1</td>\n",
              "    </tr>\n",
              "    <tr>\n",
              "      <th>18781992</th>\n",
              "      <td>1697</td>\n",
              "      <td>Custom</td>\n",
              "      <td>v1.5 Beta R7, WololoKingdoms</td>\n",
              "      <td>26</td>\n",
              "      <td>23</td>\n",
              "      <td>2427</td>\n",
              "      <td>2382</td>\n",
              "      <td>0</td>\n",
              "      <td>45</td>\n",
              "      <td>5</td>\n",
              "      <td>2</td>\n",
              "    </tr>\n",
              "    <tr>\n",
              "      <th>19070033</th>\n",
              "      <td>2724</td>\n",
              "      <td>Arabia</td>\n",
              "      <td>v1.5 Beta R7, WololoKingdoms</td>\n",
              "      <td>26</td>\n",
              "      <td>7</td>\n",
              "      <td>1594</td>\n",
              "      <td>1610</td>\n",
              "      <td>0</td>\n",
              "      <td>-16</td>\n",
              "      <td>3</td>\n",
              "      <td>4</td>\n",
              "    </tr>\n",
              "    <tr>\n",
              "      <th>18841274</th>\n",
              "      <td>1640</td>\n",
              "      <td>Arabia</td>\n",
              "      <td>v1.5 Beta R7, WololoKingdoms</td>\n",
              "      <td>9</td>\n",
              "      <td>27</td>\n",
              "      <td>1711</td>\n",
              "      <td>1750</td>\n",
              "      <td>0</td>\n",
              "      <td>-39</td>\n",
              "      <td>2</td>\n",
              "      <td>2</td>\n",
              "    </tr>\n",
              "  </tbody>\n",
              "</table>\n",
              "</div>"
            ],
            "text/plain": [
              "          MatchDuration MatchMap                      MatchMods  \\\n",
              "MatchId                                                           \n",
              "19044674           2066    Nomad  v1.5 Beta R7, Small Trees - N   \n",
              "19191267            871   Arabia   v1.5 Beta R7, WololoKingdoms   \n",
              "18781992           1697   Custom   v1.5 Beta R7, WololoKingdoms   \n",
              "19070033           2724   Arabia   v1.5 Beta R7, WololoKingdoms   \n",
              "18841274           1640   Arabia   v1.5 Beta R7, WololoKingdoms   \n",
              "\n",
              "          MatchPlayerCivId  MatchPlayerCivId2  MatchPlayerPreRating  \\\n",
              "MatchId                                                               \n",
              "19044674                18                 14                  1625   \n",
              "19191267                13                 29                  1690   \n",
              "18781992                26                 23                  2427   \n",
              "19070033                26                  7                  1594   \n",
              "18841274                 9                 27                  1711   \n",
              "\n",
              "          MatchPlayerPreRating2  MatchPlayerWinner  EloDifference EloBin  \\\n",
              "MatchId                                                                    \n",
              "19044674                   1669                  0            -44      2   \n",
              "19191267                   1751                  0            -61      2   \n",
              "18781992                   2382                  0             45      5   \n",
              "19070033                   1610                  0            -16      3   \n",
              "18841274                   1750                  0            -39      2   \n",
              "\n",
              "         TimeBin  \n",
              "MatchId           \n",
              "19044674       3  \n",
              "19191267       1  \n",
              "18781992       2  \n",
              "19070033       4  \n",
              "18841274       2  "
            ]
          },
          "metadata": {
            "tags": []
          },
          "execution_count": 111
        }
      ]
    },
    {
      "cell_type": "markdown",
      "metadata": {
        "id": "t6chcRP7g-iT",
        "colab_type": "text"
      },
      "source": [
        "# PREP DATA FOR MODEL"
      ]
    },
    {
      "cell_type": "code",
      "metadata": {
        "id": "eJnKK7wOaVwl",
        "colab_type": "code",
        "outputId": "54f87f5e-4b51-411b-b078-52a5178b7ce5",
        "colab": {
          "base_uri": "https://localhost:8080/",
          "height": 34
        }
      },
      "source": [
        "# train test split\n",
        "from sklearn.model_selection import train_test_split\n",
        "\n",
        "train, val = train_test_split(rm_1v1, train_size = 0.8, test_size = 0.2)\n",
        "\n",
        "train.shape, val.shape"
      ],
      "execution_count": 112,
      "outputs": [
        {
          "output_type": "execute_result",
          "data": {
            "text/plain": [
              "((164652, 11), (41164, 11))"
            ]
          },
          "metadata": {
            "tags": []
          },
          "execution_count": 112
        }
      ]
    },
    {
      "cell_type": "code",
      "metadata": {
        "id": "sirKzQ2ofv1M",
        "colab_type": "code",
        "colab": {}
      },
      "source": [
        "# set up features for model\n",
        "target = 'MatchPlayerWinner'\n",
        "features = [\n",
        "            'MatchMods', \n",
        "            'MatchMap', \n",
        "            'MatchDuration',\n",
        "      #  'MatchPlayerCivId', \n",
        "       # 'MatchPlayerPreRating',\n",
        "     #   'MatchPlayerCivId2', \n",
        "       # 'MatchPlayerPreRating2',\n",
        "        'EloDifference', \n",
        "        'EloBin']\n",
        "X_train = train[features]\n",
        "y_train = train[target]\n",
        "\n",
        "X_val = val[features]\n",
        "y_val = val[target]"
      ],
      "execution_count": 0,
      "outputs": []
    },
    {
      "cell_type": "markdown",
      "metadata": {
        "id": "2qUWP4xkchpC",
        "colab_type": "text"
      },
      "source": [
        "# Linear Regression"
      ]
    },
    {
      "cell_type": "code",
      "metadata": {
        "id": "HEu-ZNiUchR8",
        "colab_type": "code",
        "colab": {
          "base_uri": "https://localhost:8080/",
          "height": 52
        },
        "outputId": "67e49a6b-9007-42bf-9d68-903587daa5b8"
      },
      "source": [
        "from sklearn import linear_model\n",
        "pipeline = make_pipeline(\n",
        "    ce.OrdinalEncoder(), \n",
        "    LinearRegression()\n",
        ")\n",
        "\n",
        "pipeline.fit(X_train, y_train)\n",
        "\n",
        "y_pred = pipeline.predict(X_val)\n",
        "\n",
        "print('Train Accuracy', pipeline.score(X_train, y_train))\n",
        "\n",
        "print('Validation Accuracy', pipeline.score(X_val, y_val))"
      ],
      "execution_count": 141,
      "outputs": [
        {
          "output_type": "stream",
          "text": [
            "Train Accuracy 0.05296271029587508\n",
            "Validation Accuracy 0.054404630802611154\n"
          ],
          "name": "stdout"
        }
      ]
    },
    {
      "cell_type": "markdown",
      "metadata": {
        "id": "I3F2vSFLcEr2",
        "colab_type": "text"
      },
      "source": [
        "# Decision Forest"
      ]
    },
    {
      "cell_type": "code",
      "metadata": {
        "id": "6Je6A5cfcArj",
        "colab_type": "code",
        "colab": {
          "base_uri": "https://localhost:8080/",
          "height": 52
        },
        "outputId": "6d5d1d32-0cf6-4753-f280-b7846fe305a2"
      },
      "source": [
        "from sklearn.ensemble import RandomForestClassifier\n",
        "pipeline = make_pipeline(\n",
        "    ce.OrdinalEncoder(), \n",
        "    RandomForestClassifier(n_estimators = 100, n_jobs=-1)\n",
        ")\n",
        "\n",
        "pipeline.fit(X_train, y_train)\n",
        "\n",
        "y_pred = pipeline.predict(X_val)\n",
        "\n",
        "print('Train Accuracy', pipeline.score(X_train, y_train))\n",
        "\n",
        "print('Validation Accuracy', pipeline.score(X_val, y_val))"
      ],
      "execution_count": 139,
      "outputs": [
        {
          "output_type": "stream",
          "text": [
            "Train Accuracy 0.9872154604863591\n",
            "Validation Accuracy 0.5447721309882422\n"
          ],
          "name": "stdout"
        }
      ]
    },
    {
      "cell_type": "markdown",
      "metadata": {
        "id": "iS0d6q5mbjcD",
        "colab_type": "text"
      },
      "source": [
        "# Decision Tree"
      ]
    },
    {
      "cell_type": "code",
      "metadata": {
        "id": "NFy6sBV4hYJ0",
        "colab_type": "code",
        "outputId": "eb86d0fa-36d2-406e-849e-24e19b007d01",
        "colab": {
          "base_uri": "https://localhost:8080/",
          "height": 52
        }
      },
      "source": [
        "from sklearn.tree import DecisionTreeClassifier\n",
        "\n",
        "pipeline = make_pipeline(\n",
        "    ce.OrdinalEncoder(),\n",
        "    \n",
        "    DecisionTreeClassifier(random_state=42)\n",
        ")\n",
        "\n",
        "pipeline.fit(X_train, y_train)\n",
        "\n",
        "y_pred = pipeline.predict(X_val)\n",
        "\n",
        "print('Train Accuracy', pipeline.score(X_train, y_train))\n",
        "\n",
        "print('Validation Accuracy', pipeline.score(X_val, y_val))\n",
        "\n",
        "# above baseline"
      ],
      "execution_count": 140,
      "outputs": [
        {
          "output_type": "stream",
          "text": [
            "Train Accuracy 0.9872519009790346\n",
            "Validation Accuracy 0.5286658245068506\n"
          ],
          "name": "stdout"
        }
      ]
    },
    {
      "cell_type": "markdown",
      "metadata": {
        "id": "oW50uBx8bphg",
        "colab_type": "text"
      },
      "source": [
        "# XGBClassifier"
      ]
    },
    {
      "cell_type": "code",
      "metadata": {
        "id": "ndmCW4Iebe_Y",
        "colab_type": "code",
        "colab": {
          "base_uri": "https://localhost:8080/",
          "height": 52
        },
        "outputId": "26089453-f921-44ea-852e-26037563acb9"
      },
      "source": [
        "from xgboost import XGBClassifier\n",
        "pipeline = make_pipeline(\n",
        "    ce.OrdinalEncoder(), \n",
        "    XGBClassifier(n_estimators=100, random_state=42, n_jobs=-1)\n",
        ")\n",
        "\n",
        "pipeline.fit(X_train, y_train)\n",
        "\n",
        "y_pred = pipeline.predict(X_val)\n",
        "\n",
        "print('Train Accuracy', pipeline.score(X_train, y_train))\n",
        "\n",
        "print('Validation Accuracy', pipeline.score(X_val, y_val))\n"
      ],
      "execution_count": 137,
      "outputs": [
        {
          "output_type": "stream",
          "text": [
            "Train Accuracy 0.5956988071812064\n",
            "Validation Accuracy 0.5948158585171509\n"
          ],
          "name": "stdout"
        }
      ]
    },
    {
      "cell_type": "markdown",
      "metadata": {
        "id": "gHhWBdMoK6x8",
        "colab_type": "text"
      },
      "source": [
        "# Feature Importances"
      ]
    },
    {
      "cell_type": "code",
      "metadata": {
        "id": "RTVk_osbK555",
        "colab_type": "code",
        "colab": {
          "base_uri": "https://localhost:8080/",
          "height": 607
        },
        "outputId": "a5d63c12-54d9-4cbb-a355-f905287cff25"
      },
      "source": [
        "rf = pipeline.named_steps['decisiontreeclassifier']\n",
        "importances = pd.Series(rf.feature_importances_, X_train.columns)\n",
        "\n",
        "%matplotlib inline\n",
        "import matplotlib.pyplot as plt\n",
        "\n",
        "n=20\n",
        "\n",
        "plt.figure(figsize=(10,n/2))\n",
        "plt.title(f'Top {n} features')\n",
        "importances.sort_values()[-n:].plot.barh(color='grey');"
      ],
      "execution_count": 119,
      "outputs": [
        {
          "output_type": "display_data",
          "data": {
            "image/png": "[encoded data removed]",
            "text/plain": [
              "<Figure size 720x720 with 1 Axes>"
            ]
          },
          "metadata": {
            "tags": []
          }
        }
      ]
    },
    {
      "cell_type": "markdown",
      "metadata": {
        "id": "_dFhUPjLOK_T",
        "colab_type": "text"
      },
      "source": [
        "# PDP and Shapely Plots"
      ]
    },
    {
      "cell_type": "code",
      "metadata": {
        "id": "XWjjfbiJ4C1f",
        "colab_type": "code",
        "colab": {
          "base_uri": "https://localhost:8080/",
          "height": 279
        },
        "outputId": "9f092352-170f-45a4-f0c0-e33a6c1fc5f6"
      },
      "source": [
        "sns.distplot(y_train);"
      ],
      "execution_count": 120,
      "outputs": [
        {
          "output_type": "display_data",
          "data": {
            "image/png": "[encoded data removed]",
            "text/plain": [
              "<Figure size 432x288 with 1 Axes>"
            ]
          },
          "metadata": {
            "tags": []
          }
        }
      ]
    },
    {
      "cell_type": "code",
      "metadata": {
        "id": "oBVdgL-bOmnM",
        "colab_type": "code",
        "colab": {
          "base_uri": "https://localhost:8080/",
          "height": 34
        },
        "outputId": "73822aa1-1db0-40ea-9401-98acc9832206"
      },
      "source": [
        "import category_encoders as ce\n",
        "from sklearn.linear_model import LinearRegression\n",
        "from sklearn.pipeline import make_pipeline\n",
        "from sklearn.preprocessing import StandardScaler\n",
        "\n",
        "lr = make_pipeline(\n",
        "    ce.TargetEncoder(),  \n",
        "    LinearRegression()\n",
        ")\n",
        "\n",
        "lr.fit(X_train, y_train)\n",
        "print('Linear Regression R^2', lr.score(X_val, y_val))\n",
        "\n",
        "# slightly above baseline!"
      ],
      "execution_count": 121,
      "outputs": [
        {
          "output_type": "stream",
          "text": [
            "Linear Regression R^2 0.0535562117393028\n"
          ],
          "name": "stdout"
        }
      ]
    },
    {
      "cell_type": "code",
      "metadata": {
        "id": "Iocr1YN3O5fF",
        "colab_type": "code",
        "colab": {
          "base_uri": "https://localhost:8080/",
          "height": 34
        },
        "outputId": "7b3a09d2-8713-4826-d424-a982db0cc035"
      },
      "source": [
        "# TODO: see if can get higher\n",
        "\n",
        "from sklearn.metrics import r2_score, accuracy_score\n",
        "from xgboost import XGBRegressor\n",
        "\n",
        "gb = make_pipeline(\n",
        "    ce.OrdinalEncoder(),\n",
        "    XGBRegressor(n_estimators=200, objective='reg:squarederror', n_jobs=-1)\n",
        ")\n",
        "\n",
        "gb.fit(X_train, y_train)\n",
        "y_pred = gb.predict(X_val)\n",
        "print('Gradient Boosting R^2', r2_score(y_val, y_pred))\n"
      ],
      "execution_count": 134,
      "outputs": [
        {
          "output_type": "stream",
          "text": [
            "Gradient Boosting R^2 0.06071901802427593\n"
          ],
          "name": "stdout"
        }
      ]
    },
    {
      "cell_type": "code",
      "metadata": {
        "id": "zKoDwgUQIdP-",
        "colab_type": "code",
        "colab": {}
      },
      "source": [
        "# increase the dots per inch (double it), so the text isn't so fuzzy\n",
        "import matplotlib.pyplot as plt\n"
      ],
      "execution_count": 0,
      "outputs": []
    },
    {
      "cell_type": "code",
      "metadata": {
        "id": "lrNyAevNLDCG",
        "colab_type": "code",
        "colab": {
          "base_uri": "https://localhost:8080/",
          "height": 1000
        },
        "outputId": "34f733d0-c1c5-4ebe-b549-f145078c1f37"
      },
      "source": [
        "if 'google.colab' in sys.modules:\n",
        "\n",
        "      !pip install pdpbox\n",
        "      !pip install shap\n",
        "\n",
        "from pdpbox.pdp import pdp_isolate, pdp_plot\n",
        "\n",
        "feature = 'EloDifference'\n",
        "\n",
        "isolated = pdp_isolate(\n",
        "    model=gb, \n",
        "    dataset=X_val, \n",
        "    model_features=X_val.columns, \n",
        "    feature=feature\n",
        ")\n",
        "\n",
        "pdp_plot(isolated, feature_name=feature)"
      ],
      "execution_count": 124,
      "outputs": [
        {
          "output_type": "stream",
          "text": [
            "Requirement already satisfied: pdpbox in /usr/local/lib/python3.6/dist-packages (0.2.0)\n",
            "Requirement already satisfied: scipy in /usr/local/lib/python3.6/dist-packages (from pdpbox) (1.4.1)\n",
            "Requirement already satisfied: joblib in /usr/local/lib/python3.6/dist-packages (from pdpbox) (0.14.1)\n",
            "Requirement already satisfied: psutil in /usr/local/lib/python3.6/dist-packages (from pdpbox) (5.4.8)\n",
            "Requirement already satisfied: pandas in /usr/local/lib/python3.6/dist-packages (from pdpbox) (0.25.3)\n",
            "Requirement already satisfied: matplotlib>=2.1.2 in /usr/local/lib/python3.6/dist-packages (from pdpbox) (3.1.2)\n",
            "Requirement already satisfied: scikit-learn in /usr/local/lib/python3.6/dist-packages (from pdpbox) (0.22.1)\n",
            "Requirement already satisfied: numpy in /usr/local/lib/python3.6/dist-packages (from pdpbox) (1.17.5)\n",
            "Requirement already satisfied: pytz>=2017.2 in /usr/local/lib/python3.6/dist-packages (from pandas->pdpbox) (2018.9)\n",
            "Requirement already satisfied: python-dateutil>=2.6.1 in /usr/local/lib/python3.6/dist-packages (from pandas->pdpbox) (2.6.1)\n",
            "Requirement already satisfied: cycler>=0.10 in /usr/local/lib/python3.6/dist-packages (from matplotlib>=2.1.2->pdpbox) (0.10.0)\n",
            "Requirement already satisfied: pyparsing!=2.0.4,!=2.1.2,!=2.1.6,>=2.0.1 in /usr/local/lib/python3.6/dist-packages (from matplotlib>=2.1.2->pdpbox) (2.4.6)\n",
            "Requirement already satisfied: kiwisolver>=1.0.1 in /usr/local/lib/python3.6/dist-packages (from matplotlib>=2.1.2->pdpbox) (1.1.0)\n",
            "Requirement already satisfied: six>=1.5 in /usr/local/lib/python3.6/dist-packages (from python-dateutil>=2.6.1->pandas->pdpbox) (1.12.0)\n",
            "Requirement already satisfied: setuptools in /usr/local/lib/python3.6/dist-packages (from kiwisolver>=1.0.1->matplotlib>=2.1.2->pdpbox) (42.0.2)\n",
            "Requirement already satisfied: shap in /usr/local/lib/python3.6/dist-packages (0.34.0)\n",
            "Requirement already satisfied: numpy in /usr/local/lib/python3.6/dist-packages (from shap) (1.17.5)\n",
            "Requirement already satisfied: scipy in /usr/local/lib/python3.6/dist-packages (from shap) (1.4.1)\n",
            "Requirement already satisfied: pandas in /usr/local/lib/python3.6/dist-packages (from shap) (0.25.3)\n",
            "Requirement already satisfied: scikit-learn in /usr/local/lib/python3.6/dist-packages (from shap) (0.22.1)\n",
            "Requirement already satisfied: tqdm>4.25.0 in /usr/local/lib/python3.6/dist-packages (from shap) (4.28.1)\n",
            "Requirement already satisfied: pytz>=2017.2 in /usr/local/lib/python3.6/dist-packages (from pandas->shap) (2018.9)\n",
            "Requirement already satisfied: python-dateutil>=2.6.1 in /usr/local/lib/python3.6/dist-packages (from pandas->shap) (2.6.1)\n",
            "Requirement already satisfied: joblib>=0.11 in /usr/local/lib/python3.6/dist-packages (from scikit-learn->shap) (0.14.1)\n",
            "Requirement already satisfied: six>=1.5 in /usr/local/lib/python3.6/dist-packages (from python-dateutil>=2.6.1->pandas->shap) (1.12.0)\n"
          ],
          "name": "stdout"
        },
        {
          "output_type": "execute_result",
          "data": {
            "text/plain": [
              "(<Figure size 1080x684 with 2 Axes>,\n",
              " {'pdp_ax': <matplotlib.axes._subplots.AxesSubplot at 0x7f48216157b8>,\n",
              "  'title_ax': <matplotlib.axes._subplots.AxesSubplot at 0x7f483ff00da0>})"
            ]
          },
          "metadata": {
            "tags": []
          },
          "execution_count": 124
        },
        {
          "output_type": "display_data",
          "data": {
            "image/png": "[encoded data removed]",
            "text/plain": [
              "<Figure size 1080x684 with 2 Axes>"
            ]
          },
          "metadata": {
            "tags": []
          }
        }
      ]
    },
    {
      "cell_type": "code",
      "metadata": {
        "id": "cuZKsFe4LP_F",
        "colab_type": "code",
        "colab": {
          "base_uri": "https://localhost:8080/",
          "height": 578
        },
        "outputId": "a3ee7082-e9c9-4b42-908b-09c14e757a52"
      },
      "source": [
        "# Plot PDP with 100 ICE curves\n",
        "# PDP: Partial Dependence Plot\n",
        "# ICE: Individual Conditional Expectation\n",
        "pdp_plot(isolated, feature_name=feature, plot_lines=True, \n",
        "         frac_to_plot=0.01)\n",
        "\n",
        "plt.xlim(-1000,1000);"
      ],
      "execution_count": 125,
      "outputs": [
        {
          "output_type": "display_data",
          "data": {
            "image/png": "[encoded data removed]",
            "text/plain": [
              "<Figure size 1080x684 with 2 Axes>"
            ]
          },
          "metadata": {
            "tags": []
          }
        }
      ]
    },
    {
      "cell_type": "code",
      "metadata": {
        "id": "sIujz1--eJMi",
        "colab_type": "code",
        "colab": {
          "base_uri": "https://localhost:8080/",
          "height": 175
        },
        "outputId": "624bc92c-4028-41b8-f1bb-ed3e4c13b84f"
      },
      "source": [
        "rm_1v1.MatchDuration.describe()"
      ],
      "execution_count": 145,
      "outputs": [
        {
          "output_type": "execute_result",
          "data": {
            "text/plain": [
              "count    205816.000000\n",
              "mean       2476.064514\n",
              "std        1146.316560\n",
              "min           5.000000\n",
              "25%        1739.000000\n",
              "50%        2441.000000\n",
              "75%        3087.000000\n",
              "max       38404.000000\n",
              "Name: MatchDuration, dtype: float64"
            ]
          },
          "metadata": {
            "tags": []
          },
          "execution_count": 145
        }
      ]
    },
    {
      "cell_type": "code",
      "metadata": {
        "id": "IHcmBOL2dx8Z",
        "colab_type": "code",
        "colab": {
          "base_uri": "https://localhost:8080/",
          "height": 578
        },
        "outputId": "e1f2d010-879e-47cb-a1c3-a3b2da89d3d7"
      },
      "source": [
        "pdp_plot(isolated, feature_name='MatchDuration', plot_lines=True, \n",
        "         frac_to_plot=0.01)\n",
        "\n",
        "\n",
        "plt.xlim(0,3200);"
      ],
      "execution_count": 147,
      "outputs": [
        {
          "output_type": "display_data",
          "data": {
            "image/png": "[encoded data removed]",
            "text/plain": [
              "<Figure size 1080x684 with 2 Axes>"
            ]
          },
          "metadata": {
            "tags": []
          }
        }
      ]
    }
  ]
}