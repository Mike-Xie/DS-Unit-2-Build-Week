{
  "nbformat": 4,
  "nbformat_minor": 0,
  "metadata": {
    "colab": {
      "name": "Mike_Xie_Unit_2_Build_Week.ipynb",
      "provenance": [],
      "collapsed_sections": [],
      "include_colab_link": true
    },
    "kernelspec": {
      "display_name": "Python 3",
      "language": "python",
      "name": "python3"
    },
    "language_info": {
      "codemirror_mode": {
        "name": "ipython",
        "version": 3
      },
      "file_extension": ".py",
      "mimetype": "text/x-python",
      "name": "python",
      "nbconvert_exporter": "python",
      "pygments_lexer": "ipython3",
      "version": "3.7.3"
    }
  },
  "cells": [
    {
      "cell_type": "markdown",
      "metadata": {
        "id": "view-in-github",
        "colab_type": "text"
      },
      "source": [
        "<a href=\"https://colab.research.google.com/github/Mike-Xie/DS-Unit-2-Build-Week/blob/master/Mike_Xie_Unit_2_Build_Week.ipynb\" target=\"_parent\"><img src=\"https://colab.research.google.com/assets/colab-badge.svg\" alt=\"Open In Colab\"/></a>"
      ]
    },
    {
      "cell_type": "code",
      "metadata": {
        "id": "sN0fQ76kiLoM",
        "colab_type": "code",
        "colab": {}
      },
      "source": [
        "%%capture\n",
        "import sys\n",
        "\n",
        "if 'google.colab' in sys.modules:\n",
        "    # Install packages in Colab\n",
        "    !pip install category_encoders==2.*\n",
        "    !pip install pandas-profiling==2.*"
      ],
      "execution_count": 0,
      "outputs": []
    },
    {
      "cell_type": "code",
      "metadata": {
        "id": "xe50OOs1JcVv",
        "colab_type": "code",
        "outputId": "7bcb9b52-7da6-4ad1-8902-6a02c3813bc1",
        "colab": {
          "base_uri": "https://localhost:8080/",
          "height": 318
        }
      },
      "source": [
        "!wget https://github.com/bowswung/voobly-scraper/raw/master/data/MatchData/20190208/matchDump.csv.zip"
      ],
      "execution_count": 0,
      "outputs": [
        {
          "output_type": "stream",
          "text": [
            "--2019-12-20 07:14:29--  https://github.com/bowswung/voobly-scraper/raw/master/data/MatchData/20190208/matchDump.csv.zip\n",
            "Resolving github.com (github.com)... 192.30.253.112\n",
            "Connecting to github.com (github.com)|192.30.253.112|:443... connected.\n",
            "HTTP request sent, awaiting response... 302 Found\n",
            "Location: https://media.githubusercontent.com/media/bowswung/voobly-scraper/master/data/MatchData/20190208/matchDump.csv.zip [following]\n",
            "--2019-12-20 07:14:29--  https://media.githubusercontent.com/media/bowswung/voobly-scraper/master/data/MatchData/20190208/matchDump.csv.zip\n",
            "Resolving media.githubusercontent.com (media.githubusercontent.com)... 151.101.0.133, 151.101.64.133, 151.101.128.133, ...\n",
            "Connecting to media.githubusercontent.com (media.githubusercontent.com)|151.101.0.133|:443... connected.\n",
            "HTTP request sent, awaiting response... 200 OK\n",
            "Length: 49029198 (47M) [application/zip]\n",
            "Saving to: ‘matchDump.csv.zip.1’\n",
            "\n",
            "matchDump.csv.zip.1 100%[===================>]  46.76M   154MB/s    in 0.3s    \n",
            "\n",
            "2019-12-20 07:14:30 (154 MB/s) - ‘matchDump.csv.zip.1’ saved [49029198/49029198]\n",
            "\n"
          ],
          "name": "stdout"
        }
      ]
    },
    {
      "cell_type": "code",
      "metadata": {
        "id": "81pkxPffJ6vE",
        "colab_type": "code",
        "outputId": "5bf209f9-d9b1-4d46-d92b-bc7f63e9eed7",
        "colab": {
          "base_uri": "https://localhost:8080/",
          "height": 52
        }
      },
      "source": [
        "!unzip matchDump.csv.zip"
      ],
      "execution_count": 0,
      "outputs": [
        {
          "output_type": "stream",
          "text": [
            "Archive:  matchDump.csv.zip\n",
            "replace matchDump.csv? [y]es, [n]o, [A]ll, [N]one, [r]ename: n\n"
          ],
          "name": "stdout"
        }
      ]
    },
    {
      "cell_type": "code",
      "metadata": {
        "id": "9jUoCeWyJ-8i",
        "colab_type": "code",
        "outputId": "b971dce3-9b38-428f-d99d-59aba141217a",
        "colab": {
          "base_uri": "https://localhost:8080/",
          "height": 213
        }
      },
      "source": [
        "!head matchDump.csv"
      ],
      "execution_count": 0,
      "outputs": [
        {
          "output_type": "stream",
          "text": [
            "MatchId,MatchUrl,MatchDate,MatchDuration,MatchLadder,MatchMap,MatchMods,MatchPlayerId,MatchPlayerName,MatchPlayerTeam,MatchPlayerCivId,MatchPlayerCivName,MatchPlayerWinner,MatchPlayerPreRating,MatchPlayerPostRating,MatchPlayerRecording\r\n",
            "17827685,https://www.voobly.com/match/view/17827685,2018-05-27T18:14:00,520,Match Stats Only,=V= CBA Hero AC V13.scx,v1.5 Beta R6,123972487,___Oreo,1,9,Saracens,1,1584,1600,\r\n",
            "17827685,https://www.voobly.com/match/view/17827685,2018-05-27T18:14:00,520,Match Stats Only,=V= CBA Hero AC V13.scx,v1.5 Beta R6,125049367,___Dm,2,9,Saracens,0,1616,1600,\r\n",
            "17827728,https://www.voobly.com/match/view/17827728,2018-05-27T18:21:00,661,Match Stats Only,=V= CBA Hero AC V13.scx,v1.5 Beta R6,123972487,___Oreo,1,13,Celts,1,1584,1600,\r\n",
            "17827728,https://www.voobly.com/match/view/17827728,2018-05-27T18:21:00,661,Match Stats Only,=V= CBA Hero AC V13.scx,v1.5 Beta R6,125049367,___Dm,2,13,Celts,0,1616,1600,\r\n",
            "17832641,https://www.voobly.com/match/view/17832641,2018-05-28T11:25:00,762,Match Stats Only,=V= CBA Hero AC V13.scx,v1.5 Beta R6,124815560,SOOR_DARA,1,14,Spanish,1,1584,1600,\r\n",
            "17832641,https://www.voobly.com/match/view/17832641,2018-05-28T11:25:00,762,Match Stats Only,=V= CBA Hero AC V13.scx,v1.5 Beta R6,124693469,danyal__,2,14,Spanish,0,1616,1600,\r\n",
            "17839373,https://www.voobly.com/match/view/17839373,2018-05-29T17:04:00,1073,Match Stats Only,=V= TDII TeamBonus v3.scx,\"v1.5 Beta R6, TDII TeamBonus\",125043437,cRiukc,1,17,Huns,1,1584,1600,\r\n",
            "17839373,https://www.voobly.com/match/view/17839373,2018-05-29T17:04:00,1073,Match Stats Only,=V= TDII TeamBonus v3.scx,\"v1.5 Beta R6, TDII TeamBonus\",124157048,_SickBoy,2,16,Mayans,0,1616,1600,\r\n",
            "17839373,https://www.voobly.com/match/view/17839373,2018-05-29T17:04:00,1073,Match Stats Only,=V= TDII TeamBonus v3.scx,\"v1.5 Beta R6, TDII TeamBonus\",*VooblyErrorPlayerNotFound*,\"<td valign=\"\"bottom\"\">Atabeg Zangi (Computer)</td>\",*VooblyErrorPlayerNotFound*,*VooblyErrorPlayerNotFound*,*VooblyErrorPlayerNotFound*,*VooblyErrorPlayerNotFound*,*VooblyErrorPlayerNotFound*,*VooblyErrorPlayerNotFound*,*VooblyErrorPlayerNotFound*\r\n"
          ],
          "name": "stdout"
        }
      ]
    },
    {
      "cell_type": "code",
      "metadata": {
        "id": "V3h4Fq4YKIK0",
        "colab_type": "code",
        "outputId": "3b9d5e92-8c9e-4b96-f01f-445edda702a1",
        "colab": {
          "base_uri": "https://localhost:8080/",
          "height": 34
        }
      },
      "source": [
        "import pandas as pd\n",
        "\n",
        "import category_encoders as ce\n",
        "from sklearn.ensemble import RandomForestClassifier\n",
        "from sklearn.tree import DecisionTreeClassifier\n",
        "from sklearn.pipeline import make_pipeline\n",
        "pd.options.display.max_rows = 999\n",
        "pd.options.display.max_columns = 100\n",
        "\n",
        "df = pd.read_csv('matchDump.csv', header=0, engine='python')\n",
        "\n",
        "cols_to_keep = ['MatchId','MatchMods','MatchMap','MatchLadder','MatchDuration','MatchPlayerTeam','MatchPlayerCivId','MatchPlayerCivName','MatchPlayerWinner','MatchPlayerPreRating']\n",
        "\n",
        "df = df[cols_to_keep]\n",
        "\n",
        "df.shape\n"
      ],
      "execution_count": 0,
      "outputs": [
        {
          "output_type": "execute_result",
          "data": {
            "text/plain": [
              "(1263808, 10)"
            ]
          },
          "metadata": {
            "tags": []
          },
          "execution_count": 5
        }
      ]
    },
    {
      "cell_type": "code",
      "metadata": {
        "id": "_Jxq2LxCKMmg",
        "colab_type": "code",
        "outputId": "9844d5de-1d26-45eb-ea42-bf0b5a5a5725",
        "colab": {
          "base_uri": "https://localhost:8080/",
          "height": 389
        }
      },
      "source": [
        "df.head(5)"
      ],
      "execution_count": 0,
      "outputs": [
        {
          "output_type": "execute_result",
          "data": {
            "text/html": [
              "<div>\n",
              "<style scoped>\n",
              "    .dataframe tbody tr th:only-of-type {\n",
              "        vertical-align: middle;\n",
              "    }\n",
              "\n",
              "    .dataframe tbody tr th {\n",
              "        vertical-align: top;\n",
              "    }\n",
              "\n",
              "    .dataframe thead th {\n",
              "        text-align: right;\n",
              "    }\n",
              "</style>\n",
              "<table border=\"1\" class=\"dataframe\">\n",
              "  <thead>\n",
              "    <tr style=\"text-align: right;\">\n",
              "      <th></th>\n",
              "      <th>MatchId</th>\n",
              "      <th>MatchMods</th>\n",
              "      <th>MatchMap</th>\n",
              "      <th>MatchLadder</th>\n",
              "      <th>MatchDuration</th>\n",
              "      <th>MatchPlayerTeam</th>\n",
              "      <th>MatchPlayerCivId</th>\n",
              "      <th>MatchPlayerCivName</th>\n",
              "      <th>MatchPlayerWinner</th>\n",
              "      <th>MatchPlayerPreRating</th>\n",
              "    </tr>\n",
              "  </thead>\n",
              "  <tbody>\n",
              "    <tr>\n",
              "      <th>0</th>\n",
              "      <td>17827685</td>\n",
              "      <td>v1.5 Beta R6</td>\n",
              "      <td>=V= CBA Hero AC V13.scx</td>\n",
              "      <td>Match Stats Only</td>\n",
              "      <td>520</td>\n",
              "      <td>1</td>\n",
              "      <td>9</td>\n",
              "      <td>Saracens</td>\n",
              "      <td>1</td>\n",
              "      <td>1584</td>\n",
              "    </tr>\n",
              "    <tr>\n",
              "      <th>1</th>\n",
              "      <td>17827685</td>\n",
              "      <td>v1.5 Beta R6</td>\n",
              "      <td>=V= CBA Hero AC V13.scx</td>\n",
              "      <td>Match Stats Only</td>\n",
              "      <td>520</td>\n",
              "      <td>2</td>\n",
              "      <td>9</td>\n",
              "      <td>Saracens</td>\n",
              "      <td>0</td>\n",
              "      <td>1616</td>\n",
              "    </tr>\n",
              "    <tr>\n",
              "      <th>2</th>\n",
              "      <td>17827728</td>\n",
              "      <td>v1.5 Beta R6</td>\n",
              "      <td>=V= CBA Hero AC V13.scx</td>\n",
              "      <td>Match Stats Only</td>\n",
              "      <td>661</td>\n",
              "      <td>1</td>\n",
              "      <td>13</td>\n",
              "      <td>Celts</td>\n",
              "      <td>1</td>\n",
              "      <td>1584</td>\n",
              "    </tr>\n",
              "    <tr>\n",
              "      <th>3</th>\n",
              "      <td>17827728</td>\n",
              "      <td>v1.5 Beta R6</td>\n",
              "      <td>=V= CBA Hero AC V13.scx</td>\n",
              "      <td>Match Stats Only</td>\n",
              "      <td>661</td>\n",
              "      <td>2</td>\n",
              "      <td>13</td>\n",
              "      <td>Celts</td>\n",
              "      <td>0</td>\n",
              "      <td>1616</td>\n",
              "    </tr>\n",
              "    <tr>\n",
              "      <th>4</th>\n",
              "      <td>17832641</td>\n",
              "      <td>v1.5 Beta R6</td>\n",
              "      <td>=V= CBA Hero AC V13.scx</td>\n",
              "      <td>Match Stats Only</td>\n",
              "      <td>762</td>\n",
              "      <td>1</td>\n",
              "      <td>14</td>\n",
              "      <td>Spanish</td>\n",
              "      <td>1</td>\n",
              "      <td>1584</td>\n",
              "    </tr>\n",
              "  </tbody>\n",
              "</table>\n",
              "</div>"
            ],
            "text/plain": [
              "    MatchId     MatchMods                 MatchMap       MatchLadder  \\\n",
              "0  17827685  v1.5 Beta R6  =V= CBA Hero AC V13.scx  Match Stats Only   \n",
              "1  17827685  v1.5 Beta R6  =V= CBA Hero AC V13.scx  Match Stats Only   \n",
              "2  17827728  v1.5 Beta R6  =V= CBA Hero AC V13.scx  Match Stats Only   \n",
              "3  17827728  v1.5 Beta R6  =V= CBA Hero AC V13.scx  Match Stats Only   \n",
              "4  17832641  v1.5 Beta R6  =V= CBA Hero AC V13.scx  Match Stats Only   \n",
              "\n",
              "   MatchDuration MatchPlayerTeam MatchPlayerCivId MatchPlayerCivName  \\\n",
              "0            520               1                9           Saracens   \n",
              "1            520               2                9           Saracens   \n",
              "2            661               1               13              Celts   \n",
              "3            661               2               13              Celts   \n",
              "4            762               1               14            Spanish   \n",
              "\n",
              "  MatchPlayerWinner MatchPlayerPreRating  \n",
              "0                 1                 1584  \n",
              "1                 0                 1616  \n",
              "2                 1                 1584  \n",
              "3                 0                 1616  \n",
              "4                 1                 1584  "
            ]
          },
          "metadata": {
            "tags": []
          },
          "execution_count": 59
        }
      ]
    },
    {
      "cell_type": "markdown",
      "metadata": {
        "id": "nj3sWMupLhK4",
        "colab_type": "text"
      },
      "source": [
        "# Choose Target"
      ]
    },
    {
      "cell_type": "code",
      "metadata": {
        "id": "ExrMJgtHKplz",
        "colab_type": "code",
        "colab": {}
      },
      "source": [
        "# I want to predict which player wins\n",
        "\n",
        "target = 'MatchPlayerWinner'\n",
        "\n",
        "# This is 50/50 since odds are P1 and evens are P2 for a baseline"
      ],
      "execution_count": 0,
      "outputs": []
    },
    {
      "cell_type": "code",
      "metadata": {
        "id": "tnc3ar8fLyto",
        "colab_type": "code",
        "outputId": "5f6da8d3-d5af-4b7f-ad9f-ff741905dac5",
        "colab": {
          "base_uri": "https://localhost:8080/",
          "height": 105
        }
      },
      "source": [
        "df[target].describe()"
      ],
      "execution_count": 0,
      "outputs": [
        {
          "output_type": "execute_result",
          "data": {
            "text/plain": [
              "count     1263808\n",
              "unique          3\n",
              "top             0\n",
              "freq       647589\n",
              "Name: MatchPlayerWinner, dtype: object"
            ]
          },
          "metadata": {
            "tags": []
          },
          "execution_count": 61
        }
      ]
    },
    {
      "cell_type": "code",
      "metadata": {
        "id": "7IhBk2F1L4Od",
        "colab_type": "code",
        "outputId": "79925b4c-c7ae-4c00-c302-fa0c24ca3112",
        "colab": {
          "base_uri": "https://localhost:8080/",
          "height": 122
        }
      },
      "source": [
        "df['MatchLadder'].value_counts()"
      ],
      "execution_count": 0,
      "outputs": [
        {
          "output_type": "execute_result",
          "data": {
            "text/plain": [
              "RM - Team           723786\n",
              "RM - 1v1            411718\n",
              "Match Stats Only     81083\n",
              "DM - Team            40249\n",
              "DM - 1v1              6972\n",
              "Name: MatchLadder, dtype: int64"
            ]
          },
          "metadata": {
            "tags": []
          },
          "execution_count": 62
        }
      ]
    },
    {
      "cell_type": "code",
      "metadata": {
        "id": "YwD4fGN5MfFu",
        "colab_type": "code",
        "outputId": "0113b5f2-fd77-4c47-eaed-3ca1f8bda8b7",
        "colab": {
          "base_uri": "https://localhost:8080/",
          "height": 199
        }
      },
      "source": [
        "# only do 1v1 on random map game mode\n",
        "\n",
        "rm_1v1 = df[df['MatchLadder'] == 'RM - 1v1']\n",
        "\n",
        "# remove ones with errors\n",
        "\n",
        "rm_1v1 = rm_1v1[rm_1v1.MatchPlayerPreRating != '*VooblyErrorPlayerNotFound*']\n",
        "\n",
        "# drop matchladder now since it's all the same\n",
        "\n",
        "rm_1v1 = rm_1v1.drop(labels=['MatchLadder','MatchPlayerCivName','MatchPlayerTeam'], axis=1)\n",
        "\n",
        "rm_1v1.head()"
      ],
      "execution_count": 0,
      "outputs": [
        {
          "output_type": "execute_result",
          "data": {
            "text/html": [
              "<div>\n",
              "<style scoped>\n",
              "    .dataframe tbody tr th:only-of-type {\n",
              "        vertical-align: middle;\n",
              "    }\n",
              "\n",
              "    .dataframe tbody tr th {\n",
              "        vertical-align: top;\n",
              "    }\n",
              "\n",
              "    .dataframe thead th {\n",
              "        text-align: right;\n",
              "    }\n",
              "</style>\n",
              "<table border=\"1\" class=\"dataframe\">\n",
              "  <thead>\n",
              "    <tr style=\"text-align: right;\">\n",
              "      <th></th>\n",
              "      <th>MatchId</th>\n",
              "      <th>MatchMods</th>\n",
              "      <th>MatchMap</th>\n",
              "      <th>MatchDuration</th>\n",
              "      <th>MatchPlayerCivId</th>\n",
              "      <th>MatchPlayerWinner</th>\n",
              "      <th>MatchPlayerPreRating</th>\n",
              "    </tr>\n",
              "  </thead>\n",
              "  <tbody>\n",
              "    <tr>\n",
              "      <th>728</th>\n",
              "      <td>18658367</td>\n",
              "      <td>v1.5 Beta R7, WololoKingdoms</td>\n",
              "      <td>Arabia</td>\n",
              "      <td>1055</td>\n",
              "      <td>16</td>\n",
              "      <td>1</td>\n",
              "      <td>1599</td>\n",
              "    </tr>\n",
              "    <tr>\n",
              "      <th>729</th>\n",
              "      <td>18658367</td>\n",
              "      <td>v1.5 Beta R7, WololoKingdoms</td>\n",
              "      <td>Arabia</td>\n",
              "      <td>1055</td>\n",
              "      <td>11</td>\n",
              "      <td>0</td>\n",
              "      <td>1600</td>\n",
              "    </tr>\n",
              "    <tr>\n",
              "      <th>730</th>\n",
              "      <td>18658419</td>\n",
              "      <td>1.4 RC</td>\n",
              "      <td>Custom</td>\n",
              "      <td>3361</td>\n",
              "      <td>18</td>\n",
              "      <td>1</td>\n",
              "      <td>1629</td>\n",
              "    </tr>\n",
              "    <tr>\n",
              "      <th>731</th>\n",
              "      <td>18658419</td>\n",
              "      <td>1.4 RC</td>\n",
              "      <td>Custom</td>\n",
              "      <td>3361</td>\n",
              "      <td>17</td>\n",
              "      <td>0</td>\n",
              "      <td>1548</td>\n",
              "    </tr>\n",
              "    <tr>\n",
              "      <th>732</th>\n",
              "      <td>18658476</td>\n",
              "      <td>v1.5 Beta R7, WololoKingdoms</td>\n",
              "      <td>Nomad</td>\n",
              "      <td>3369</td>\n",
              "      <td>6</td>\n",
              "      <td>1</td>\n",
              "      <td>1975</td>\n",
              "    </tr>\n",
              "  </tbody>\n",
              "</table>\n",
              "</div>"
            ],
            "text/plain": [
              "      MatchId                     MatchMods MatchMap  MatchDuration  \\\n",
              "728  18658367  v1.5 Beta R7, WololoKingdoms   Arabia           1055   \n",
              "729  18658367  v1.5 Beta R7, WololoKingdoms   Arabia           1055   \n",
              "730  18658419                        1.4 RC   Custom           3361   \n",
              "731  18658419                        1.4 RC   Custom           3361   \n",
              "732  18658476  v1.5 Beta R7, WololoKingdoms    Nomad           3369   \n",
              "\n",
              "    MatchPlayerCivId MatchPlayerWinner MatchPlayerPreRating  \n",
              "728               16                 1                 1599  \n",
              "729               11                 0                 1600  \n",
              "730               18                 1                 1629  \n",
              "731               17                 0                 1548  \n",
              "732                6                 1                 1975  "
            ]
          },
          "metadata": {
            "tags": []
          },
          "execution_count": 63
        }
      ]
    },
    {
      "cell_type": "code",
      "metadata": {
        "id": "Q9tvqFh4zNH4",
        "colab_type": "code",
        "outputId": "0eceed84-644b-418e-da84-b36ab215b312",
        "colab": {
          "base_uri": "https://localhost:8080/",
          "height": 157
        }
      },
      "source": [
        "rm_1v1.dtypes"
      ],
      "execution_count": 0,
      "outputs": [
        {
          "output_type": "execute_result",
          "data": {
            "text/plain": [
              "MatchId                  int64\n",
              "MatchMods               object\n",
              "MatchMap                object\n",
              "MatchDuration            int64\n",
              "MatchPlayerCivId        object\n",
              "MatchPlayerWinner       object\n",
              "MatchPlayerPreRating    object\n",
              "dtype: object"
            ]
          },
          "metadata": {
            "tags": []
          },
          "execution_count": 64
        }
      ]
    },
    {
      "cell_type": "code",
      "metadata": {
        "id": "P_nyOFAXyXHC",
        "colab_type": "code",
        "colab": {}
      },
      "source": [
        "rm_1v1['MatchPlayerCivId'] = rm_1v1['MatchPlayerCivId'].astype(int)\n",
        "rm_1v1['MatchPlayerWinner'] = rm_1v1['MatchPlayerWinner'].astype(int)\n",
        "rm_1v1['MatchPlayerPreRating'] = rm_1v1['MatchPlayerPreRating'].astype(int)"
      ],
      "execution_count": 0,
      "outputs": []
    },
    {
      "cell_type": "code",
      "metadata": {
        "id": "fSo8PJieyZjR",
        "colab_type": "code",
        "outputId": "4be89422-c115-4056-d2f6-246cbbbc7582",
        "colab": {
          "base_uri": "https://localhost:8080/",
          "height": 157
        }
      },
      "source": [
        "rm_1v1.dtypes "
      ],
      "execution_count": 0,
      "outputs": [
        {
          "output_type": "execute_result",
          "data": {
            "text/plain": [
              "MatchId                  int64\n",
              "MatchMods               object\n",
              "MatchMap                object\n",
              "MatchDuration            int64\n",
              "MatchPlayerCivId         int64\n",
              "MatchPlayerWinner        int64\n",
              "MatchPlayerPreRating     int64\n",
              "dtype: object"
            ]
          },
          "metadata": {
            "tags": []
          },
          "execution_count": 66
        }
      ]
    },
    {
      "cell_type": "code",
      "metadata": {
        "id": "oVPkSv2wP9bi",
        "colab_type": "code",
        "outputId": "5351e149-ee76-4a5c-a663-54f40dd610ce",
        "colab": {
          "base_uri": "https://localhost:8080/",
          "height": 105
        }
      },
      "source": [
        "rm_1v1['MatchMods'].describe()"
      ],
      "execution_count": 0,
      "outputs": [
        {
          "output_type": "execute_result",
          "data": {
            "text/plain": [
              "count                           411632\n",
              "unique                              40\n",
              "top       v1.5 Beta R7, WololoKingdoms\n",
              "freq                            293214\n",
              "Name: MatchMods, dtype: object"
            ]
          },
          "metadata": {
            "tags": []
          },
          "execution_count": 67
        }
      ]
    },
    {
      "cell_type": "code",
      "metadata": {
        "id": "zvdO8GNj0WGp",
        "colab_type": "code",
        "outputId": "c77b1cca-f9d9-46e2-c59f-ae33cf1b9054",
        "colab": {
          "base_uri": "https://localhost:8080/",
          "height": 105
        }
      },
      "source": [
        "rm_1v1['MatchMap'].describe()"
      ],
      "execution_count": 0,
      "outputs": [
        {
          "output_type": "execute_result",
          "data": {
            "text/plain": [
              "count     411632\n",
              "unique        57\n",
              "top       Arabia\n",
              "freq      274278\n",
              "Name: MatchMap, dtype: object"
            ]
          },
          "metadata": {
            "tags": []
          },
          "execution_count": 68
        }
      ]
    },
    {
      "cell_type": "code",
      "metadata": {
        "id": "xKbSuIu3QCMh",
        "colab_type": "code",
        "outputId": "090b89e9-686d-4154-87f1-35c21bef98d2",
        "colab": {
          "base_uri": "https://localhost:8080/",
          "height": 199
        }
      },
      "source": [
        "rm_1v1.tail()"
      ],
      "execution_count": 0,
      "outputs": [
        {
          "output_type": "execute_result",
          "data": {
            "text/html": [
              "<div>\n",
              "<style scoped>\n",
              "    .dataframe tbody tr th:only-of-type {\n",
              "        vertical-align: middle;\n",
              "    }\n",
              "\n",
              "    .dataframe tbody tr th {\n",
              "        vertical-align: top;\n",
              "    }\n",
              "\n",
              "    .dataframe thead th {\n",
              "        text-align: right;\n",
              "    }\n",
              "</style>\n",
              "<table border=\"1\" class=\"dataframe\">\n",
              "  <thead>\n",
              "    <tr style=\"text-align: right;\">\n",
              "      <th></th>\n",
              "      <th>MatchId</th>\n",
              "      <th>MatchMods</th>\n",
              "      <th>MatchMap</th>\n",
              "      <th>MatchDuration</th>\n",
              "      <th>MatchPlayerCivId</th>\n",
              "      <th>MatchPlayerWinner</th>\n",
              "      <th>MatchPlayerPreRating</th>\n",
              "    </tr>\n",
              "  </thead>\n",
              "  <tbody>\n",
              "    <tr>\n",
              "      <th>1263771</th>\n",
              "      <td>19250562</td>\n",
              "      <td>v1.5 Beta R7, WololoKingdoms</td>\n",
              "      <td>Arabia</td>\n",
              "      <td>4797</td>\n",
              "      <td>8</td>\n",
              "      <td>0</td>\n",
              "      <td>1695</td>\n",
              "    </tr>\n",
              "    <tr>\n",
              "      <th>1263772</th>\n",
              "      <td>19250571</td>\n",
              "      <td>v1.5 Beta R7, WololoKingdoms</td>\n",
              "      <td>Custom</td>\n",
              "      <td>2501</td>\n",
              "      <td>13</td>\n",
              "      <td>1</td>\n",
              "      <td>1933</td>\n",
              "    </tr>\n",
              "    <tr>\n",
              "      <th>1263773</th>\n",
              "      <td>19250571</td>\n",
              "      <td>v1.5 Beta R7, WololoKingdoms</td>\n",
              "      <td>Custom</td>\n",
              "      <td>2501</td>\n",
              "      <td>12</td>\n",
              "      <td>0</td>\n",
              "      <td>1909</td>\n",
              "    </tr>\n",
              "    <tr>\n",
              "      <th>1263774</th>\n",
              "      <td>19250581</td>\n",
              "      <td>v1.5 Beta R7, WololoKingdoms</td>\n",
              "      <td>Custom</td>\n",
              "      <td>4080</td>\n",
              "      <td>24</td>\n",
              "      <td>1</td>\n",
              "      <td>1542</td>\n",
              "    </tr>\n",
              "    <tr>\n",
              "      <th>1263775</th>\n",
              "      <td>19250581</td>\n",
              "      <td>v1.5 Beta R7, WololoKingdoms</td>\n",
              "      <td>Custom</td>\n",
              "      <td>4080</td>\n",
              "      <td>19</td>\n",
              "      <td>0</td>\n",
              "      <td>1479</td>\n",
              "    </tr>\n",
              "  </tbody>\n",
              "</table>\n",
              "</div>"
            ],
            "text/plain": [
              "          MatchId                     MatchMods MatchMap  MatchDuration  \\\n",
              "1263771  19250562  v1.5 Beta R7, WololoKingdoms   Arabia           4797   \n",
              "1263772  19250571  v1.5 Beta R7, WololoKingdoms   Custom           2501   \n",
              "1263773  19250571  v1.5 Beta R7, WololoKingdoms   Custom           2501   \n",
              "1263774  19250581  v1.5 Beta R7, WololoKingdoms   Custom           4080   \n",
              "1263775  19250581  v1.5 Beta R7, WololoKingdoms   Custom           4080   \n",
              "\n",
              "         MatchPlayerCivId  MatchPlayerWinner  MatchPlayerPreRating  \n",
              "1263771                 8                  0                  1695  \n",
              "1263772                13                  1                  1933  \n",
              "1263773                12                  0                  1909  \n",
              "1263774                24                  1                  1542  \n",
              "1263775                19                  0                  1479  "
            ]
          },
          "metadata": {
            "tags": []
          },
          "execution_count": 69
        }
      ]
    },
    {
      "cell_type": "code",
      "metadata": {
        "id": "reFDWJ-NQq_s",
        "colab_type": "code",
        "outputId": "085befb0-b916-4243-cca5-6b4637b40706",
        "colab": {
          "base_uri": "https://localhost:8080/",
          "height": 34
        }
      },
      "source": [
        "y = rm_1v1[target]\n",
        "\n",
        "y.nunique()"
      ],
      "execution_count": 0,
      "outputs": [
        {
          "output_type": "execute_result",
          "data": {
            "text/plain": [
              "2"
            ]
          },
          "metadata": {
            "tags": []
          },
          "execution_count": 70
        }
      ]
    },
    {
      "cell_type": "code",
      "metadata": {
        "id": "yBqsdVSIUARU",
        "colab_type": "code",
        "outputId": "bab76174-71f3-43a5-ae6f-28b5c293f3a3",
        "colab": {
          "base_uri": "https://localhost:8080/",
          "height": 70
        }
      },
      "source": [
        "y.value_counts() # baseline is 50/50 since only P1 or P2 can win a 1v1"
      ],
      "execution_count": 0,
      "outputs": [
        {
          "output_type": "execute_result",
          "data": {
            "text/plain": [
              "1    205816\n",
              "0    205816\n",
              "Name: MatchPlayerWinner, dtype: int64"
            ]
          },
          "metadata": {
            "tags": []
          },
          "execution_count": 71
        }
      ]
    },
    {
      "cell_type": "code",
      "metadata": {
        "id": "-GylyXaPUCzU",
        "colab_type": "code",
        "colab": {}
      },
      "source": [
        "# ask Shriphani how to drop Voobly Errors"
      ],
      "execution_count": 0,
      "outputs": []
    },
    {
      "cell_type": "code",
      "metadata": {
        "id": "zlu0hPt2abDI",
        "colab_type": "code",
        "outputId": "a2408c93-8cb1-4078-ff61-bf76416a7071",
        "colab": {
          "base_uri": "https://localhost:8080/",
          "height": 34
        }
      },
      "source": [
        "# do this later to feature engineer relative rating by getting P1 and P2 ratings on same row after merge\n",
        "\n",
        "first_players = rm_1v1[::2]\n",
        "second_players = rm_1v1[1::2]\n",
        "\n",
        "\n",
        "first_players.shape, second_players.shape"
      ],
      "execution_count": 0,
      "outputs": [
        {
          "output_type": "execute_result",
          "data": {
            "text/plain": [
              "((205816, 7), (205816, 7))"
            ]
          },
          "metadata": {
            "tags": []
          },
          "execution_count": 73
        }
      ]
    },
    {
      "cell_type": "code",
      "metadata": {
        "id": "PnEvNQyn5AuH",
        "colab_type": "code",
        "outputId": "fe53eeed-5cbe-433f-e278-99c3ebeaef94",
        "colab": {
          "base_uri": "https://localhost:8080/",
          "height": 199
        }
      },
      "source": [
        "first_players.head()"
      ],
      "execution_count": 0,
      "outputs": [
        {
          "output_type": "execute_result",
          "data": {
            "text/html": [
              "<div>\n",
              "<style scoped>\n",
              "    .dataframe tbody tr th:only-of-type {\n",
              "        vertical-align: middle;\n",
              "    }\n",
              "\n",
              "    .dataframe tbody tr th {\n",
              "        vertical-align: top;\n",
              "    }\n",
              "\n",
              "    .dataframe thead th {\n",
              "        text-align: right;\n",
              "    }\n",
              "</style>\n",
              "<table border=\"1\" class=\"dataframe\">\n",
              "  <thead>\n",
              "    <tr style=\"text-align: right;\">\n",
              "      <th></th>\n",
              "      <th>MatchId</th>\n",
              "      <th>MatchMods</th>\n",
              "      <th>MatchMap</th>\n",
              "      <th>MatchDuration</th>\n",
              "      <th>MatchPlayerCivId</th>\n",
              "      <th>MatchPlayerWinner</th>\n",
              "      <th>MatchPlayerPreRating</th>\n",
              "    </tr>\n",
              "  </thead>\n",
              "  <tbody>\n",
              "    <tr>\n",
              "      <th>728</th>\n",
              "      <td>18658367</td>\n",
              "      <td>v1.5 Beta R7, WololoKingdoms</td>\n",
              "      <td>Arabia</td>\n",
              "      <td>1055</td>\n",
              "      <td>16</td>\n",
              "      <td>1</td>\n",
              "      <td>1599</td>\n",
              "    </tr>\n",
              "    <tr>\n",
              "      <th>730</th>\n",
              "      <td>18658419</td>\n",
              "      <td>1.4 RC</td>\n",
              "      <td>Custom</td>\n",
              "      <td>3361</td>\n",
              "      <td>18</td>\n",
              "      <td>1</td>\n",
              "      <td>1629</td>\n",
              "    </tr>\n",
              "    <tr>\n",
              "      <th>732</th>\n",
              "      <td>18658476</td>\n",
              "      <td>v1.5 Beta R7, WololoKingdoms</td>\n",
              "      <td>Nomad</td>\n",
              "      <td>3369</td>\n",
              "      <td>6</td>\n",
              "      <td>1</td>\n",
              "      <td>1975</td>\n",
              "    </tr>\n",
              "    <tr>\n",
              "      <th>734</th>\n",
              "      <td>18658489</td>\n",
              "      <td>1.4 RC</td>\n",
              "      <td>Custom</td>\n",
              "      <td>1891</td>\n",
              "      <td>12</td>\n",
              "      <td>1</td>\n",
              "      <td>1415</td>\n",
              "    </tr>\n",
              "    <tr>\n",
              "      <th>736</th>\n",
              "      <td>18658492</td>\n",
              "      <td>v1.5 Beta R7, WololoKingdoms</td>\n",
              "      <td>Custom</td>\n",
              "      <td>3832</td>\n",
              "      <td>22</td>\n",
              "      <td>1</td>\n",
              "      <td>1385</td>\n",
              "    </tr>\n",
              "  </tbody>\n",
              "</table>\n",
              "</div>"
            ],
            "text/plain": [
              "      MatchId                     MatchMods MatchMap  MatchDuration  \\\n",
              "728  18658367  v1.5 Beta R7, WololoKingdoms   Arabia           1055   \n",
              "730  18658419                        1.4 RC   Custom           3361   \n",
              "732  18658476  v1.5 Beta R7, WololoKingdoms    Nomad           3369   \n",
              "734  18658489                        1.4 RC   Custom           1891   \n",
              "736  18658492  v1.5 Beta R7, WololoKingdoms   Custom           3832   \n",
              "\n",
              "     MatchPlayerCivId  MatchPlayerWinner  MatchPlayerPreRating  \n",
              "728                16                  1                  1599  \n",
              "730                18                  1                  1629  \n",
              "732                 6                  1                  1975  \n",
              "734                12                  1                  1415  \n",
              "736                22                  1                  1385  "
            ]
          },
          "metadata": {
            "tags": []
          },
          "execution_count": 74
        }
      ]
    },
    {
      "cell_type": "code",
      "metadata": {
        "id": "c4ojEtLi5DY7",
        "colab_type": "code",
        "outputId": "521797ef-9fc9-4a43-90a3-e11229596d16",
        "colab": {
          "base_uri": "https://localhost:8080/",
          "height": 199
        }
      },
      "source": [
        "second_players.head()"
      ],
      "execution_count": 0,
      "outputs": [
        {
          "output_type": "execute_result",
          "data": {
            "text/html": [
              "<div>\n",
              "<style scoped>\n",
              "    .dataframe tbody tr th:only-of-type {\n",
              "        vertical-align: middle;\n",
              "    }\n",
              "\n",
              "    .dataframe tbody tr th {\n",
              "        vertical-align: top;\n",
              "    }\n",
              "\n",
              "    .dataframe thead th {\n",
              "        text-align: right;\n",
              "    }\n",
              "</style>\n",
              "<table border=\"1\" class=\"dataframe\">\n",
              "  <thead>\n",
              "    <tr style=\"text-align: right;\">\n",
              "      <th></th>\n",
              "      <th>MatchId</th>\n",
              "      <th>MatchMods</th>\n",
              "      <th>MatchMap</th>\n",
              "      <th>MatchDuration</th>\n",
              "      <th>MatchPlayerCivId</th>\n",
              "      <th>MatchPlayerWinner</th>\n",
              "      <th>MatchPlayerPreRating</th>\n",
              "    </tr>\n",
              "  </thead>\n",
              "  <tbody>\n",
              "    <tr>\n",
              "      <th>729</th>\n",
              "      <td>18658367</td>\n",
              "      <td>v1.5 Beta R7, WololoKingdoms</td>\n",
              "      <td>Arabia</td>\n",
              "      <td>1055</td>\n",
              "      <td>11</td>\n",
              "      <td>0</td>\n",
              "      <td>1600</td>\n",
              "    </tr>\n",
              "    <tr>\n",
              "      <th>731</th>\n",
              "      <td>18658419</td>\n",
              "      <td>1.4 RC</td>\n",
              "      <td>Custom</td>\n",
              "      <td>3361</td>\n",
              "      <td>17</td>\n",
              "      <td>0</td>\n",
              "      <td>1548</td>\n",
              "    </tr>\n",
              "    <tr>\n",
              "      <th>733</th>\n",
              "      <td>18658476</td>\n",
              "      <td>v1.5 Beta R7, WololoKingdoms</td>\n",
              "      <td>Nomad</td>\n",
              "      <td>3369</td>\n",
              "      <td>17</td>\n",
              "      <td>0</td>\n",
              "      <td>2065</td>\n",
              "    </tr>\n",
              "    <tr>\n",
              "      <th>735</th>\n",
              "      <td>18658489</td>\n",
              "      <td>1.4 RC</td>\n",
              "      <td>Custom</td>\n",
              "      <td>1891</td>\n",
              "      <td>18</td>\n",
              "      <td>0</td>\n",
              "      <td>1535</td>\n",
              "    </tr>\n",
              "    <tr>\n",
              "      <th>737</th>\n",
              "      <td>18658492</td>\n",
              "      <td>v1.5 Beta R7, WololoKingdoms</td>\n",
              "      <td>Custom</td>\n",
              "      <td>3832</td>\n",
              "      <td>8</td>\n",
              "      <td>0</td>\n",
              "      <td>1600</td>\n",
              "    </tr>\n",
              "  </tbody>\n",
              "</table>\n",
              "</div>"
            ],
            "text/plain": [
              "      MatchId                     MatchMods MatchMap  MatchDuration  \\\n",
              "729  18658367  v1.5 Beta R7, WololoKingdoms   Arabia           1055   \n",
              "731  18658419                        1.4 RC   Custom           3361   \n",
              "733  18658476  v1.5 Beta R7, WololoKingdoms    Nomad           3369   \n",
              "735  18658489                        1.4 RC   Custom           1891   \n",
              "737  18658492  v1.5 Beta R7, WololoKingdoms   Custom           3832   \n",
              "\n",
              "     MatchPlayerCivId  MatchPlayerWinner  MatchPlayerPreRating  \n",
              "729                11                  0                  1600  \n",
              "731                17                  0                  1548  \n",
              "733                17                  0                  2065  \n",
              "735                18                  0                  1535  \n",
              "737                 8                  0                  1600  "
            ]
          },
          "metadata": {
            "tags": []
          },
          "execution_count": 75
        }
      ]
    },
    {
      "cell_type": "code",
      "metadata": {
        "id": "qYUVvUAMQMR9",
        "colab_type": "code",
        "outputId": "5494d93d-519d-4ad3-f4ca-1b1dbb8b2708",
        "colab": {
          "base_uri": "https://localhost:8080/",
          "height": 199
        }
      },
      "source": [
        "p2_names = {\n",
        "    \"MatchPlayerCivId\" : \"MatchPlayerCivId2\",\n",
        "    \"MatchPlayerPreRating\" : \"MatchPlayerPreRating2\",\n",
        "    \"MatchPlayerPostRating\" : \"MatchPlayerPostRating2\"\n",
        "}\n",
        "\n",
        "second_players = second_players.rename(columns=p2_names)\n",
        "\n",
        "drop_cols = ['MatchMods','MatchDuration','MatchPlayerWinner', 'MatchMap']\n",
        "second_players = second_players.drop(labels=drop_cols, axis=1)\n",
        "\n",
        "second_players.head()"
      ],
      "execution_count": 0,
      "outputs": [
        {
          "output_type": "execute_result",
          "data": {
            "text/html": [
              "<div>\n",
              "<style scoped>\n",
              "    .dataframe tbody tr th:only-of-type {\n",
              "        vertical-align: middle;\n",
              "    }\n",
              "\n",
              "    .dataframe tbody tr th {\n",
              "        vertical-align: top;\n",
              "    }\n",
              "\n",
              "    .dataframe thead th {\n",
              "        text-align: right;\n",
              "    }\n",
              "</style>\n",
              "<table border=\"1\" class=\"dataframe\">\n",
              "  <thead>\n",
              "    <tr style=\"text-align: right;\">\n",
              "      <th></th>\n",
              "      <th>MatchId</th>\n",
              "      <th>MatchPlayerCivId2</th>\n",
              "      <th>MatchPlayerPreRating2</th>\n",
              "    </tr>\n",
              "  </thead>\n",
              "  <tbody>\n",
              "    <tr>\n",
              "      <th>729</th>\n",
              "      <td>18658367</td>\n",
              "      <td>11</td>\n",
              "      <td>1600</td>\n",
              "    </tr>\n",
              "    <tr>\n",
              "      <th>731</th>\n",
              "      <td>18658419</td>\n",
              "      <td>17</td>\n",
              "      <td>1548</td>\n",
              "    </tr>\n",
              "    <tr>\n",
              "      <th>733</th>\n",
              "      <td>18658476</td>\n",
              "      <td>17</td>\n",
              "      <td>2065</td>\n",
              "    </tr>\n",
              "    <tr>\n",
              "      <th>735</th>\n",
              "      <td>18658489</td>\n",
              "      <td>18</td>\n",
              "      <td>1535</td>\n",
              "    </tr>\n",
              "    <tr>\n",
              "      <th>737</th>\n",
              "      <td>18658492</td>\n",
              "      <td>8</td>\n",
              "      <td>1600</td>\n",
              "    </tr>\n",
              "  </tbody>\n",
              "</table>\n",
              "</div>"
            ],
            "text/plain": [
              "      MatchId  MatchPlayerCivId2  MatchPlayerPreRating2\n",
              "729  18658367                 11                   1600\n",
              "731  18658419                 17                   1548\n",
              "733  18658476                 17                   2065\n",
              "735  18658489                 18                   1535\n",
              "737  18658492                  8                   1600"
            ]
          },
          "metadata": {
            "tags": []
          },
          "execution_count": 76
        }
      ]
    },
    {
      "cell_type": "code",
      "metadata": {
        "id": "rqitzCLLXHMk",
        "colab_type": "code",
        "colab": {}
      },
      "source": [
        "rm_1v1 = first_players.merge(second_players, on='MatchId')\n"
      ],
      "execution_count": 0,
      "outputs": []
    },
    {
      "cell_type": "code",
      "metadata": {
        "id": "LV7xypp7wK0U",
        "colab_type": "code",
        "colab": {}
      },
      "source": [
        "# set matchID as index\n",
        "\n",
        "rm_1v1 = rm_1v1.set_index('MatchId')\n",
        "\n",
        "# unfortunately all of the entries are formatted such that P1 is the match winner so we need to shuffle some\n",
        "# half of it\n",
        "\n",
        "\n"
      ],
      "execution_count": 0,
      "outputs": []
    },
    {
      "cell_type": "code",
      "metadata": {
        "id": "ejHhsqrwIIdH",
        "colab_type": "code",
        "outputId": "42a875b5-057f-4053-8f68-bea22c015763",
        "colab": {
          "base_uri": "https://localhost:8080/",
          "height": 317
        }
      },
      "source": [
        "from sklearn.model_selection import train_test_split\n",
        "\n",
        "fst, snd = train_test_split(rm_1v1, train_size=0.5, test_size=0.5)\n",
        "\n",
        "fst.shape, snd.shape\n",
        "\n",
        "snd_names = {\n",
        "    \"MatchPlayerCivId\" : \"MatchPlayerCivId2\",\n",
        "    \"MatchPlayerPreRating\" : \"MatchPlayerPreRating2\",\n",
        "    \"MatchPlayerPostRating\" : \"MatchPlayerPostRating2\",\n",
        "    \"MatchPlayerCivId2\" : \"MatchPlayerCivId\",\n",
        "    \"MatchPlayerPreRating2\" : \"MatchPlayerPreRating\",\n",
        "    \"MatchPlayerPostRating2\" : \"MatchPlayerPostRating\"\n",
        "}\n",
        "\n",
        "snd = snd.rename(columns=snd_names)\n",
        "snd['MatchPlayerWinner'] = snd['MatchPlayerWinner'].map({1:0})\n",
        "\n",
        "snd = snd.fillna(0)\n",
        "\n",
        "snd.head()\n"
      ],
      "execution_count": 0,
      "outputs": [
        {
          "output_type": "execute_result",
          "data": {
            "text/html": [
              "<div>\n",
              "<style scoped>\n",
              "    .dataframe tbody tr th:only-of-type {\n",
              "        vertical-align: middle;\n",
              "    }\n",
              "\n",
              "    .dataframe tbody tr th {\n",
              "        vertical-align: top;\n",
              "    }\n",
              "\n",
              "    .dataframe thead th {\n",
              "        text-align: right;\n",
              "    }\n",
              "</style>\n",
              "<table border=\"1\" class=\"dataframe\">\n",
              "  <thead>\n",
              "    <tr style=\"text-align: right;\">\n",
              "      <th></th>\n",
              "      <th>MatchMods</th>\n",
              "      <th>MatchMap</th>\n",
              "      <th>MatchDuration</th>\n",
              "      <th>MatchPlayerCivId2</th>\n",
              "      <th>MatchPlayerWinner</th>\n",
              "      <th>MatchPlayerPreRating2</th>\n",
              "      <th>MatchPlayerCivId</th>\n",
              "      <th>MatchPlayerPreRating</th>\n",
              "    </tr>\n",
              "    <tr>\n",
              "      <th>MatchId</th>\n",
              "      <th></th>\n",
              "      <th></th>\n",
              "      <th></th>\n",
              "      <th></th>\n",
              "      <th></th>\n",
              "      <th></th>\n",
              "      <th></th>\n",
              "      <th></th>\n",
              "    </tr>\n",
              "  </thead>\n",
              "  <tbody>\n",
              "    <tr>\n",
              "      <th>18908910</th>\n",
              "      <td>v1.5 Beta R7</td>\n",
              "      <td>Custom</td>\n",
              "      <td>3198</td>\n",
              "      <td>10</td>\n",
              "      <td>0</td>\n",
              "      <td>1468</td>\n",
              "      <td>18</td>\n",
              "      <td>1581</td>\n",
              "    </tr>\n",
              "    <tr>\n",
              "      <th>19047033</th>\n",
              "      <td>v1.5 Beta R7, WololoKingdoms</td>\n",
              "      <td>Arabia</td>\n",
              "      <td>1893</td>\n",
              "      <td>15</td>\n",
              "      <td>0</td>\n",
              "      <td>1555</td>\n",
              "      <td>10</td>\n",
              "      <td>1596</td>\n",
              "    </tr>\n",
              "    <tr>\n",
              "      <th>19082891</th>\n",
              "      <td>v1.5 Beta R7, WololoKingdoms</td>\n",
              "      <td>Custom</td>\n",
              "      <td>1094</td>\n",
              "      <td>2</td>\n",
              "      <td>0</td>\n",
              "      <td>2013</td>\n",
              "      <td>19</td>\n",
              "      <td>2190</td>\n",
              "    </tr>\n",
              "    <tr>\n",
              "      <th>19207723</th>\n",
              "      <td>v1.5 Beta R7, WololoKingdoms</td>\n",
              "      <td>Custom</td>\n",
              "      <td>1818</td>\n",
              "      <td>26</td>\n",
              "      <td>0</td>\n",
              "      <td>1445</td>\n",
              "      <td>10</td>\n",
              "      <td>1577</td>\n",
              "    </tr>\n",
              "    <tr>\n",
              "      <th>18894597</th>\n",
              "      <td>v1.5 Beta R7, WololoKingdoms</td>\n",
              "      <td>Arabia</td>\n",
              "      <td>1401</td>\n",
              "      <td>2</td>\n",
              "      <td>0</td>\n",
              "      <td>1681</td>\n",
              "      <td>14</td>\n",
              "      <td>1552</td>\n",
              "    </tr>\n",
              "  </tbody>\n",
              "</table>\n",
              "</div>"
            ],
            "text/plain": [
              "                             MatchMods MatchMap  MatchDuration  \\\n",
              "MatchId                                                          \n",
              "18908910                  v1.5 Beta R7   Custom           3198   \n",
              "19047033  v1.5 Beta R7, WololoKingdoms   Arabia           1893   \n",
              "19082891  v1.5 Beta R7, WololoKingdoms   Custom           1094   \n",
              "19207723  v1.5 Beta R7, WololoKingdoms   Custom           1818   \n",
              "18894597  v1.5 Beta R7, WololoKingdoms   Arabia           1401   \n",
              "\n",
              "          MatchPlayerCivId2  MatchPlayerWinner  MatchPlayerPreRating2  \\\n",
              "MatchId                                                                 \n",
              "18908910                 10                  0                   1468   \n",
              "19047033                 15                  0                   1555   \n",
              "19082891                  2                  0                   2013   \n",
              "19207723                 26                  0                   1445   \n",
              "18894597                  2                  0                   1681   \n",
              "\n",
              "          MatchPlayerCivId  MatchPlayerPreRating  \n",
              "MatchId                                           \n",
              "18908910                18                  1581  \n",
              "19047033                10                  1596  \n",
              "19082891                19                  2190  \n",
              "19207723                10                  1577  \n",
              "18894597                14                  1552  "
            ]
          },
          "metadata": {
            "tags": []
          },
          "execution_count": 79
        }
      ]
    },
    {
      "cell_type": "code",
      "metadata": {
        "id": "Cqvb7gcmI3Sg",
        "colab_type": "code",
        "outputId": "cb3070c3-6458-4d99-f57e-978c2b6bc28c",
        "colab": {
          "base_uri": "https://localhost:8080/",
          "height": 283
        }
      },
      "source": [
        "fst.head()"
      ],
      "execution_count": 0,
      "outputs": [
        {
          "output_type": "execute_result",
          "data": {
            "text/html": [
              "<div>\n",
              "<style scoped>\n",
              "    .dataframe tbody tr th:only-of-type {\n",
              "        vertical-align: middle;\n",
              "    }\n",
              "\n",
              "    .dataframe tbody tr th {\n",
              "        vertical-align: top;\n",
              "    }\n",
              "\n",
              "    .dataframe thead th {\n",
              "        text-align: right;\n",
              "    }\n",
              "</style>\n",
              "<table border=\"1\" class=\"dataframe\">\n",
              "  <thead>\n",
              "    <tr style=\"text-align: right;\">\n",
              "      <th></th>\n",
              "      <th>MatchMods</th>\n",
              "      <th>MatchMap</th>\n",
              "      <th>MatchDuration</th>\n",
              "      <th>MatchPlayerCivId</th>\n",
              "      <th>MatchPlayerWinner</th>\n",
              "      <th>MatchPlayerPreRating</th>\n",
              "      <th>MatchPlayerCivId2</th>\n",
              "      <th>MatchPlayerPreRating2</th>\n",
              "    </tr>\n",
              "    <tr>\n",
              "      <th>MatchId</th>\n",
              "      <th></th>\n",
              "      <th></th>\n",
              "      <th></th>\n",
              "      <th></th>\n",
              "      <th></th>\n",
              "      <th></th>\n",
              "      <th></th>\n",
              "      <th></th>\n",
              "    </tr>\n",
              "  </thead>\n",
              "  <tbody>\n",
              "    <tr>\n",
              "      <th>18799335</th>\n",
              "      <td>v1.5 Beta R7</td>\n",
              "      <td>Arabia</td>\n",
              "      <td>2927</td>\n",
              "      <td>18</td>\n",
              "      <td>1</td>\n",
              "      <td>1690</td>\n",
              "      <td>16</td>\n",
              "      <td>1667</td>\n",
              "    </tr>\n",
              "    <tr>\n",
              "      <th>18919324</th>\n",
              "      <td>v1.5 Beta R7</td>\n",
              "      <td>Nomad</td>\n",
              "      <td>1973</td>\n",
              "      <td>7</td>\n",
              "      <td>1</td>\n",
              "      <td>1697</td>\n",
              "      <td>1</td>\n",
              "      <td>1600</td>\n",
              "    </tr>\n",
              "    <tr>\n",
              "      <th>18889235</th>\n",
              "      <td>v1.5 Beta R7, WololoKingdoms</td>\n",
              "      <td>Arabia</td>\n",
              "      <td>3025</td>\n",
              "      <td>28</td>\n",
              "      <td>1</td>\n",
              "      <td>1537</td>\n",
              "      <td>25</td>\n",
              "      <td>1482</td>\n",
              "    </tr>\n",
              "    <tr>\n",
              "      <th>18961453</th>\n",
              "      <td>v1.5 Beta R7, WololoKingdoms</td>\n",
              "      <td>Arabia</td>\n",
              "      <td>4020</td>\n",
              "      <td>10</td>\n",
              "      <td>1</td>\n",
              "      <td>1652</td>\n",
              "      <td>8</td>\n",
              "      <td>1641</td>\n",
              "    </tr>\n",
              "    <tr>\n",
              "      <th>19006161</th>\n",
              "      <td>v1.5 Beta R7</td>\n",
              "      <td>Arabia</td>\n",
              "      <td>2438</td>\n",
              "      <td>17</td>\n",
              "      <td>1</td>\n",
              "      <td>1607</td>\n",
              "      <td>17</td>\n",
              "      <td>1675</td>\n",
              "    </tr>\n",
              "  </tbody>\n",
              "</table>\n",
              "</div>"
            ],
            "text/plain": [
              "                             MatchMods MatchMap  MatchDuration  \\\n",
              "MatchId                                                          \n",
              "18799335                  v1.5 Beta R7   Arabia           2927   \n",
              "18919324                  v1.5 Beta R7    Nomad           1973   \n",
              "18889235  v1.5 Beta R7, WololoKingdoms   Arabia           3025   \n",
              "18961453  v1.5 Beta R7, WololoKingdoms   Arabia           4020   \n",
              "19006161                  v1.5 Beta R7   Arabia           2438   \n",
              "\n",
              "          MatchPlayerCivId  MatchPlayerWinner  MatchPlayerPreRating  \\\n",
              "MatchId                                                               \n",
              "18799335                18                  1                  1690   \n",
              "18919324                 7                  1                  1697   \n",
              "18889235                28                  1                  1537   \n",
              "18961453                10                  1                  1652   \n",
              "19006161                17                  1                  1607   \n",
              "\n",
              "          MatchPlayerCivId2  MatchPlayerPreRating2  \n",
              "MatchId                                             \n",
              "18799335                 16                   1667  \n",
              "18919324                  1                   1600  \n",
              "18889235                 25                   1482  \n",
              "18961453                  8                   1641  \n",
              "19006161                 17                   1675  "
            ]
          },
          "metadata": {
            "tags": []
          },
          "execution_count": 80
        }
      ]
    },
    {
      "cell_type": "code",
      "metadata": {
        "id": "0Tl881IhJYUG",
        "colab_type": "code",
        "colab": {}
      },
      "source": [
        "rm_1v1 = snd.append(fst, sort=True)"
      ],
      "execution_count": 0,
      "outputs": []
    },
    {
      "cell_type": "markdown",
      "metadata": {
        "id": "690S-YuVg31Z",
        "colab_type": "text"
      },
      "source": [
        "# Feature Engineering "
      ]
    },
    {
      "cell_type": "code",
      "metadata": {
        "id": "jIPZLu-PurlS",
        "colab_type": "code",
        "outputId": "7f9941f5-0b54-42a8-cc0c-23620e1b1d40",
        "colab": {
          "base_uri": "https://localhost:8080/",
          "height": 317
        }
      },
      "source": [
        "rm_1v1['EloDifference'] = rm_1v1['MatchPlayerPreRating'] - rm_1v1['MatchPlayerPreRating2']\n",
        "\n",
        "rm_1v1.head()"
      ],
      "execution_count": 0,
      "outputs": [
        {
          "output_type": "execute_result",
          "data": {
            "text/html": [
              "<div>\n",
              "<style scoped>\n",
              "    .dataframe tbody tr th:only-of-type {\n",
              "        vertical-align: middle;\n",
              "    }\n",
              "\n",
              "    .dataframe tbody tr th {\n",
              "        vertical-align: top;\n",
              "    }\n",
              "\n",
              "    .dataframe thead th {\n",
              "        text-align: right;\n",
              "    }\n",
              "</style>\n",
              "<table border=\"1\" class=\"dataframe\">\n",
              "  <thead>\n",
              "    <tr style=\"text-align: right;\">\n",
              "      <th></th>\n",
              "      <th>MatchDuration</th>\n",
              "      <th>MatchMap</th>\n",
              "      <th>MatchMods</th>\n",
              "      <th>MatchPlayerCivId</th>\n",
              "      <th>MatchPlayerCivId2</th>\n",
              "      <th>MatchPlayerPreRating</th>\n",
              "      <th>MatchPlayerPreRating2</th>\n",
              "      <th>MatchPlayerWinner</th>\n",
              "      <th>EloDifference</th>\n",
              "    </tr>\n",
              "    <tr>\n",
              "      <th>MatchId</th>\n",
              "      <th></th>\n",
              "      <th></th>\n",
              "      <th></th>\n",
              "      <th></th>\n",
              "      <th></th>\n",
              "      <th></th>\n",
              "      <th></th>\n",
              "      <th></th>\n",
              "      <th></th>\n",
              "    </tr>\n",
              "  </thead>\n",
              "  <tbody>\n",
              "    <tr>\n",
              "      <th>18908910</th>\n",
              "      <td>3198</td>\n",
              "      <td>Custom</td>\n",
              "      <td>v1.5 Beta R7</td>\n",
              "      <td>18</td>\n",
              "      <td>10</td>\n",
              "      <td>1581</td>\n",
              "      <td>1468</td>\n",
              "      <td>0</td>\n",
              "      <td>113</td>\n",
              "    </tr>\n",
              "    <tr>\n",
              "      <th>19047033</th>\n",
              "      <td>1893</td>\n",
              "      <td>Arabia</td>\n",
              "      <td>v1.5 Beta R7, WololoKingdoms</td>\n",
              "      <td>10</td>\n",
              "      <td>15</td>\n",
              "      <td>1596</td>\n",
              "      <td>1555</td>\n",
              "      <td>0</td>\n",
              "      <td>41</td>\n",
              "    </tr>\n",
              "    <tr>\n",
              "      <th>19082891</th>\n",
              "      <td>1094</td>\n",
              "      <td>Custom</td>\n",
              "      <td>v1.5 Beta R7, WololoKingdoms</td>\n",
              "      <td>19</td>\n",
              "      <td>2</td>\n",
              "      <td>2190</td>\n",
              "      <td>2013</td>\n",
              "      <td>0</td>\n",
              "      <td>177</td>\n",
              "    </tr>\n",
              "    <tr>\n",
              "      <th>19207723</th>\n",
              "      <td>1818</td>\n",
              "      <td>Custom</td>\n",
              "      <td>v1.5 Beta R7, WololoKingdoms</td>\n",
              "      <td>10</td>\n",
              "      <td>26</td>\n",
              "      <td>1577</td>\n",
              "      <td>1445</td>\n",
              "      <td>0</td>\n",
              "      <td>132</td>\n",
              "    </tr>\n",
              "    <tr>\n",
              "      <th>18894597</th>\n",
              "      <td>1401</td>\n",
              "      <td>Arabia</td>\n",
              "      <td>v1.5 Beta R7, WololoKingdoms</td>\n",
              "      <td>14</td>\n",
              "      <td>2</td>\n",
              "      <td>1552</td>\n",
              "      <td>1681</td>\n",
              "      <td>0</td>\n",
              "      <td>-129</td>\n",
              "    </tr>\n",
              "  </tbody>\n",
              "</table>\n",
              "</div>"
            ],
            "text/plain": [
              "          MatchDuration MatchMap                     MatchMods  \\\n",
              "MatchId                                                          \n",
              "18908910           3198   Custom                  v1.5 Beta R7   \n",
              "19047033           1893   Arabia  v1.5 Beta R7, WololoKingdoms   \n",
              "19082891           1094   Custom  v1.5 Beta R7, WololoKingdoms   \n",
              "19207723           1818   Custom  v1.5 Beta R7, WololoKingdoms   \n",
              "18894597           1401   Arabia  v1.5 Beta R7, WololoKingdoms   \n",
              "\n",
              "          MatchPlayerCivId  MatchPlayerCivId2  MatchPlayerPreRating  \\\n",
              "MatchId                                                               \n",
              "18908910                18                 10                  1581   \n",
              "19047033                10                 15                  1596   \n",
              "19082891                19                  2                  2190   \n",
              "19207723                10                 26                  1577   \n",
              "18894597                14                  2                  1552   \n",
              "\n",
              "          MatchPlayerPreRating2  MatchPlayerWinner  EloDifference  \n",
              "MatchId                                                            \n",
              "18908910                   1468                  0            113  \n",
              "19047033                   1555                  0             41  \n",
              "19082891                   2013                  0            177  \n",
              "19207723                   1445                  0            132  \n",
              "18894597                   1681                  0           -129  "
            ]
          },
          "metadata": {
            "tags": []
          },
          "execution_count": 82
        }
      ]
    },
    {
      "cell_type": "code",
      "metadata": {
        "id": "lJBSTcop2fUX",
        "colab_type": "code",
        "outputId": "53216336-693e-4cfc-9766-cfddfe38ffd1",
        "colab": {
          "base_uri": "https://localhost:8080/",
          "height": 87
        }
      },
      "source": [
        "rm_1v1.columns"
      ],
      "execution_count": 0,
      "outputs": [
        {
          "output_type": "execute_result",
          "data": {
            "text/plain": [
              "Index(['MatchDuration', 'MatchMap', 'MatchMods', 'MatchPlayerCivId',\n",
              "       'MatchPlayerCivId2', 'MatchPlayerPreRating', 'MatchPlayerPreRating2',\n",
              "       'MatchPlayerWinner', 'EloDifference'],\n",
              "      dtype='object')"
            ]
          },
          "metadata": {
            "tags": []
          },
          "execution_count": 83
        }
      ]
    },
    {
      "cell_type": "code",
      "metadata": {
        "id": "x27FMMrfOUoN",
        "colab_type": "code",
        "outputId": "7683f3b9-bccd-4a3a-c511-84e409dab604",
        "colab": {
          "base_uri": "https://localhost:8080/",
          "height": 279
        }
      },
      "source": [
        "rm_1v1['EloBin'] = pd.qcut(rm_1v1['EloDifference'], 6, labels=[1,2,3,4,5,6])\n",
        "\n",
        "sns.barplot(x='EloBin', y='MatchPlayerWinner', data=rm_1v1);"
      ],
      "execution_count": 0,
      "outputs": [
        {
          "output_type": "display_data",
          "data": {
            "image/png": "[encoded data removed]",
            "text/plain": [
              "<Figure size 432x288 with 1 Axes>"
            ]
          },
          "metadata": {
            "tags": []
          }
        }
      ]
    },
    {
      "cell_type": "code",
      "metadata": {
        "id": "En_cMvboTcNT",
        "colab_type": "code",
        "outputId": "2fde17fe-a999-4748-a1c7-95719f549998",
        "colab": {
          "base_uri": "https://localhost:8080/",
          "height": 279
        }
      },
      "source": [
        "rm_1v1['TimeBin'] = pd.qcut(rm_1v1['MatchDuration'], 6, labels=[1,2,3,4,5,6])\n",
        "\n",
        "sns.barplot(x='TimeBin', y='MatchPlayerWinner', data=rm_1v1);"
      ],
      "execution_count": 0,
      "outputs": [
        {
          "output_type": "display_data",
          "data": {
            "image/png": "[encoded data removed]",
            "text/plain": [
              "<Figure size 432x288 with 1 Axes>"
            ]
          },
          "metadata": {
            "tags": []
          }
        }
      ]
    },
    {
      "cell_type": "code",
      "metadata": {
        "id": "8Ke13nR-TxGC",
        "colab_type": "code",
        "outputId": "42e75caf-6945-4c88-f4bd-f7e247dd86ca",
        "colab": {
          "base_uri": "https://localhost:8080/",
          "height": 279
        }
      },
      "source": [
        "sns.barplot(x='MatchPlayerCivId', y='MatchPlayerWinner', data=rm_1v1); \n",
        "\n",
        "# ok prob bin some of the less popular ones together\n",
        "\n"
      ],
      "execution_count": 0,
      "outputs": [
        {
          "output_type": "display_data",
          "data": {
            "image/png": "[encoded data removed]",
            "text/plain": [
              "<Figure size 432x288 with 1 Axes>"
            ]
          },
          "metadata": {
            "tags": []
          }
        }
      ]
    },
    {
      "cell_type": "code",
      "metadata": {
        "id": "Uk3kf2QQUGw7",
        "colab_type": "code",
        "outputId": "39577828-b75a-437f-8290-75bb68d3f1ae",
        "colab": {
          "base_uri": "https://localhost:8080/",
          "height": 773
        }
      },
      "source": [
        "rm_1v1['MatchPlayerCivId'].value_counts()"
      ],
      "execution_count": 0,
      "outputs": [
        {
          "output_type": "execute_result",
          "data": {
            "text/plain": [
              "17    15442\n",
              "12     8185\n",
              "13     7902\n",
              "7      7883\n",
              "16     7870\n",
              "2      7822\n",
              "15     7800\n",
              "11     7739\n",
              "1      7675\n",
              "14     7533\n",
              "18     7522\n",
              "6      7493\n",
              "5      7480\n",
              "4      7480\n",
              "3      7449\n",
              "10     7316\n",
              "9      7281\n",
              "8      7255\n",
              "26     4790\n",
              "23     4787\n",
              "22     4781\n",
              "20     4712\n",
              "21     4689\n",
              "19     4642\n",
              "27     4638\n",
              "28     4604\n",
              "29     4584\n",
              "24     4571\n",
              "31     4559\n",
              "30     4556\n",
              "25     4501\n",
              "46      241\n",
              "34        7\n",
              "33        5\n",
              "32        5\n",
              "35        4\n",
              "41        3\n",
              "37        3\n",
              "38        2\n",
              "39        2\n",
              "40        2\n",
              "36        1\n",
              "Name: MatchPlayerCivId, dtype: int64"
            ]
          },
          "metadata": {
            "tags": []
          },
          "execution_count": 126
        }
      ]
    },
    {
      "cell_type": "code",
      "metadata": {
        "id": "bYynF3-MO24Z",
        "colab_type": "code",
        "outputId": "1670d7de-78c6-460e-abbe-08809820ab6f",
        "colab": {
          "base_uri": "https://localhost:8080/",
          "height": 87
        }
      },
      "source": [
        "rm_1v1.columns"
      ],
      "execution_count": 0,
      "outputs": [
        {
          "output_type": "execute_result",
          "data": {
            "text/plain": [
              "Index(['MatchDuration', 'MatchMap', 'MatchMods', 'MatchPlayerCivId',\n",
              "       'MatchPlayerCivId2', 'MatchPlayerPreRating', 'MatchPlayerPreRating2',\n",
              "       'MatchPlayerWinner', 'EloDifference', 'EloBin'],\n",
              "      dtype='object')"
            ]
          },
          "metadata": {
            "tags": []
          },
          "execution_count": 85
        }
      ]
    },
    {
      "cell_type": "code",
      "metadata": {
        "id": "pLBORqg3QKBt",
        "colab_type": "code",
        "outputId": "dd09c451-f5a0-4031-9304-44b2874b132d",
        "colab": {
          "base_uri": "https://localhost:8080/",
          "height": 334
        }
      },
      "source": [
        "rm_1v1.head()"
      ],
      "execution_count": 0,
      "outputs": [
        {
          "output_type": "execute_result",
          "data": {
            "text/html": [
              "<div>\n",
              "<style scoped>\n",
              "    .dataframe tbody tr th:only-of-type {\n",
              "        vertical-align: middle;\n",
              "    }\n",
              "\n",
              "    .dataframe tbody tr th {\n",
              "        vertical-align: top;\n",
              "    }\n",
              "\n",
              "    .dataframe thead th {\n",
              "        text-align: right;\n",
              "    }\n",
              "</style>\n",
              "<table border=\"1\" class=\"dataframe\">\n",
              "  <thead>\n",
              "    <tr style=\"text-align: right;\">\n",
              "      <th></th>\n",
              "      <th>MatchDuration</th>\n",
              "      <th>MatchMap</th>\n",
              "      <th>MatchMods</th>\n",
              "      <th>MatchPlayerCivId</th>\n",
              "      <th>MatchPlayerCivId2</th>\n",
              "      <th>MatchPlayerPreRating</th>\n",
              "      <th>MatchPlayerPreRating2</th>\n",
              "      <th>MatchPlayerWinner</th>\n",
              "      <th>EloDifference</th>\n",
              "      <th>EloBin</th>\n",
              "    </tr>\n",
              "    <tr>\n",
              "      <th>MatchId</th>\n",
              "      <th></th>\n",
              "      <th></th>\n",
              "      <th></th>\n",
              "      <th></th>\n",
              "      <th></th>\n",
              "      <th></th>\n",
              "      <th></th>\n",
              "      <th></th>\n",
              "      <th></th>\n",
              "      <th></th>\n",
              "    </tr>\n",
              "  </thead>\n",
              "  <tbody>\n",
              "    <tr>\n",
              "      <th>18908910</th>\n",
              "      <td>3198</td>\n",
              "      <td>Custom</td>\n",
              "      <td>v1.5 Beta R7</td>\n",
              "      <td>18</td>\n",
              "      <td>10</td>\n",
              "      <td>1581</td>\n",
              "      <td>1468</td>\n",
              "      <td>0</td>\n",
              "      <td>113</td>\n",
              "      <td>(77.0, 1005.0]</td>\n",
              "    </tr>\n",
              "    <tr>\n",
              "      <th>19047033</th>\n",
              "      <td>1893</td>\n",
              "      <td>Arabia</td>\n",
              "      <td>v1.5 Beta R7, WololoKingdoms</td>\n",
              "      <td>10</td>\n",
              "      <td>15</td>\n",
              "      <td>1596</td>\n",
              "      <td>1555</td>\n",
              "      <td>0</td>\n",
              "      <td>41</td>\n",
              "      <td>(32.0, 77.0]</td>\n",
              "    </tr>\n",
              "    <tr>\n",
              "      <th>19082891</th>\n",
              "      <td>1094</td>\n",
              "      <td>Custom</td>\n",
              "      <td>v1.5 Beta R7, WololoKingdoms</td>\n",
              "      <td>19</td>\n",
              "      <td>2</td>\n",
              "      <td>2190</td>\n",
              "      <td>2013</td>\n",
              "      <td>0</td>\n",
              "      <td>177</td>\n",
              "      <td>(77.0, 1005.0]</td>\n",
              "    </tr>\n",
              "    <tr>\n",
              "      <th>19207723</th>\n",
              "      <td>1818</td>\n",
              "      <td>Custom</td>\n",
              "      <td>v1.5 Beta R7, WololoKingdoms</td>\n",
              "      <td>10</td>\n",
              "      <td>26</td>\n",
              "      <td>1577</td>\n",
              "      <td>1445</td>\n",
              "      <td>0</td>\n",
              "      <td>132</td>\n",
              "      <td>(77.0, 1005.0]</td>\n",
              "    </tr>\n",
              "    <tr>\n",
              "      <th>18894597</th>\n",
              "      <td>1401</td>\n",
              "      <td>Arabia</td>\n",
              "      <td>v1.5 Beta R7, WololoKingdoms</td>\n",
              "      <td>14</td>\n",
              "      <td>2</td>\n",
              "      <td>1552</td>\n",
              "      <td>1681</td>\n",
              "      <td>0</td>\n",
              "      <td>-129</td>\n",
              "      <td>(-1007.001, -77.0]</td>\n",
              "    </tr>\n",
              "  </tbody>\n",
              "</table>\n",
              "</div>"
            ],
            "text/plain": [
              "          MatchDuration MatchMap                     MatchMods  \\\n",
              "MatchId                                                          \n",
              "18908910           3198   Custom                  v1.5 Beta R7   \n",
              "19047033           1893   Arabia  v1.5 Beta R7, WololoKingdoms   \n",
              "19082891           1094   Custom  v1.5 Beta R7, WololoKingdoms   \n",
              "19207723           1818   Custom  v1.5 Beta R7, WololoKingdoms   \n",
              "18894597           1401   Arabia  v1.5 Beta R7, WololoKingdoms   \n",
              "\n",
              "          MatchPlayerCivId  MatchPlayerCivId2  MatchPlayerPreRating  \\\n",
              "MatchId                                                               \n",
              "18908910                18                 10                  1581   \n",
              "19047033                10                 15                  1596   \n",
              "19082891                19                  2                  2190   \n",
              "19207723                10                 26                  1577   \n",
              "18894597                14                  2                  1552   \n",
              "\n",
              "          MatchPlayerPreRating2  MatchPlayerWinner  EloDifference  \\\n",
              "MatchId                                                             \n",
              "18908910                   1468                  0            113   \n",
              "19047033                   1555                  0             41   \n",
              "19082891                   2013                  0            177   \n",
              "19207723                   1445                  0            132   \n",
              "18894597                   1681                  0           -129   \n",
              "\n",
              "                      EloBin  \n",
              "MatchId                       \n",
              "18908910      (77.0, 1005.0]  \n",
              "19047033        (32.0, 77.0]  \n",
              "19082891      (77.0, 1005.0]  \n",
              "19207723      (77.0, 1005.0]  \n",
              "18894597  (-1007.001, -77.0]  "
            ]
          },
          "metadata": {
            "tags": []
          },
          "execution_count": 93
        }
      ]
    },
    {
      "cell_type": "markdown",
      "metadata": {
        "id": "t6chcRP7g-iT",
        "colab_type": "text"
      },
      "source": [
        "# FIT MODEL"
      ]
    },
    {
      "cell_type": "code",
      "metadata": {
        "id": "eJnKK7wOaVwl",
        "colab_type": "code",
        "outputId": "6868caa1-44c2-4b25-eb18-2e1ed52ddef4",
        "colab": {
          "base_uri": "https://localhost:8080/",
          "height": 34
        }
      },
      "source": [
        "rm_1v1.describe()\n",
        "\n",
        "from sklearn.model_selection import train_test_split\n",
        "\n",
        "train, val = train_test_split(rm_1v1, train_size = 0.8, test_size = 0.2)\n",
        "\n",
        "train.shape, val.shape"
      ],
      "execution_count": 0,
      "outputs": [
        {
          "output_type": "execute_result",
          "data": {
            "text/plain": [
              "((164652, 10), (41164, 10))"
            ]
          },
          "metadata": {
            "tags": []
          },
          "execution_count": 95
        }
      ]
    },
    {
      "cell_type": "code",
      "metadata": {
        "id": "FQEJBHEp6635",
        "colab_type": "code",
        "outputId": "3b5e1ff1-8088-4388-e011-c6b269571e3f",
        "colab": {
          "base_uri": "https://localhost:8080/",
          "height": 279
        }
      },
      "source": [
        "import seaborn as sns\n",
        "\n",
        "sns.barplot(x='EloDifference', y='MatchPlayerWinner', data=rm_1v1);"
      ],
      "execution_count": 0,
      "outputs": [
        {
          "output_type": "display_data",
          "data": {
            "image/png": "[encoded data removed]",
            "text/plain": [
              "<Figure size 432x288 with 1 Axes>"
            ]
          },
          "metadata": {
            "tags": []
          }
        }
      ]
    },
    {
      "cell_type": "code",
      "metadata": {
        "id": "sirKzQ2ofv1M",
        "colab_type": "code",
        "colab": {}
      },
      "source": [
        "# run a model better than baseline \n",
        "target = 'MatchPlayerWinner'\n",
        "features = [\n",
        "            'MatchMods', \n",
        "            'MatchMap', \n",
        "            'MatchDuration',\n",
        "      #  'MatchPlayerCivId', \n",
        "       # 'MatchPlayerPreRating',\n",
        "     #   'MatchPlayerCivId2', \n",
        "       # 'MatchPlayerPreRating2',\n",
        "        'EloDifference', \n",
        "        'EloBin']\n",
        "# looks sparse need to make a lot of feature engineering later\n",
        "X_train = train[features]\n",
        "y_train = train[target]\n",
        "\n",
        "X_val = val[features]\n",
        "y_val = val[target]\n"
      ],
      "execution_count": 0,
      "outputs": []
    },
    {
      "cell_type": "markdown",
      "metadata": {
        "id": "b4SBy8WQPp80",
        "colab_type": "text"
      },
      "source": [
        "# Train Accuracy 1.0 Still Not Sure Why"
      ]
    },
    {
      "cell_type": "code",
      "metadata": {
        "id": "NFy6sBV4hYJ0",
        "colab_type": "code",
        "outputId": "4d371d05-4548-4c4a-d188-d74875beb7c2",
        "colab": {
          "base_uri": "https://localhost:8080/",
          "height": 34
        }
      },
      "source": [
        "pipeline = make_pipeline(\n",
        "    ce.OrdinalEncoder(),\n",
        "    #RandomForestClassifier(n_estimators = 100, n_jobs=-1)\n",
        "    DecisionTreeClassifier(random_state=42)\n",
        ")\n",
        "\n",
        "pipeline.fit(X_train, y_train)\n",
        "\n",
        "y_pred = pipeline.predict(X_val)\n",
        "\n",
        "print('Train Accuracy', pipeline.score(X_train, y_train))\n",
        "\n",
        "# well, that's, not good"
      ],
      "execution_count": 0,
      "outputs": [
        {
          "output_type": "stream",
          "text": [
            "Train Accuracy 0.9869968175303063\n"
          ],
          "name": "stdout"
        }
      ]
    },
    {
      "cell_type": "code",
      "metadata": {
        "id": "OrmuNZ3uiknf",
        "colab_type": "code",
        "outputId": "d219c99e-4b16-41b2-a3ce-641da298b1e2",
        "colab": {
          "base_uri": "https://localhost:8080/",
          "height": 34
        }
      },
      "source": [
        "print('Validation Accuracy', pipeline.score(X_val, y_val))\n",
        "\n",
        "# fail"
      ],
      "execution_count": 0,
      "outputs": [
        {
          "output_type": "stream",
          "text": [
            "Validation Accuracy 0.5293460305120979\n"
          ],
          "name": "stdout"
        }
      ]
    },
    {
      "cell_type": "code",
      "metadata": {
        "id": "tOY643cPLnFN",
        "colab_type": "code",
        "colab": {}
      },
      "source": [
        "rm_1v1['EloDifference'].describe()"
      ],
      "execution_count": 0,
      "outputs": []
    },
    {
      "cell_type": "markdown",
      "metadata": {
        "id": "TpvyjCsTLab1",
        "colab_type": "text"
      },
      "source": [
        "# Visualization of Random Forest See Why It Fails"
      ]
    },
    {
      "cell_type": "code",
      "metadata": {
        "id": "ZGK-ssHFLeDJ",
        "colab_type": "code",
        "colab": {}
      },
      "source": [
        "# import graphviz\n",
        "# from sklearn.tree import export_graphviz\n",
        "\n",
        "# model = pipeline.named_steps['decisiontreeclassifier']\n",
        "# encoder = pipeline.named_steps['ordinalencoder']\n",
        "# encoded_columns = encoder.transform(X_val).columns\n",
        "\n",
        "\n",
        "\n",
        "# dot_data = export_graphviz(model, \n",
        "#                            out_file=None, \n",
        "#                            max_depth=3, \n",
        "#                            feature_names=encoded_columns,\n",
        "#                            class_names=model.classes_, \n",
        "#                            impurity=False, \n",
        "#                            filled=True, \n",
        "#                            proportion=True, \n",
        "#                            rounded=True)   \n",
        "# display(graphviz.Source(dot_data))\n",
        "\n",
        "# # not sure why suddenly broken"
      ],
      "execution_count": 0,
      "outputs": []
    },
    {
      "cell_type": "markdown",
      "metadata": {
        "id": "gHhWBdMoK6x8",
        "colab_type": "text"
      },
      "source": [
        "# Wednesday XBG Boost "
      ]
    },
    {
      "cell_type": "code",
      "metadata": {
        "id": "RTVk_osbK555",
        "colab_type": "code",
        "colab": {}
      },
      "source": [
        "rf = pipeline.named_steps['decisiontreeclassifier']\n",
        "importances = pd.Series(rf.feature_importances_, X_train.columns)\n",
        "\n",
        "%matplotlib inline\n",
        "import matplotlib.pyplot as plt\n",
        "\n",
        "n=20\n",
        "\n",
        "plt.figure(figsize=(10,n/2))\n",
        "plt.title(f'Top {n} features')\n",
        "importances.sort_values()[-n:].plot.barh(color='grey');"
      ],
      "execution_count": 0,
      "outputs": []
    },
    {
      "cell_type": "markdown",
      "metadata": {
        "id": "_dFhUPjLOK_T",
        "colab_type": "text"
      },
      "source": [
        "# Thursday PDP and Shapely Plots"
      ]
    },
    {
      "cell_type": "code",
      "metadata": {
        "id": "XWjjfbiJ4C1f",
        "colab_type": "code",
        "colab": {}
      },
      "source": [
        "sns.distplot(y_train);"
      ],
      "execution_count": 0,
      "outputs": []
    },
    {
      "cell_type": "code",
      "metadata": {
        "id": "oBVdgL-bOmnM",
        "colab_type": "code",
        "colab": {}
      },
      "source": [
        "import category_encoders as ce\n",
        "from sklearn.linear_model import LinearRegression\n",
        "from sklearn.pipeline import make_pipeline\n",
        "from sklearn.preprocessing import StandardScaler\n",
        "\n",
        "lr = make_pipeline(\n",
        "    ce.TargetEncoder(),  \n",
        "    LinearRegression()\n",
        ")\n",
        "\n",
        "lr.fit(X_train, y_train)\n",
        "print('Linear Regression R^2', lr.score(X_val, y_val))"
      ],
      "execution_count": 0,
      "outputs": []
    },
    {
      "cell_type": "code",
      "metadata": {
        "id": "Iocr1YN3O5fF",
        "colab_type": "code",
        "colab": {}
      },
      "source": [
        "# oh god these coeffficients are so low\n",
        "\n",
        "from sklearn.metrics import r2_score\n",
        "from xgboost import XGBRegressor\n",
        "\n",
        "gb = make_pipeline(\n",
        "    ce.OrdinalEncoder(),\n",
        "    XGBRegressor(n_estimators=200, objective='reg:squarederror', n_jobs=-1)\n",
        ")\n",
        "\n",
        "gb.fit(X_train, y_train)\n",
        "y_pred = gb.predict(X_val)\n",
        "print('Gradient Boosting R^2', r2_score(y_val, y_pred))"
      ],
      "execution_count": 0,
      "outputs": []
    },
    {
      "cell_type": "code",
      "metadata": {
        "id": "zKoDwgUQIdP-",
        "colab_type": "code",
        "colab": {}
      },
      "source": [
        "# increase the dots per inch (double it), so the text isn't so fuzzy\n",
        "import matplotlib.pyplot as plt\n",
        "plt.rcParams['figure.dpi'] = 72"
      ],
      "execution_count": 0,
      "outputs": []
    },
    {
      "cell_type": "code",
      "metadata": {
        "id": "lrNyAevNLDCG",
        "colab_type": "code",
        "colab": {}
      },
      "source": [
        "if 'google.colab' in sys.modules:\n",
        "\n",
        "      !pip install pdpbox\n",
        "      !pip install shap\n",
        "\n",
        "from pdpbox.pdp import pdp_isolate, pdp_plot\n",
        "\n",
        "feature = 'EloDifference'\n",
        "\n",
        "isolated = pdp_isolate(\n",
        "    model=gb, \n",
        "    dataset=X_val, \n",
        "    model_features=X_val.columns, \n",
        "    feature=feature\n",
        ")\n",
        "\n",
        "pdp_plot(isolated, feature_name=feature)"
      ],
      "execution_count": 0,
      "outputs": []
    },
    {
      "cell_type": "code",
      "metadata": {
        "id": "cuZKsFe4LP_F",
        "colab_type": "code",
        "colab": {}
      },
      "source": [
        "# Plot PDP with 100 ICE curves\n",
        "# PDP: Partial Dependence Plot\n",
        "# ICE: Individual Conditional Expectation\n",
        "pdp_plot(isolated, feature_name=feature, plot_lines=True, \n",
        "         frac_to_plot=0.01)\n",
        "\n",
        "plt.xlim(-1000,1000);"
      ],
      "execution_count": 0,
      "outputs": []
    }
  ]
}