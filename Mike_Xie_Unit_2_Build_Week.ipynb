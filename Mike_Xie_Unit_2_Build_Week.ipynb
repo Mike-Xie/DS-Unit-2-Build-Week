{
  "nbformat": 4,
  "nbformat_minor": 0,
  "metadata": {
    "colab": {
      "name": "Mike_Xie_Unit_2_Build_Week.ipynb",
      "provenance": [],
      "collapsed_sections": [],
      "toc_visible": true,
      "include_colab_link": true
    },
    "kernelspec": {
      "display_name": "Python 3",
      "language": "python",
      "name": "python3"
    },
    "language_info": {
      "codemirror_mode": {
        "name": "ipython",
        "version": 3
      },
      "file_extension": ".py",
      "mimetype": "text/x-python",
      "name": "python",
      "nbconvert_exporter": "python",
      "pygments_lexer": "ipython3",
      "version": "3.7.3"
    }
  },
  "cells": [
    {
      "cell_type": "markdown",
      "metadata": {
        "id": "view-in-github",
        "colab_type": "text"
      },
      "source": [
        "<a href=\"https://colab.research.google.com/github/Mike-Xie/DS-Unit-2-Build-Week/blob/master/Mike_Xie_Unit_2_Build_Week.ipynb\" target=\"_parent\"><img src=\"https://colab.research.google.com/assets/colab-badge.svg\" alt=\"Open In Colab\"/></a>"
      ]
    },
    {
      "cell_type": "markdown",
      "metadata": {
        "id": "asKho2jy_odX",
        "colab_type": "text"
      },
      "source": [
        "# Imports"
      ]
    },
    {
      "cell_type": "code",
      "metadata": {
        "id": "sN0fQ76kiLoM",
        "colab_type": "code",
        "colab": {}
      },
      "source": [
        "%%capture\n",
        "import sys\n",
        "\n",
        "if 'google.colab' in sys.modules:\n",
        "    # Install packages in Colab\n",
        "    !pip install category_encoders==2.*\n",
        "    !pip install pandas-profiling==2.*"
      ],
      "execution_count": 0,
      "outputs": []
    },
    {
      "cell_type": "code",
      "metadata": {
        "id": "xe50OOs1JcVv",
        "colab_type": "code",
        "outputId": "b12e3674-7397-40b3-fef1-3ba3759b4842",
        "colab": {
          "base_uri": "https://localhost:8080/",
          "height": 318
        }
      },
      "source": [
        "!wget https://github.com/bowswung/voobly-scraper/raw/master/data/MatchData/20190208/matchDump.csv.zip"
      ],
      "execution_count": 0,
      "outputs": [
        {
          "output_type": "stream",
          "text": [
            "--2020-01-08 21:36:23--  https://github.com/bowswung/voobly-scraper/raw/master/data/MatchData/20190208/matchDump.csv.zip\n",
            "Resolving github.com (github.com)... 192.30.255.112\n",
            "Connecting to github.com (github.com)|192.30.255.112|:443... connected.\n",
            "HTTP request sent, awaiting response... 302 Found\n",
            "Location: https://media.githubusercontent.com/media/bowswung/voobly-scraper/master/data/MatchData/20190208/matchDump.csv.zip [following]\n",
            "--2020-01-08 21:36:23--  https://media.githubusercontent.com/media/bowswung/voobly-scraper/master/data/MatchData/20190208/matchDump.csv.zip\n",
            "Resolving media.githubusercontent.com (media.githubusercontent.com)... 151.101.0.133, 151.101.64.133, 151.101.128.133, ...\n",
            "Connecting to media.githubusercontent.com (media.githubusercontent.com)|151.101.0.133|:443... connected.\n",
            "HTTP request sent, awaiting response... 200 OK\n",
            "Length: 49029198 (47M) [application/zip]\n",
            "Saving to: ‘matchDump.csv.zip.1’\n",
            "\n",
            "matchDump.csv.zip.1 100%[===================>]  46.76M   245MB/s    in 0.2s    \n",
            "\n",
            "2020-01-08 21:36:25 (245 MB/s) - ‘matchDump.csv.zip.1’ saved [49029198/49029198]\n",
            "\n"
          ],
          "name": "stdout"
        }
      ]
    },
    {
      "cell_type": "code",
      "metadata": {
        "id": "81pkxPffJ6vE",
        "colab_type": "code",
        "outputId": "5a773790-472e-4298-c375-dd79247334e6",
        "colab": {
          "base_uri": "https://localhost:8080/",
          "height": 52
        }
      },
      "source": [
        "!unzip matchDump.csv.zip"
      ],
      "execution_count": 0,
      "outputs": [
        {
          "output_type": "stream",
          "text": [
            "Archive:  matchDump.csv.zip\n",
            "replace matchDump.csv? [y]es, [n]o, [A]ll, [N]one, [r]ename: n\n"
          ],
          "name": "stdout"
        }
      ]
    },
    {
      "cell_type": "code",
      "metadata": {
        "id": "9jUoCeWyJ-8i",
        "colab_type": "code",
        "outputId": "a12c773c-5438-43af-b362-0db5f2d003b8",
        "colab": {
          "base_uri": "https://localhost:8080/",
          "height": 213
        }
      },
      "source": [
        "!head matchDump.csv"
      ],
      "execution_count": 0,
      "outputs": [
        {
          "output_type": "stream",
          "text": [
            "MatchId,MatchUrl,MatchDate,MatchDuration,MatchLadder,MatchMap,MatchMods,MatchPlayerId,MatchPlayerName,MatchPlayerTeam,MatchPlayerCivId,MatchPlayerCivName,MatchPlayerWinner,MatchPlayerPreRating,MatchPlayerPostRating,MatchPlayerRecording\r\n",
            "17827685,https://www.voobly.com/match/view/17827685,2018-05-27T18:14:00,520,Match Stats Only,=V= CBA Hero AC V13.scx,v1.5 Beta R6,123972487,___Oreo,1,9,Saracens,1,1584,1600,\r\n",
            "17827685,https://www.voobly.com/match/view/17827685,2018-05-27T18:14:00,520,Match Stats Only,=V= CBA Hero AC V13.scx,v1.5 Beta R6,125049367,___Dm,2,9,Saracens,0,1616,1600,\r\n",
            "17827728,https://www.voobly.com/match/view/17827728,2018-05-27T18:21:00,661,Match Stats Only,=V= CBA Hero AC V13.scx,v1.5 Beta R6,123972487,___Oreo,1,13,Celts,1,1584,1600,\r\n",
            "17827728,https://www.voobly.com/match/view/17827728,2018-05-27T18:21:00,661,Match Stats Only,=V= CBA Hero AC V13.scx,v1.5 Beta R6,125049367,___Dm,2,13,Celts,0,1616,1600,\r\n",
            "17832641,https://www.voobly.com/match/view/17832641,2018-05-28T11:25:00,762,Match Stats Only,=V= CBA Hero AC V13.scx,v1.5 Beta R6,124815560,SOOR_DARA,1,14,Spanish,1,1584,1600,\r\n",
            "17832641,https://www.voobly.com/match/view/17832641,2018-05-28T11:25:00,762,Match Stats Only,=V= CBA Hero AC V13.scx,v1.5 Beta R6,124693469,danyal__,2,14,Spanish,0,1616,1600,\r\n",
            "17839373,https://www.voobly.com/match/view/17839373,2018-05-29T17:04:00,1073,Match Stats Only,=V= TDII TeamBonus v3.scx,\"v1.5 Beta R6, TDII TeamBonus\",125043437,cRiukc,1,17,Huns,1,1584,1600,\r\n",
            "17839373,https://www.voobly.com/match/view/17839373,2018-05-29T17:04:00,1073,Match Stats Only,=V= TDII TeamBonus v3.scx,\"v1.5 Beta R6, TDII TeamBonus\",124157048,_SickBoy,2,16,Mayans,0,1616,1600,\r\n",
            "17839373,https://www.voobly.com/match/view/17839373,2018-05-29T17:04:00,1073,Match Stats Only,=V= TDII TeamBonus v3.scx,\"v1.5 Beta R6, TDII TeamBonus\",*VooblyErrorPlayerNotFound*,\"<td valign=\"\"bottom\"\">Atabeg Zangi (Computer)</td>\",*VooblyErrorPlayerNotFound*,*VooblyErrorPlayerNotFound*,*VooblyErrorPlayerNotFound*,*VooblyErrorPlayerNotFound*,*VooblyErrorPlayerNotFound*,*VooblyErrorPlayerNotFound*,*VooblyErrorPlayerNotFound*\r\n"
          ],
          "name": "stdout"
        }
      ]
    },
    {
      "cell_type": "code",
      "metadata": {
        "id": "V3h4Fq4YKIK0",
        "colab_type": "code",
        "outputId": "b7eeb5fa-5ed0-431b-c4ae-a8ac4e253d30",
        "colab": {
          "base_uri": "https://localhost:8080/",
          "height": 34
        }
      },
      "source": [
        "# imports \n",
        "import matplotlib.pyplot as plt\n",
        "plt.rcParams['figure.dpi'] = 72\n",
        "import pandas as pd\n",
        "import seaborn as sns\n",
        "import category_encoders as ce\n",
        "from sklearn.ensemble import RandomForestClassifier\n",
        "from sklearn.tree import DecisionTreeClassifier\n",
        "from sklearn.pipeline import make_pipeline\n",
        "pd.options.display.max_rows = 999\n",
        "pd.options.display.max_columns = 100\n",
        "\n",
        "# drop columns with meta data that are useless\n",
        "df = pd.read_csv('matchDump.csv', header=0, engine='python')\n",
        "\n",
        "cols_to_keep = ['MatchId','MatchMods','MatchMap','MatchLadder','MatchDuration','MatchPlayerTeam','MatchPlayerCivId','MatchPlayerCivName','MatchPlayerWinner','MatchPlayerPreRating']\n",
        "\n",
        "df = df[cols_to_keep]\n",
        "\n",
        "df.shape\n"
      ],
      "execution_count": 0,
      "outputs": [
        {
          "output_type": "execute_result",
          "data": {
            "text/plain": [
              "(1263808, 10)"
            ]
          },
          "metadata": {
            "tags": []
          },
          "execution_count": 5
        }
      ]
    },
    {
      "cell_type": "code",
      "metadata": {
        "id": "_Jxq2LxCKMmg",
        "colab_type": "code",
        "outputId": "d2d212bc-4653-4e9e-a265-721415f55f8a",
        "colab": {
          "base_uri": "https://localhost:8080/",
          "height": 389
        }
      },
      "source": [
        "df.head(5)"
      ],
      "execution_count": 0,
      "outputs": [
        {
          "output_type": "execute_result",
          "data": {
            "text/html": [
              "<div>\n",
              "<style scoped>\n",
              "    .dataframe tbody tr th:only-of-type {\n",
              "        vertical-align: middle;\n",
              "    }\n",
              "\n",
              "    .dataframe tbody tr th {\n",
              "        vertical-align: top;\n",
              "    }\n",
              "\n",
              "    .dataframe thead th {\n",
              "        text-align: right;\n",
              "    }\n",
              "</style>\n",
              "<table border=\"1\" class=\"dataframe\">\n",
              "  <thead>\n",
              "    <tr style=\"text-align: right;\">\n",
              "      <th></th>\n",
              "      <th>MatchId</th>\n",
              "      <th>MatchMods</th>\n",
              "      <th>MatchMap</th>\n",
              "      <th>MatchLadder</th>\n",
              "      <th>MatchDuration</th>\n",
              "      <th>MatchPlayerTeam</th>\n",
              "      <th>MatchPlayerCivId</th>\n",
              "      <th>MatchPlayerCivName</th>\n",
              "      <th>MatchPlayerWinner</th>\n",
              "      <th>MatchPlayerPreRating</th>\n",
              "    </tr>\n",
              "  </thead>\n",
              "  <tbody>\n",
              "    <tr>\n",
              "      <th>0</th>\n",
              "      <td>17827685</td>\n",
              "      <td>v1.5 Beta R6</td>\n",
              "      <td>=V= CBA Hero AC V13.scx</td>\n",
              "      <td>Match Stats Only</td>\n",
              "      <td>520</td>\n",
              "      <td>1</td>\n",
              "      <td>9</td>\n",
              "      <td>Saracens</td>\n",
              "      <td>1</td>\n",
              "      <td>1584</td>\n",
              "    </tr>\n",
              "    <tr>\n",
              "      <th>1</th>\n",
              "      <td>17827685</td>\n",
              "      <td>v1.5 Beta R6</td>\n",
              "      <td>=V= CBA Hero AC V13.scx</td>\n",
              "      <td>Match Stats Only</td>\n",
              "      <td>520</td>\n",
              "      <td>2</td>\n",
              "      <td>9</td>\n",
              "      <td>Saracens</td>\n",
              "      <td>0</td>\n",
              "      <td>1616</td>\n",
              "    </tr>\n",
              "    <tr>\n",
              "      <th>2</th>\n",
              "      <td>17827728</td>\n",
              "      <td>v1.5 Beta R6</td>\n",
              "      <td>=V= CBA Hero AC V13.scx</td>\n",
              "      <td>Match Stats Only</td>\n",
              "      <td>661</td>\n",
              "      <td>1</td>\n",
              "      <td>13</td>\n",
              "      <td>Celts</td>\n",
              "      <td>1</td>\n",
              "      <td>1584</td>\n",
              "    </tr>\n",
              "    <tr>\n",
              "      <th>3</th>\n",
              "      <td>17827728</td>\n",
              "      <td>v1.5 Beta R6</td>\n",
              "      <td>=V= CBA Hero AC V13.scx</td>\n",
              "      <td>Match Stats Only</td>\n",
              "      <td>661</td>\n",
              "      <td>2</td>\n",
              "      <td>13</td>\n",
              "      <td>Celts</td>\n",
              "      <td>0</td>\n",
              "      <td>1616</td>\n",
              "    </tr>\n",
              "    <tr>\n",
              "      <th>4</th>\n",
              "      <td>17832641</td>\n",
              "      <td>v1.5 Beta R6</td>\n",
              "      <td>=V= CBA Hero AC V13.scx</td>\n",
              "      <td>Match Stats Only</td>\n",
              "      <td>762</td>\n",
              "      <td>1</td>\n",
              "      <td>14</td>\n",
              "      <td>Spanish</td>\n",
              "      <td>1</td>\n",
              "      <td>1584</td>\n",
              "    </tr>\n",
              "  </tbody>\n",
              "</table>\n",
              "</div>"
            ],
            "text/plain": [
              "    MatchId     MatchMods                 MatchMap       MatchLadder  \\\n",
              "0  17827685  v1.5 Beta R6  =V= CBA Hero AC V13.scx  Match Stats Only   \n",
              "1  17827685  v1.5 Beta R6  =V= CBA Hero AC V13.scx  Match Stats Only   \n",
              "2  17827728  v1.5 Beta R6  =V= CBA Hero AC V13.scx  Match Stats Only   \n",
              "3  17827728  v1.5 Beta R6  =V= CBA Hero AC V13.scx  Match Stats Only   \n",
              "4  17832641  v1.5 Beta R6  =V= CBA Hero AC V13.scx  Match Stats Only   \n",
              "\n",
              "   MatchDuration MatchPlayerTeam MatchPlayerCivId MatchPlayerCivName  \\\n",
              "0            520               1                9           Saracens   \n",
              "1            520               2                9           Saracens   \n",
              "2            661               1               13              Celts   \n",
              "3            661               2               13              Celts   \n",
              "4            762               1               14            Spanish   \n",
              "\n",
              "  MatchPlayerWinner MatchPlayerPreRating  \n",
              "0                 1                 1584  \n",
              "1                 0                 1616  \n",
              "2                 1                 1584  \n",
              "3                 0                 1616  \n",
              "4                 1                 1584  "
            ]
          },
          "metadata": {
            "tags": []
          },
          "execution_count": 6
        }
      ]
    },
    {
      "cell_type": "markdown",
      "metadata": {
        "id": "nj3sWMupLhK4",
        "colab_type": "text"
      },
      "source": [
        "# EDA"
      ]
    },
    {
      "cell_type": "code",
      "metadata": {
        "id": "ExrMJgtHKplz",
        "colab_type": "code",
        "colab": {}
      },
      "source": [
        "# I want to predict which player wins\n",
        "\n",
        "target = 'MatchPlayerWinner'\n",
        "\n",
        "# This is 50/50 since odds are P1 and evens are P2 for a baseline"
      ],
      "execution_count": 0,
      "outputs": []
    },
    {
      "cell_type": "code",
      "metadata": {
        "id": "tnc3ar8fLyto",
        "colab_type": "code",
        "outputId": "1bc41ebc-1280-45ac-b0b5-b809810d7276",
        "colab": {
          "base_uri": "https://localhost:8080/",
          "height": 105
        }
      },
      "source": [
        "df[target].describe()"
      ],
      "execution_count": 0,
      "outputs": [
        {
          "output_type": "execute_result",
          "data": {
            "text/plain": [
              "count     1263808\n",
              "unique          3\n",
              "top             0\n",
              "freq       647589\n",
              "Name: MatchPlayerWinner, dtype: object"
            ]
          },
          "metadata": {
            "tags": []
          },
          "execution_count": 8
        }
      ]
    },
    {
      "cell_type": "code",
      "metadata": {
        "id": "7IhBk2F1L4Od",
        "colab_type": "code",
        "outputId": "a30afafd-aedb-4761-9546-6da8e34a0145",
        "colab": {
          "base_uri": "https://localhost:8080/",
          "height": 122
        }
      },
      "source": [
        "df['MatchLadder'].value_counts()"
      ],
      "execution_count": 0,
      "outputs": [
        {
          "output_type": "execute_result",
          "data": {
            "text/plain": [
              "RM - Team           723786\n",
              "RM - 1v1            411718\n",
              "Match Stats Only     81083\n",
              "DM - Team            40249\n",
              "DM - 1v1              6972\n",
              "Name: MatchLadder, dtype: int64"
            ]
          },
          "metadata": {
            "tags": []
          },
          "execution_count": 9
        }
      ]
    },
    {
      "cell_type": "code",
      "metadata": {
        "id": "BQaUcZARDIi4",
        "colab_type": "code",
        "colab": {}
      },
      "source": [
        "# only do 1v1 on random map game mode\n",
        "\n",
        "rm_1v1 = df[df['MatchLadder'] == 'RM - 1v1']"
      ],
      "execution_count": 0,
      "outputs": []
    },
    {
      "cell_type": "code",
      "metadata": {
        "id": "l-A5k0UpCrxp",
        "colab_type": "code",
        "colab": {}
      },
      "source": [
        "# remove ones with errors\n",
        "rm_1v1 = rm_1v1[rm_1v1.MatchPlayerPreRating != '*VooblyErrorPlayerNotFound*']\n",
        "\n",
        "# make into ints\n",
        "rm_1v1['MatchPlayerCivId'] = rm_1v1['MatchPlayerCivId'].astype(int)\n",
        "rm_1v1['MatchPlayerWinner'] = rm_1v1['MatchPlayerWinner'].astype(int)\n",
        "rm_1v1['MatchPlayerPreRating'] = rm_1v1['MatchPlayerPreRating'].astype(int)\n",
        "rm_1v1.dtypes\n",
        "\n",
        "# any civ IDs above 31 are errors according to the readme\n",
        "rm_1v1 = rm_1v1[rm_1v1['MatchPlayerCivId'] < 32]"
      ],
      "execution_count": 0,
      "outputs": []
    },
    {
      "cell_type": "code",
      "metadata": {
        "id": "YwD4fGN5MfFu",
        "colab_type": "code",
        "outputId": "5427008e-553c-42dc-b50b-4a582025040a",
        "colab": {
          "base_uri": "https://localhost:8080/",
          "height": 199
        }
      },
      "source": [
        "# drop redundant labels\n",
        "\n",
        "rm_1v1 = rm_1v1.drop(labels=['MatchLadder','MatchPlayerCivName','MatchPlayerTeam'], axis=1)\n",
        "rm_1v1.head()"
      ],
      "execution_count": 0,
      "outputs": [
        {
          "output_type": "execute_result",
          "data": {
            "text/html": [
              "<div>\n",
              "<style scoped>\n",
              "    .dataframe tbody tr th:only-of-type {\n",
              "        vertical-align: middle;\n",
              "    }\n",
              "\n",
              "    .dataframe tbody tr th {\n",
              "        vertical-align: top;\n",
              "    }\n",
              "\n",
              "    .dataframe thead th {\n",
              "        text-align: right;\n",
              "    }\n",
              "</style>\n",
              "<table border=\"1\" class=\"dataframe\">\n",
              "  <thead>\n",
              "    <tr style=\"text-align: right;\">\n",
              "      <th></th>\n",
              "      <th>MatchId</th>\n",
              "      <th>MatchMods</th>\n",
              "      <th>MatchMap</th>\n",
              "      <th>MatchDuration</th>\n",
              "      <th>MatchPlayerCivId</th>\n",
              "      <th>MatchPlayerWinner</th>\n",
              "      <th>MatchPlayerPreRating</th>\n",
              "    </tr>\n",
              "  </thead>\n",
              "  <tbody>\n",
              "    <tr>\n",
              "      <th>728</th>\n",
              "      <td>18658367</td>\n",
              "      <td>v1.5 Beta R7, WololoKingdoms</td>\n",
              "      <td>Arabia</td>\n",
              "      <td>1055</td>\n",
              "      <td>16</td>\n",
              "      <td>1</td>\n",
              "      <td>1599</td>\n",
              "    </tr>\n",
              "    <tr>\n",
              "      <th>729</th>\n",
              "      <td>18658367</td>\n",
              "      <td>v1.5 Beta R7, WololoKingdoms</td>\n",
              "      <td>Arabia</td>\n",
              "      <td>1055</td>\n",
              "      <td>11</td>\n",
              "      <td>0</td>\n",
              "      <td>1600</td>\n",
              "    </tr>\n",
              "    <tr>\n",
              "      <th>730</th>\n",
              "      <td>18658419</td>\n",
              "      <td>1.4 RC</td>\n",
              "      <td>Custom</td>\n",
              "      <td>3361</td>\n",
              "      <td>18</td>\n",
              "      <td>1</td>\n",
              "      <td>1629</td>\n",
              "    </tr>\n",
              "    <tr>\n",
              "      <th>731</th>\n",
              "      <td>18658419</td>\n",
              "      <td>1.4 RC</td>\n",
              "      <td>Custom</td>\n",
              "      <td>3361</td>\n",
              "      <td>17</td>\n",
              "      <td>0</td>\n",
              "      <td>1548</td>\n",
              "    </tr>\n",
              "    <tr>\n",
              "      <th>732</th>\n",
              "      <td>18658476</td>\n",
              "      <td>v1.5 Beta R7, WololoKingdoms</td>\n",
              "      <td>Nomad</td>\n",
              "      <td>3369</td>\n",
              "      <td>6</td>\n",
              "      <td>1</td>\n",
              "      <td>1975</td>\n",
              "    </tr>\n",
              "  </tbody>\n",
              "</table>\n",
              "</div>"
            ],
            "text/plain": [
              "      MatchId                     MatchMods MatchMap  MatchDuration  \\\n",
              "728  18658367  v1.5 Beta R7, WololoKingdoms   Arabia           1055   \n",
              "729  18658367  v1.5 Beta R7, WololoKingdoms   Arabia           1055   \n",
              "730  18658419                        1.4 RC   Custom           3361   \n",
              "731  18658419                        1.4 RC   Custom           3361   \n",
              "732  18658476  v1.5 Beta R7, WololoKingdoms    Nomad           3369   \n",
              "\n",
              "     MatchPlayerCivId  MatchPlayerWinner  MatchPlayerPreRating  \n",
              "728                16                  1                  1599  \n",
              "729                11                  0                  1600  \n",
              "730                18                  1                  1629  \n",
              "731                17                  0                  1548  \n",
              "732                 6                  1                  1975  "
            ]
          },
          "metadata": {
            "tags": []
          },
          "execution_count": 15
        }
      ]
    },
    {
      "cell_type": "code",
      "metadata": {
        "id": "fSo8PJieyZjR",
        "colab_type": "code",
        "outputId": "eb460e6d-09dc-42d1-face-3ff18b060cd0",
        "colab": {
          "base_uri": "https://localhost:8080/",
          "height": 157
        }
      },
      "source": [
        "rm_1v1.dtypes "
      ],
      "execution_count": 0,
      "outputs": [
        {
          "output_type": "execute_result",
          "data": {
            "text/plain": [
              "MatchId                  int64\n",
              "MatchMods               object\n",
              "MatchMap                object\n",
              "MatchDuration            int64\n",
              "MatchPlayerCivId         int64\n",
              "MatchPlayerWinner        int64\n",
              "MatchPlayerPreRating     int64\n",
              "dtype: object"
            ]
          },
          "metadata": {
            "tags": []
          },
          "execution_count": 16
        }
      ]
    },
    {
      "cell_type": "code",
      "metadata": {
        "id": "oVPkSv2wP9bi",
        "colab_type": "code",
        "outputId": "c1ae194a-1bd7-42a2-ff71-771315390d57",
        "colab": {
          "base_uri": "https://localhost:8080/",
          "height": 105
        }
      },
      "source": [
        "rm_1v1['MatchMods'].describe()\n",
        "\n",
        "# don't have time to see what all the mods do/don't understand effect on gameplay balance/target demographics, make a note"
      ],
      "execution_count": 0,
      "outputs": [
        {
          "output_type": "execute_result",
          "data": {
            "text/plain": [
              "count                           411123\n",
              "unique                              40\n",
              "top       v1.5 Beta R7, WololoKingdoms\n",
              "freq                            292835\n",
              "Name: MatchMods, dtype: object"
            ]
          },
          "metadata": {
            "tags": []
          },
          "execution_count": 17
        }
      ]
    },
    {
      "cell_type": "code",
      "metadata": {
        "id": "zvdO8GNj0WGp",
        "colab_type": "code",
        "outputId": "1435654c-5df4-4614-8acd-6fe984717451",
        "colab": {
          "base_uri": "https://localhost:8080/",
          "height": 105
        }
      },
      "source": [
        "rm_1v1['MatchMap'].describe()"
      ],
      "execution_count": 0,
      "outputs": [
        {
          "output_type": "execute_result",
          "data": {
            "text/plain": [
              "count     411123\n",
              "unique        57\n",
              "top       Arabia\n",
              "freq      273944\n",
              "Name: MatchMap, dtype: object"
            ]
          },
          "metadata": {
            "tags": []
          },
          "execution_count": 18
        }
      ]
    },
    {
      "cell_type": "code",
      "metadata": {
        "id": "xKbSuIu3QCMh",
        "colab_type": "code",
        "outputId": "4be0338c-deb2-498d-d890-12b8afd9bfc9",
        "colab": {
          "base_uri": "https://localhost:8080/",
          "height": 199
        }
      },
      "source": [
        "rm_1v1.tail()"
      ],
      "execution_count": 0,
      "outputs": [
        {
          "output_type": "execute_result",
          "data": {
            "text/html": [
              "<div>\n",
              "<style scoped>\n",
              "    .dataframe tbody tr th:only-of-type {\n",
              "        vertical-align: middle;\n",
              "    }\n",
              "\n",
              "    .dataframe tbody tr th {\n",
              "        vertical-align: top;\n",
              "    }\n",
              "\n",
              "    .dataframe thead th {\n",
              "        text-align: right;\n",
              "    }\n",
              "</style>\n",
              "<table border=\"1\" class=\"dataframe\">\n",
              "  <thead>\n",
              "    <tr style=\"text-align: right;\">\n",
              "      <th></th>\n",
              "      <th>MatchId</th>\n",
              "      <th>MatchMods</th>\n",
              "      <th>MatchMap</th>\n",
              "      <th>MatchDuration</th>\n",
              "      <th>MatchPlayerCivId</th>\n",
              "      <th>MatchPlayerWinner</th>\n",
              "      <th>MatchPlayerPreRating</th>\n",
              "    </tr>\n",
              "  </thead>\n",
              "  <tbody>\n",
              "    <tr>\n",
              "      <th>1263771</th>\n",
              "      <td>19250562</td>\n",
              "      <td>v1.5 Beta R7, WololoKingdoms</td>\n",
              "      <td>Arabia</td>\n",
              "      <td>4797</td>\n",
              "      <td>8</td>\n",
              "      <td>0</td>\n",
              "      <td>1695</td>\n",
              "    </tr>\n",
              "    <tr>\n",
              "      <th>1263772</th>\n",
              "      <td>19250571</td>\n",
              "      <td>v1.5 Beta R7, WololoKingdoms</td>\n",
              "      <td>Custom</td>\n",
              "      <td>2501</td>\n",
              "      <td>13</td>\n",
              "      <td>1</td>\n",
              "      <td>1933</td>\n",
              "    </tr>\n",
              "    <tr>\n",
              "      <th>1263773</th>\n",
              "      <td>19250571</td>\n",
              "      <td>v1.5 Beta R7, WololoKingdoms</td>\n",
              "      <td>Custom</td>\n",
              "      <td>2501</td>\n",
              "      <td>12</td>\n",
              "      <td>0</td>\n",
              "      <td>1909</td>\n",
              "    </tr>\n",
              "    <tr>\n",
              "      <th>1263774</th>\n",
              "      <td>19250581</td>\n",
              "      <td>v1.5 Beta R7, WololoKingdoms</td>\n",
              "      <td>Custom</td>\n",
              "      <td>4080</td>\n",
              "      <td>24</td>\n",
              "      <td>1</td>\n",
              "      <td>1542</td>\n",
              "    </tr>\n",
              "    <tr>\n",
              "      <th>1263775</th>\n",
              "      <td>19250581</td>\n",
              "      <td>v1.5 Beta R7, WololoKingdoms</td>\n",
              "      <td>Custom</td>\n",
              "      <td>4080</td>\n",
              "      <td>19</td>\n",
              "      <td>0</td>\n",
              "      <td>1479</td>\n",
              "    </tr>\n",
              "  </tbody>\n",
              "</table>\n",
              "</div>"
            ],
            "text/plain": [
              "          MatchId                     MatchMods MatchMap  MatchDuration  \\\n",
              "1263771  19250562  v1.5 Beta R7, WololoKingdoms   Arabia           4797   \n",
              "1263772  19250571  v1.5 Beta R7, WololoKingdoms   Custom           2501   \n",
              "1263773  19250571  v1.5 Beta R7, WololoKingdoms   Custom           2501   \n",
              "1263774  19250581  v1.5 Beta R7, WololoKingdoms   Custom           4080   \n",
              "1263775  19250581  v1.5 Beta R7, WololoKingdoms   Custom           4080   \n",
              "\n",
              "         MatchPlayerCivId  MatchPlayerWinner  MatchPlayerPreRating  \n",
              "1263771                 8                  0                  1695  \n",
              "1263772                13                  1                  1933  \n",
              "1263773                12                  0                  1909  \n",
              "1263774                24                  1                  1542  \n",
              "1263775                19                  0                  1479  "
            ]
          },
          "metadata": {
            "tags": []
          },
          "execution_count": 19
        }
      ]
    },
    {
      "cell_type": "code",
      "metadata": {
        "id": "reFDWJ-NQq_s",
        "colab_type": "code",
        "outputId": "644c3ea6-f994-4d9a-e3a5-432da255c12a",
        "colab": {
          "base_uri": "https://localhost:8080/",
          "height": 34
        }
      },
      "source": [
        "y = rm_1v1[target]\n",
        "\n",
        "y.nunique()"
      ],
      "execution_count": 0,
      "outputs": [
        {
          "output_type": "execute_result",
          "data": {
            "text/plain": [
              "2"
            ]
          },
          "metadata": {
            "tags": []
          },
          "execution_count": 20
        }
      ]
    },
    {
      "cell_type": "code",
      "metadata": {
        "id": "yBqsdVSIUARU",
        "colab_type": "code",
        "outputId": "335b36c4-e391-4579-fe6a-fa558fbfa298",
        "colab": {
          "base_uri": "https://localhost:8080/",
          "height": 70
        }
      },
      "source": [
        "y.value_counts() # baseline is 50/50 since only P1 or P2 can win a 1v1"
      ],
      "execution_count": 0,
      "outputs": [
        {
          "output_type": "execute_result",
          "data": {
            "text/plain": [
              "0    205562\n",
              "1    205561\n",
              "Name: MatchPlayerWinner, dtype: int64"
            ]
          },
          "metadata": {
            "tags": []
          },
          "execution_count": 21
        }
      ]
    },
    {
      "cell_type": "markdown",
      "metadata": {
        "id": "GafM_6QuTM0f",
        "colab_type": "text"
      },
      "source": [
        "# Finish implementing today and then re-run"
      ]
    },
    {
      "cell_type": "code",
      "metadata": {
        "id": "hFE6RMriAHue",
        "colab_type": "code",
        "colab": {}
      },
      "source": [
        "# TODO function to make tier list column\n",
        "\n",
        "good = []\n",
        "average = []\n",
        "bad = []\n",
        "\n",
        "def place_in_tier(civ_ID):\n",
        "  if in good:\n",
        "    return 1\n",
        "  elif in average:\n",
        "    return 2\n",
        "  else:\n",
        "    return 3\n",
        "\n",
        "# rm_1v1['CivTier'] = rm_1v1['MatchPlayerCivId].apply(place_in_tier)"
      ],
      "execution_count": 0,
      "outputs": []
    },
    {
      "cell_type": "code",
      "metadata": {
        "id": "k4LjP5-qBLG2",
        "colab_type": "code",
        "colab": {
          "base_uri": "https://localhost:8080/",
          "height": 34
        },
        "outputId": "b7ecc2b5-a48f-4b74-b495-8d777d15bc0e"
      },
      "source": [
        "d = {'1': 'one', '3': 'three', '2': 'two', '5': 'five', '4': 'four'}\n",
        "\n",
        "'one' in d.values()"
      ],
      "execution_count": 1,
      "outputs": [
        {
          "output_type": "execute_result",
          "data": {
            "text/plain": [
              "True"
            ]
          },
          "metadata": {
            "tags": []
          },
          "execution_count": 1
        }
      ]
    },
    {
      "cell_type": "code",
      "metadata": {
        "id": "zlu0hPt2abDI",
        "colab_type": "code",
        "outputId": "df31ad77-56b9-4666-d3e7-b9e90c91ee00",
        "colab": {
          "base_uri": "https://localhost:8080/",
          "height": 34
        }
      },
      "source": [
        "# re-arranging dataframe since right now, odd player always wins which makes the model always guess player one wins\n",
        "\n",
        "first_players = rm_1v1[::2]\n",
        "second_players = rm_1v1[1::2]\n",
        "\n",
        "\n",
        "first_players.shape, second_players.shape"
      ],
      "execution_count": 0,
      "outputs": [
        {
          "output_type": "execute_result",
          "data": {
            "text/plain": [
              "((205562, 7), (205561, 7))"
            ]
          },
          "metadata": {
            "tags": []
          },
          "execution_count": 22
        }
      ]
    },
    {
      "cell_type": "code",
      "metadata": {
        "id": "PnEvNQyn5AuH",
        "colab_type": "code",
        "outputId": "12ada64d-2cea-42f7-8ee1-441a65a7f7f5",
        "colab": {
          "base_uri": "https://localhost:8080/",
          "height": 199
        }
      },
      "source": [
        "first_players.head()"
      ],
      "execution_count": 0,
      "outputs": [
        {
          "output_type": "execute_result",
          "data": {
            "text/html": [
              "<div>\n",
              "<style scoped>\n",
              "    .dataframe tbody tr th:only-of-type {\n",
              "        vertical-align: middle;\n",
              "    }\n",
              "\n",
              "    .dataframe tbody tr th {\n",
              "        vertical-align: top;\n",
              "    }\n",
              "\n",
              "    .dataframe thead th {\n",
              "        text-align: right;\n",
              "    }\n",
              "</style>\n",
              "<table border=\"1\" class=\"dataframe\">\n",
              "  <thead>\n",
              "    <tr style=\"text-align: right;\">\n",
              "      <th></th>\n",
              "      <th>MatchId</th>\n",
              "      <th>MatchMods</th>\n",
              "      <th>MatchMap</th>\n",
              "      <th>MatchDuration</th>\n",
              "      <th>MatchPlayerCivId</th>\n",
              "      <th>MatchPlayerWinner</th>\n",
              "      <th>MatchPlayerPreRating</th>\n",
              "    </tr>\n",
              "  </thead>\n",
              "  <tbody>\n",
              "    <tr>\n",
              "      <th>728</th>\n",
              "      <td>18658367</td>\n",
              "      <td>v1.5 Beta R7, WololoKingdoms</td>\n",
              "      <td>Arabia</td>\n",
              "      <td>1055</td>\n",
              "      <td>16</td>\n",
              "      <td>1</td>\n",
              "      <td>1599</td>\n",
              "    </tr>\n",
              "    <tr>\n",
              "      <th>730</th>\n",
              "      <td>18658419</td>\n",
              "      <td>1.4 RC</td>\n",
              "      <td>Custom</td>\n",
              "      <td>3361</td>\n",
              "      <td>18</td>\n",
              "      <td>1</td>\n",
              "      <td>1629</td>\n",
              "    </tr>\n",
              "    <tr>\n",
              "      <th>732</th>\n",
              "      <td>18658476</td>\n",
              "      <td>v1.5 Beta R7, WololoKingdoms</td>\n",
              "      <td>Nomad</td>\n",
              "      <td>3369</td>\n",
              "      <td>6</td>\n",
              "      <td>1</td>\n",
              "      <td>1975</td>\n",
              "    </tr>\n",
              "    <tr>\n",
              "      <th>734</th>\n",
              "      <td>18658489</td>\n",
              "      <td>1.4 RC</td>\n",
              "      <td>Custom</td>\n",
              "      <td>1891</td>\n",
              "      <td>12</td>\n",
              "      <td>1</td>\n",
              "      <td>1415</td>\n",
              "    </tr>\n",
              "    <tr>\n",
              "      <th>736</th>\n",
              "      <td>18658492</td>\n",
              "      <td>v1.5 Beta R7, WololoKingdoms</td>\n",
              "      <td>Custom</td>\n",
              "      <td>3832</td>\n",
              "      <td>22</td>\n",
              "      <td>1</td>\n",
              "      <td>1385</td>\n",
              "    </tr>\n",
              "  </tbody>\n",
              "</table>\n",
              "</div>"
            ],
            "text/plain": [
              "      MatchId                     MatchMods MatchMap  MatchDuration  \\\n",
              "728  18658367  v1.5 Beta R7, WololoKingdoms   Arabia           1055   \n",
              "730  18658419                        1.4 RC   Custom           3361   \n",
              "732  18658476  v1.5 Beta R7, WololoKingdoms    Nomad           3369   \n",
              "734  18658489                        1.4 RC   Custom           1891   \n",
              "736  18658492  v1.5 Beta R7, WololoKingdoms   Custom           3832   \n",
              "\n",
              "     MatchPlayerCivId  MatchPlayerWinner  MatchPlayerPreRating  \n",
              "728                16                  1                  1599  \n",
              "730                18                  1                  1629  \n",
              "732                 6                  1                  1975  \n",
              "734                12                  1                  1415  \n",
              "736                22                  1                  1385  "
            ]
          },
          "metadata": {
            "tags": []
          },
          "execution_count": 23
        }
      ]
    },
    {
      "cell_type": "code",
      "metadata": {
        "id": "c4ojEtLi5DY7",
        "colab_type": "code",
        "outputId": "9bc525a1-b17b-4ba2-d40b-7e5a3d6d3d89",
        "colab": {
          "base_uri": "https://localhost:8080/",
          "height": 199
        }
      },
      "source": [
        "second_players.head()"
      ],
      "execution_count": 0,
      "outputs": [
        {
          "output_type": "execute_result",
          "data": {
            "text/html": [
              "<div>\n",
              "<style scoped>\n",
              "    .dataframe tbody tr th:only-of-type {\n",
              "        vertical-align: middle;\n",
              "    }\n",
              "\n",
              "    .dataframe tbody tr th {\n",
              "        vertical-align: top;\n",
              "    }\n",
              "\n",
              "    .dataframe thead th {\n",
              "        text-align: right;\n",
              "    }\n",
              "</style>\n",
              "<table border=\"1\" class=\"dataframe\">\n",
              "  <thead>\n",
              "    <tr style=\"text-align: right;\">\n",
              "      <th></th>\n",
              "      <th>MatchId</th>\n",
              "      <th>MatchMods</th>\n",
              "      <th>MatchMap</th>\n",
              "      <th>MatchDuration</th>\n",
              "      <th>MatchPlayerCivId</th>\n",
              "      <th>MatchPlayerWinner</th>\n",
              "      <th>MatchPlayerPreRating</th>\n",
              "    </tr>\n",
              "  </thead>\n",
              "  <tbody>\n",
              "    <tr>\n",
              "      <th>729</th>\n",
              "      <td>18658367</td>\n",
              "      <td>v1.5 Beta R7, WololoKingdoms</td>\n",
              "      <td>Arabia</td>\n",
              "      <td>1055</td>\n",
              "      <td>11</td>\n",
              "      <td>0</td>\n",
              "      <td>1600</td>\n",
              "    </tr>\n",
              "    <tr>\n",
              "      <th>731</th>\n",
              "      <td>18658419</td>\n",
              "      <td>1.4 RC</td>\n",
              "      <td>Custom</td>\n",
              "      <td>3361</td>\n",
              "      <td>17</td>\n",
              "      <td>0</td>\n",
              "      <td>1548</td>\n",
              "    </tr>\n",
              "    <tr>\n",
              "      <th>733</th>\n",
              "      <td>18658476</td>\n",
              "      <td>v1.5 Beta R7, WololoKingdoms</td>\n",
              "      <td>Nomad</td>\n",
              "      <td>3369</td>\n",
              "      <td>17</td>\n",
              "      <td>0</td>\n",
              "      <td>2065</td>\n",
              "    </tr>\n",
              "    <tr>\n",
              "      <th>735</th>\n",
              "      <td>18658489</td>\n",
              "      <td>1.4 RC</td>\n",
              "      <td>Custom</td>\n",
              "      <td>1891</td>\n",
              "      <td>18</td>\n",
              "      <td>0</td>\n",
              "      <td>1535</td>\n",
              "    </tr>\n",
              "    <tr>\n",
              "      <th>737</th>\n",
              "      <td>18658492</td>\n",
              "      <td>v1.5 Beta R7, WololoKingdoms</td>\n",
              "      <td>Custom</td>\n",
              "      <td>3832</td>\n",
              "      <td>8</td>\n",
              "      <td>0</td>\n",
              "      <td>1600</td>\n",
              "    </tr>\n",
              "  </tbody>\n",
              "</table>\n",
              "</div>"
            ],
            "text/plain": [
              "      MatchId                     MatchMods MatchMap  MatchDuration  \\\n",
              "729  18658367  v1.5 Beta R7, WololoKingdoms   Arabia           1055   \n",
              "731  18658419                        1.4 RC   Custom           3361   \n",
              "733  18658476  v1.5 Beta R7, WololoKingdoms    Nomad           3369   \n",
              "735  18658489                        1.4 RC   Custom           1891   \n",
              "737  18658492  v1.5 Beta R7, WololoKingdoms   Custom           3832   \n",
              "\n",
              "     MatchPlayerCivId  MatchPlayerWinner  MatchPlayerPreRating  \n",
              "729                11                  0                  1600  \n",
              "731                17                  0                  1548  \n",
              "733                17                  0                  2065  \n",
              "735                18                  0                  1535  \n",
              "737                 8                  0                  1600  "
            ]
          },
          "metadata": {
            "tags": []
          },
          "execution_count": 24
        }
      ]
    },
    {
      "cell_type": "code",
      "metadata": {
        "id": "qYUVvUAMQMR9",
        "colab_type": "code",
        "outputId": "12ad6a62-efe4-4fab-a89c-1041b8bb7a50",
        "colab": {
          "base_uri": "https://localhost:8080/",
          "height": 199
        }
      },
      "source": [
        "p2_names = {\n",
        "    \"MatchPlayerCivId\" : \"MatchPlayerCivId2\",\n",
        "    \"MatchPlayerPreRating\" : \"MatchPlayerPreRating2\",\n",
        "    \"MatchPlayerPostRating\" : \"MatchPlayerPostRating2\"\n",
        "    #,\n",
        "    #\"CivTier\" : \"CivTier2\"\n",
        "}\n",
        "\n",
        "second_players = second_players.rename(columns=p2_names)\n",
        "\n",
        "drop_cols = ['MatchMods','MatchDuration','MatchPlayerWinner', 'MatchMap']\n",
        "second_players = second_players.drop(labels=drop_cols, axis=1)\n",
        "\n",
        "second_players.head()"
      ],
      "execution_count": 0,
      "outputs": [
        {
          "output_type": "execute_result",
          "data": {
            "text/html": [
              "<div>\n",
              "<style scoped>\n",
              "    .dataframe tbody tr th:only-of-type {\n",
              "        vertical-align: middle;\n",
              "    }\n",
              "\n",
              "    .dataframe tbody tr th {\n",
              "        vertical-align: top;\n",
              "    }\n",
              "\n",
              "    .dataframe thead th {\n",
              "        text-align: right;\n",
              "    }\n",
              "</style>\n",
              "<table border=\"1\" class=\"dataframe\">\n",
              "  <thead>\n",
              "    <tr style=\"text-align: right;\">\n",
              "      <th></th>\n",
              "      <th>MatchId</th>\n",
              "      <th>MatchPlayerCivId2</th>\n",
              "      <th>MatchPlayerPreRating2</th>\n",
              "    </tr>\n",
              "  </thead>\n",
              "  <tbody>\n",
              "    <tr>\n",
              "      <th>729</th>\n",
              "      <td>18658367</td>\n",
              "      <td>11</td>\n",
              "      <td>1600</td>\n",
              "    </tr>\n",
              "    <tr>\n",
              "      <th>731</th>\n",
              "      <td>18658419</td>\n",
              "      <td>17</td>\n",
              "      <td>1548</td>\n",
              "    </tr>\n",
              "    <tr>\n",
              "      <th>733</th>\n",
              "      <td>18658476</td>\n",
              "      <td>17</td>\n",
              "      <td>2065</td>\n",
              "    </tr>\n",
              "    <tr>\n",
              "      <th>735</th>\n",
              "      <td>18658489</td>\n",
              "      <td>18</td>\n",
              "      <td>1535</td>\n",
              "    </tr>\n",
              "    <tr>\n",
              "      <th>737</th>\n",
              "      <td>18658492</td>\n",
              "      <td>8</td>\n",
              "      <td>1600</td>\n",
              "    </tr>\n",
              "  </tbody>\n",
              "</table>\n",
              "</div>"
            ],
            "text/plain": [
              "      MatchId  MatchPlayerCivId2  MatchPlayerPreRating2\n",
              "729  18658367                 11                   1600\n",
              "731  18658419                 17                   1548\n",
              "733  18658476                 17                   2065\n",
              "735  18658489                 18                   1535\n",
              "737  18658492                  8                   1600"
            ]
          },
          "metadata": {
            "tags": []
          },
          "execution_count": 25
        }
      ]
    },
    {
      "cell_type": "code",
      "metadata": {
        "id": "rqitzCLLXHMk",
        "colab_type": "code",
        "colab": {}
      },
      "source": [
        "# merge first and second players so each row has match data for both players since\n",
        "# the features we care about are relative like their relative elo difference\n",
        "\n",
        "rm_1v1 = first_players.merge(second_players, on='MatchId')\n"
      ],
      "execution_count": 0,
      "outputs": []
    },
    {
      "cell_type": "code",
      "metadata": {
        "id": "LV7xypp7wK0U",
        "colab_type": "code",
        "colab": {}
      },
      "source": [
        "# set matchID as index\n",
        "\n",
        "rm_1v1 = rm_1v1.set_index('MatchId')"
      ],
      "execution_count": 0,
      "outputs": []
    },
    {
      "cell_type": "code",
      "metadata": {
        "id": "ejHhsqrwIIdH",
        "colab_type": "code",
        "outputId": "b2bd5e46-08d2-4834-e4c7-8c3631d2ebbe",
        "colab": {
          "base_uri": "https://localhost:8080/",
          "height": 334
        }
      },
      "source": [
        "# split set in half and reverse P1 and P2 in second half\n",
        "# so half of the data has P1 and P2 as winner\n",
        "\n",
        "from sklearn.model_selection import train_test_split\n",
        "\n",
        "fst, snd = train_test_split(rm_1v1, train_size=0.5, test_size=0.5)\n",
        "\n",
        "fst.shape, snd.shape\n",
        "\n",
        "snd_names = {\n",
        "    \"MatchPlayerCivId\" : \"MatchPlayerCivId2\",\n",
        "    \"MatchPlayerPreRating\" : \"MatchPlayerPreRating2\",\n",
        "    \"MatchPlayerPostRating\" : \"MatchPlayerPostRating2\",\n",
        "    \"MatchPlayerCivId2\" : \"MatchPlayerCivId\",\n",
        "    \"MatchPlayerPreRating2\" : \"MatchPlayerPreRating\",\n",
        "    \"MatchPlayerPostRating2\" : \"MatchPlayerPostRating\"\n",
        "}\n",
        "\n",
        "snd = snd.rename(columns=snd_names)\n",
        "snd['MatchPlayerWinner'] = snd['MatchPlayerWinner'].map({1:0})\n",
        "\n",
        "snd = snd.fillna(0)\n",
        "\n",
        "snd.head()\n"
      ],
      "execution_count": 0,
      "outputs": [
        {
          "output_type": "execute_result",
          "data": {
            "text/html": [
              "<div>\n",
              "<style scoped>\n",
              "    .dataframe tbody tr th:only-of-type {\n",
              "        vertical-align: middle;\n",
              "    }\n",
              "\n",
              "    .dataframe tbody tr th {\n",
              "        vertical-align: top;\n",
              "    }\n",
              "\n",
              "    .dataframe thead th {\n",
              "        text-align: right;\n",
              "    }\n",
              "</style>\n",
              "<table border=\"1\" class=\"dataframe\">\n",
              "  <thead>\n",
              "    <tr style=\"text-align: right;\">\n",
              "      <th></th>\n",
              "      <th>MatchMods</th>\n",
              "      <th>MatchMap</th>\n",
              "      <th>MatchDuration</th>\n",
              "      <th>MatchPlayerCivId2</th>\n",
              "      <th>MatchPlayerWinner</th>\n",
              "      <th>MatchPlayerPreRating2</th>\n",
              "      <th>MatchPlayerCivId</th>\n",
              "      <th>MatchPlayerPreRating</th>\n",
              "    </tr>\n",
              "    <tr>\n",
              "      <th>MatchId</th>\n",
              "      <th></th>\n",
              "      <th></th>\n",
              "      <th></th>\n",
              "      <th></th>\n",
              "      <th></th>\n",
              "      <th></th>\n",
              "      <th></th>\n",
              "      <th></th>\n",
              "    </tr>\n",
              "  </thead>\n",
              "  <tbody>\n",
              "    <tr>\n",
              "      <th>19076124</th>\n",
              "      <td>v1.5 Beta R7, WololoKingdoms</td>\n",
              "      <td>Arabia</td>\n",
              "      <td>6347</td>\n",
              "      <td>1</td>\n",
              "      <td>0.0</td>\n",
              "      <td>1587</td>\n",
              "      <td>29</td>\n",
              "      <td>1584</td>\n",
              "    </tr>\n",
              "    <tr>\n",
              "      <th>18953363</th>\n",
              "      <td>v1.5 Beta R7, WololoKingdoms</td>\n",
              "      <td>Islands</td>\n",
              "      <td>2801</td>\n",
              "      <td>16</td>\n",
              "      <td>0.0</td>\n",
              "      <td>1812</td>\n",
              "      <td>16</td>\n",
              "      <td>1859</td>\n",
              "    </tr>\n",
              "    <tr>\n",
              "      <th>18911954</th>\n",
              "      <td>v1.5 Beta R7, WololoKingdoms</td>\n",
              "      <td>Arabia</td>\n",
              "      <td>1513</td>\n",
              "      <td>7</td>\n",
              "      <td>0.0</td>\n",
              "      <td>1702</td>\n",
              "      <td>29</td>\n",
              "      <td>1683</td>\n",
              "    </tr>\n",
              "    <tr>\n",
              "      <th>19224647</th>\n",
              "      <td>v1.5 Beta R7, WololoKingdoms</td>\n",
              "      <td>Custom</td>\n",
              "      <td>3443</td>\n",
              "      <td>21</td>\n",
              "      <td>0.0</td>\n",
              "      <td>1362</td>\n",
              "      <td>18</td>\n",
              "      <td>1337</td>\n",
              "    </tr>\n",
              "    <tr>\n",
              "      <th>18965780</th>\n",
              "      <td>v1.5 Beta R7, WololoKingdoms</td>\n",
              "      <td>Arabia</td>\n",
              "      <td>1659</td>\n",
              "      <td>11</td>\n",
              "      <td>0.0</td>\n",
              "      <td>1730</td>\n",
              "      <td>2</td>\n",
              "      <td>1620</td>\n",
              "    </tr>\n",
              "  </tbody>\n",
              "</table>\n",
              "</div>"
            ],
            "text/plain": [
              "                             MatchMods MatchMap  MatchDuration  \\\n",
              "MatchId                                                          \n",
              "19076124  v1.5 Beta R7, WololoKingdoms   Arabia           6347   \n",
              "18953363  v1.5 Beta R7, WololoKingdoms  Islands           2801   \n",
              "18911954  v1.5 Beta R7, WololoKingdoms   Arabia           1513   \n",
              "19224647  v1.5 Beta R7, WololoKingdoms   Custom           3443   \n",
              "18965780  v1.5 Beta R7, WololoKingdoms   Arabia           1659   \n",
              "\n",
              "          MatchPlayerCivId2  MatchPlayerWinner  MatchPlayerPreRating2  \\\n",
              "MatchId                                                                 \n",
              "19076124                  1                0.0                   1587   \n",
              "18953363                 16                0.0                   1812   \n",
              "18911954                  7                0.0                   1702   \n",
              "19224647                 21                0.0                   1362   \n",
              "18965780                 11                0.0                   1730   \n",
              "\n",
              "          MatchPlayerCivId  MatchPlayerPreRating  \n",
              "MatchId                                           \n",
              "19076124                29                  1584  \n",
              "18953363                16                  1859  \n",
              "18911954                29                  1683  \n",
              "19224647                18                  1337  \n",
              "18965780                 2                  1620  "
            ]
          },
          "metadata": {
            "tags": []
          },
          "execution_count": 28
        }
      ]
    },
    {
      "cell_type": "code",
      "metadata": {
        "id": "Cqvb7gcmI3Sg",
        "colab_type": "code",
        "outputId": "ec0db648-a8f5-4f19-d18b-6098220314c7",
        "colab": {
          "base_uri": "https://localhost:8080/",
          "height": 317
        }
      },
      "source": [
        "fst.head()"
      ],
      "execution_count": 0,
      "outputs": [
        {
          "output_type": "execute_result",
          "data": {
            "text/html": [
              "<div>\n",
              "<style scoped>\n",
              "    .dataframe tbody tr th:only-of-type {\n",
              "        vertical-align: middle;\n",
              "    }\n",
              "\n",
              "    .dataframe tbody tr th {\n",
              "        vertical-align: top;\n",
              "    }\n",
              "\n",
              "    .dataframe thead th {\n",
              "        text-align: right;\n",
              "    }\n",
              "</style>\n",
              "<table border=\"1\" class=\"dataframe\">\n",
              "  <thead>\n",
              "    <tr style=\"text-align: right;\">\n",
              "      <th></th>\n",
              "      <th>MatchMods</th>\n",
              "      <th>MatchMap</th>\n",
              "      <th>MatchDuration</th>\n",
              "      <th>MatchPlayerCivId</th>\n",
              "      <th>MatchPlayerWinner</th>\n",
              "      <th>MatchPlayerPreRating</th>\n",
              "      <th>MatchPlayerCivId2</th>\n",
              "      <th>MatchPlayerPreRating2</th>\n",
              "    </tr>\n",
              "    <tr>\n",
              "      <th>MatchId</th>\n",
              "      <th></th>\n",
              "      <th></th>\n",
              "      <th></th>\n",
              "      <th></th>\n",
              "      <th></th>\n",
              "      <th></th>\n",
              "      <th></th>\n",
              "      <th></th>\n",
              "    </tr>\n",
              "  </thead>\n",
              "  <tbody>\n",
              "    <tr>\n",
              "      <th>19233934</th>\n",
              "      <td>v1.5 Beta R7</td>\n",
              "      <td>Arabia</td>\n",
              "      <td>4995</td>\n",
              "      <td>3</td>\n",
              "      <td>1</td>\n",
              "      <td>1528</td>\n",
              "      <td>9</td>\n",
              "      <td>1487</td>\n",
              "    </tr>\n",
              "    <tr>\n",
              "      <th>18805139</th>\n",
              "      <td>v1.5 Beta R7, WololoKingdoms</td>\n",
              "      <td>Arabia</td>\n",
              "      <td>1832</td>\n",
              "      <td>28</td>\n",
              "      <td>0</td>\n",
              "      <td>1697</td>\n",
              "      <td>24</td>\n",
              "      <td>1842</td>\n",
              "    </tr>\n",
              "    <tr>\n",
              "      <th>19084045</th>\n",
              "      <td>v1.5 Beta R7, WololoKingdoms</td>\n",
              "      <td>Arabia</td>\n",
              "      <td>2610</td>\n",
              "      <td>29</td>\n",
              "      <td>0</td>\n",
              "      <td>1667</td>\n",
              "      <td>12</td>\n",
              "      <td>1706</td>\n",
              "    </tr>\n",
              "    <tr>\n",
              "      <th>18959398</th>\n",
              "      <td>v1.5 Beta R7, WololoKingdoms</td>\n",
              "      <td>Custom</td>\n",
              "      <td>1880</td>\n",
              "      <td>16</td>\n",
              "      <td>0</td>\n",
              "      <td>1581</td>\n",
              "      <td>4</td>\n",
              "      <td>1620</td>\n",
              "    </tr>\n",
              "    <tr>\n",
              "      <th>18691426</th>\n",
              "      <td>v1.5 Beta R7, WololoKingdoms</td>\n",
              "      <td>Arabia</td>\n",
              "      <td>2609</td>\n",
              "      <td>3</td>\n",
              "      <td>0</td>\n",
              "      <td>1528</td>\n",
              "      <td>14</td>\n",
              "      <td>1365</td>\n",
              "    </tr>\n",
              "  </tbody>\n",
              "</table>\n",
              "</div>"
            ],
            "text/plain": [
              "                             MatchMods MatchMap  MatchDuration  \\\n",
              "MatchId                                                          \n",
              "19233934                  v1.5 Beta R7   Arabia           4995   \n",
              "18805139  v1.5 Beta R7, WololoKingdoms   Arabia           1832   \n",
              "19084045  v1.5 Beta R7, WololoKingdoms   Arabia           2610   \n",
              "18959398  v1.5 Beta R7, WololoKingdoms   Custom           1880   \n",
              "18691426  v1.5 Beta R7, WololoKingdoms   Arabia           2609   \n",
              "\n",
              "          MatchPlayerCivId  MatchPlayerWinner  MatchPlayerPreRating  \\\n",
              "MatchId                                                               \n",
              "19233934                 3                  1                  1528   \n",
              "18805139                28                  0                  1697   \n",
              "19084045                29                  0                  1667   \n",
              "18959398                16                  0                  1581   \n",
              "18691426                 3                  0                  1528   \n",
              "\n",
              "          MatchPlayerCivId2  MatchPlayerPreRating2  \n",
              "MatchId                                             \n",
              "19233934                  9                   1487  \n",
              "18805139                 24                   1842  \n",
              "19084045                 12                   1706  \n",
              "18959398                  4                   1620  \n",
              "18691426                 14                   1365  "
            ]
          },
          "metadata": {
            "tags": []
          },
          "execution_count": 29
        }
      ]
    },
    {
      "cell_type": "code",
      "metadata": {
        "id": "0Tl881IhJYUG",
        "colab_type": "code",
        "colab": {}
      },
      "source": [
        "# data frame is finally ready to have features engineered\n",
        "\n",
        "rm_1v1 = snd.append(fst, sort=True)"
      ],
      "execution_count": 0,
      "outputs": []
    },
    {
      "cell_type": "markdown",
      "metadata": {
        "id": "690S-YuVg31Z",
        "colab_type": "text"
      },
      "source": [
        "# Feature Engineering "
      ]
    },
    {
      "cell_type": "code",
      "metadata": {
        "id": "jIPZLu-PurlS",
        "colab_type": "code",
        "outputId": "660fc4c0-479a-4677-9417-002dd1c74b8a",
        "colab": {
          "base_uri": "https://localhost:8080/",
          "height": 334
        }
      },
      "source": [
        "\n",
        "rm_1v1['EloDifference'] = rm_1v1['MatchPlayerPreRating'] - rm_1v1['MatchPlayerPreRating2']\n",
        "\n",
        "rm_1v1.head()"
      ],
      "execution_count": 0,
      "outputs": [
        {
          "output_type": "execute_result",
          "data": {
            "text/html": [
              "<div>\n",
              "<style scoped>\n",
              "    .dataframe tbody tr th:only-of-type {\n",
              "        vertical-align: middle;\n",
              "    }\n",
              "\n",
              "    .dataframe tbody tr th {\n",
              "        vertical-align: top;\n",
              "    }\n",
              "\n",
              "    .dataframe thead th {\n",
              "        text-align: right;\n",
              "    }\n",
              "</style>\n",
              "<table border=\"1\" class=\"dataframe\">\n",
              "  <thead>\n",
              "    <tr style=\"text-align: right;\">\n",
              "      <th></th>\n",
              "      <th>MatchDuration</th>\n",
              "      <th>MatchMap</th>\n",
              "      <th>MatchMods</th>\n",
              "      <th>MatchPlayerCivId</th>\n",
              "      <th>MatchPlayerCivId2</th>\n",
              "      <th>MatchPlayerPreRating</th>\n",
              "      <th>MatchPlayerPreRating2</th>\n",
              "      <th>MatchPlayerWinner</th>\n",
              "      <th>EloDifference</th>\n",
              "    </tr>\n",
              "    <tr>\n",
              "      <th>MatchId</th>\n",
              "      <th></th>\n",
              "      <th></th>\n",
              "      <th></th>\n",
              "      <th></th>\n",
              "      <th></th>\n",
              "      <th></th>\n",
              "      <th></th>\n",
              "      <th></th>\n",
              "      <th></th>\n",
              "    </tr>\n",
              "  </thead>\n",
              "  <tbody>\n",
              "    <tr>\n",
              "      <th>19076124</th>\n",
              "      <td>6347</td>\n",
              "      <td>Arabia</td>\n",
              "      <td>v1.5 Beta R7, WololoKingdoms</td>\n",
              "      <td>29</td>\n",
              "      <td>1</td>\n",
              "      <td>1584</td>\n",
              "      <td>1587</td>\n",
              "      <td>0.0</td>\n",
              "      <td>-3</td>\n",
              "    </tr>\n",
              "    <tr>\n",
              "      <th>18953363</th>\n",
              "      <td>2801</td>\n",
              "      <td>Islands</td>\n",
              "      <td>v1.5 Beta R7, WololoKingdoms</td>\n",
              "      <td>16</td>\n",
              "      <td>16</td>\n",
              "      <td>1859</td>\n",
              "      <td>1812</td>\n",
              "      <td>0.0</td>\n",
              "      <td>47</td>\n",
              "    </tr>\n",
              "    <tr>\n",
              "      <th>18911954</th>\n",
              "      <td>1513</td>\n",
              "      <td>Arabia</td>\n",
              "      <td>v1.5 Beta R7, WololoKingdoms</td>\n",
              "      <td>29</td>\n",
              "      <td>7</td>\n",
              "      <td>1683</td>\n",
              "      <td>1702</td>\n",
              "      <td>0.0</td>\n",
              "      <td>-19</td>\n",
              "    </tr>\n",
              "    <tr>\n",
              "      <th>19224647</th>\n",
              "      <td>3443</td>\n",
              "      <td>Custom</td>\n",
              "      <td>v1.5 Beta R7, WololoKingdoms</td>\n",
              "      <td>18</td>\n",
              "      <td>21</td>\n",
              "      <td>1337</td>\n",
              "      <td>1362</td>\n",
              "      <td>0.0</td>\n",
              "      <td>-25</td>\n",
              "    </tr>\n",
              "    <tr>\n",
              "      <th>18965780</th>\n",
              "      <td>1659</td>\n",
              "      <td>Arabia</td>\n",
              "      <td>v1.5 Beta R7, WololoKingdoms</td>\n",
              "      <td>2</td>\n",
              "      <td>11</td>\n",
              "      <td>1620</td>\n",
              "      <td>1730</td>\n",
              "      <td>0.0</td>\n",
              "      <td>-110</td>\n",
              "    </tr>\n",
              "  </tbody>\n",
              "</table>\n",
              "</div>"
            ],
            "text/plain": [
              "          MatchDuration MatchMap                     MatchMods  \\\n",
              "MatchId                                                          \n",
              "19076124           6347   Arabia  v1.5 Beta R7, WololoKingdoms   \n",
              "18953363           2801  Islands  v1.5 Beta R7, WololoKingdoms   \n",
              "18911954           1513   Arabia  v1.5 Beta R7, WololoKingdoms   \n",
              "19224647           3443   Custom  v1.5 Beta R7, WololoKingdoms   \n",
              "18965780           1659   Arabia  v1.5 Beta R7, WololoKingdoms   \n",
              "\n",
              "          MatchPlayerCivId  MatchPlayerCivId2  MatchPlayerPreRating  \\\n",
              "MatchId                                                               \n",
              "19076124                29                  1                  1584   \n",
              "18953363                16                 16                  1859   \n",
              "18911954                29                  7                  1683   \n",
              "19224647                18                 21                  1337   \n",
              "18965780                 2                 11                  1620   \n",
              "\n",
              "          MatchPlayerPreRating2  MatchPlayerWinner  EloDifference  \n",
              "MatchId                                                            \n",
              "19076124                   1587                0.0             -3  \n",
              "18953363                   1812                0.0             47  \n",
              "18911954                   1702                0.0            -19  \n",
              "19224647                   1362                0.0            -25  \n",
              "18965780                   1730                0.0           -110  "
            ]
          },
          "metadata": {
            "tags": []
          },
          "execution_count": 31
        }
      ]
    },
    {
      "cell_type": "code",
      "metadata": {
        "id": "lJBSTcop2fUX",
        "colab_type": "code",
        "outputId": "62ebfb18-686b-45be-d936-53e980c41734",
        "colab": {
          "base_uri": "https://localhost:8080/",
          "height": 87
        }
      },
      "source": [
        "rm_1v1.columns"
      ],
      "execution_count": 0,
      "outputs": [
        {
          "output_type": "execute_result",
          "data": {
            "text/plain": [
              "Index(['MatchDuration', 'MatchMap', 'MatchMods', 'MatchPlayerCivId',\n",
              "       'MatchPlayerCivId2', 'MatchPlayerPreRating', 'MatchPlayerPreRating2',\n",
              "       'MatchPlayerWinner', 'EloDifference'],\n",
              "      dtype='object')"
            ]
          },
          "metadata": {
            "tags": []
          },
          "execution_count": 32
        }
      ]
    },
    {
      "cell_type": "code",
      "metadata": {
        "id": "x27FMMrfOUoN",
        "colab_type": "code",
        "outputId": "82c39bf6-df78-4bb5-99c9-19477a382d66",
        "colab": {
          "base_uri": "https://localhost:8080/",
          "height": 279
        }
      },
      "source": [
        "rm_1v1['EloBin'] = pd.qcut(rm_1v1['EloDifference'], 6, labels=[1,2,3,4,5,6])\n",
        "\n",
        "sns.barplot(x='EloBin', y='MatchPlayerWinner', data=rm_1v1);\n",
        "\n",
        "# ok this looks reasonable, a lot lower than expected because of smurfs but\n",
        "# will address difficulty of smurf detection/lack of 'trueElo' in blog"
      ],
      "execution_count": 0,
      "outputs": [
        {
          "output_type": "display_data",
          "data": {
            "image/png": "[encoded data removed]",
            "text/plain": [
              "<Figure size 432x288 with 1 Axes>"
            ]
          },
          "metadata": {
            "tags": []
          }
        }
      ]
    },
    {
      "cell_type": "code",
      "metadata": {
        "id": "En_cMvboTcNT",
        "colab_type": "code",
        "outputId": "23376894-2682-4c3f-f0ac-ccddfd5434ea",
        "colab": {
          "base_uri": "https://localhost:8080/",
          "height": 279
        }
      },
      "source": [
        "rm_1v1['MatchDurationQuintile'] = pd.qcut(rm_1v1['MatchDuration'], 10, labels=[1,2,3,4,5,6,7,8,9,10])\n",
        "\n",
        "sns.barplot(x='MatchDurationQuintile', y='MatchPlayerWinner', data=rm_1v1);\n",
        "\n",
        "# ok this is useless by itself, let's see if any factions are rush/late game\n",
        "# and make a feature around that"
      ],
      "execution_count": 0,
      "outputs": [
        {
          "output_type": "display_data",
          "data": {
            "image/png": "[encoded data removed]",
            "text/plain": [
              "<Figure size 432x288 with 1 Axes>"
            ]
          },
          "metadata": {
            "tags": []
          }
        }
      ]
    },
    {
      "cell_type": "code",
      "metadata": {
        "colab_type": "code",
        "outputId": "832a3540-a61b-4589-9be1-4bac044a0f67",
        "id": "Qv6BdhThPuPs",
        "colab": {
          "base_uri": "https://localhost:8080/",
          "height": 279
        }
      },
      "source": [
        "rm_1v1['EloDiffQCut'] = pd.qcut(rm_1v1['EloDifference'], 10, labels=[1,2,3,4,5,6,7,8,9,10])\n",
        "\n",
        "sns.barplot(x='EloDiffQCut', y='MatchPlayerWinner', data=rm_1v1);\n",
        "\n",
        "# not sure why it does an inverse color thing above\n",
        "# TODO: remove bottom margin labels\n",
        "# again, the smurfing is ruining it "
      ],
      "execution_count": 0,
      "outputs": [
        {
          "output_type": "display_data",
          "data": {
            "image/png": "[encoded data removed]",
            "text/plain": [
              "<Figure size 432x288 with 1 Axes>"
            ]
          },
          "metadata": {
            "tags": []
          }
        }
      ]
    },
    {
      "cell_type": "code",
      "metadata": {
        "id": "8Ke13nR-TxGC",
        "colab_type": "code",
        "outputId": "a0a2def9-0cbe-4854-9456-9ea9876ccdc3",
        "colab": {
          "base_uri": "https://localhost:8080/",
          "height": 514
        }
      },
      "source": [
        "a4_dims = (11.7, 8.27)\n",
        "\n",
        "fig, ax = plt.subplots(figsize=a4_dims)\n",
        "sns.barplot(ax=ax, x='MatchPlayerCivId', y='MatchPlayerWinner', data=rm_1v1); \n",
        "\n",
        "# ok prob bin some of the less popular ones together\n",
        "# TODO: use this and some tier lists to make a tier of race and then relative tier advantage feature"
      ],
      "execution_count": 0,
      "outputs": [
        {
          "output_type": "display_data",
          "data": {
            "image/png": "[encoded data removed]",
            "text/plain": [
              "<Figure size 842.4x595.44 with 1 Axes>"
            ]
          },
          "metadata": {
            "tags": []
          }
        }
      ]
    },
    {
      "cell_type": "code",
      "metadata": {
        "id": "Uk3kf2QQUGw7",
        "colab_type": "code",
        "outputId": "0629f3ed-1603-4294-a570-406387a5100c",
        "colab": {
          "base_uri": "https://localhost:8080/",
          "height": 579
        }
      },
      "source": [
        "rm_1v1['MatchPlayerCivId'].value_counts()"
      ],
      "execution_count": 0,
      "outputs": [
        {
          "output_type": "execute_result",
          "data": {
            "text/plain": [
              "17    15639\n",
              "12     8160\n",
              "16     7858\n",
              "7      7807\n",
              "2      7755\n",
              "13     7739\n",
              "15     7694\n",
              "11     7644\n",
              "14     7626\n",
              "1      7617\n",
              "3      7577\n",
              "6      7574\n",
              "4      7534\n",
              "18     7508\n",
              "5      7467\n",
              "8      7362\n",
              "10     7236\n",
              "9      7175\n",
              "23     4858\n",
              "22     4819\n",
              "21     4712\n",
              "26     4690\n",
              "19     4621\n",
              "29     4617\n",
              "20     4616\n",
              "27     4615\n",
              "31     4585\n",
              "24     4566\n",
              "30     4564\n",
              "28     4558\n",
              "25     4524\n",
              "Name: MatchPlayerCivId, dtype: int64"
            ]
          },
          "metadata": {
            "tags": []
          },
          "execution_count": 37
        }
      ]
    },
    {
      "cell_type": "code",
      "metadata": {
        "id": "Xxjl0H3iWNgS",
        "colab_type": "code",
        "outputId": "6b992de3-b6b1-4ba5-adfe-c65e0652cdd0",
        "colab": {
          "base_uri": "https://localhost:8080/",
          "height": 737
        }
      },
      "source": [
        "rm_1v1['MatchMods'].value_counts()\n",
        "\n",
        "# I don't play with balance mods and have no idea how these influence balance\n",
        "# Outside of time budget\n",
        "# However I do know that cosmetic mods are optional and one sided only\n",
        "# Like with removing shrubs and smaller trees and these do give an advantage"
      ],
      "execution_count": 0,
      "outputs": [
        {
          "output_type": "execute_result",
          "data": {
            "text/plain": [
              "v1.5 Beta R7, WololoKingdoms     146233\n",
              "v1.5 Beta R7                      38806\n",
              "v1.5 Beta R7, Allied Vision        6810\n",
              "v1.5 Beta R7, Small Trees - N      4598\n",
              "1.4 RC                             4392\n",
              "1.4 RC, WololoKingdoms              707\n",
              "v1.5 Beta R7, Advanced Statis       702\n",
              "v1.5 Beta R7, Allied Vision -       654\n",
              "v1.5 Beta R7, X-Patch with Al       596\n",
              "v1.5 Beta R7, Longer Lasting        498\n",
              "1.4 RC, Allied Vision               448\n",
              "v1.5 Beta R7, 1.0 Patch Mod         191\n",
              "1.4 RC, Small Trees - No Snow       181\n",
              "1.4 RC, Advanced Statistics          97\n",
              "v1.5 Beta R7, Realms                 80\n",
              "v1.5 Beta R7, No Walls Mod           70\n",
              "1.4 RC, Allied Vision - Advan        48\n",
              "v1.5 Beta R7, Mad Random Maps        44\n",
              "v1.5 RC, WololoKingdoms              41\n",
              "v1.5 Beta R7, LN FFA rules mo        26\n",
              "v1.5 Beta R7, 5th Age Mod            26\n",
              "1.4 RC, X-Patch with Allied V        14\n",
              "1.4 RC, 5th Age Mod                   9\n",
              "1.4 RC, 1.0 Patch Mod                 9\n",
              "1.4 RC - Extended Info, Advan         4\n",
              "v1.5 RC                               4\n",
              "1.4 RC - Extended Info, Wolol         4\n",
              "1.4 RC - Extended Info                3\n",
              "1.4 RC, LN FFA rules mod              3\n",
              "v1.5 Beta R7, X-Patch                 3\n",
              "1.4 RC, WololoKingdoms AK             2\n",
              "v1.5 Beta R7, Allied vision w         2\n",
              "v1.5 Beta R7, 1000 Pop Limit          2\n",
              "1.4 RC, Longer Lasting Resour         2\n",
              "v1.5 RC, Allied Vision                2\n",
              "1.4 RC - Extended Info, Small         2\n",
              "1.4 RC, WololoKingdoms FE             1\n",
              "1.4                                   1\n",
              "1.4 RC, No Walls Mod                  1\n",
              "1.4, 5th Age Mod                      1\n",
              "Name: MatchMods, dtype: int64"
            ]
          },
          "metadata": {
            "tags": []
          },
          "execution_count": 38
        }
      ]
    },
    {
      "cell_type": "markdown",
      "metadata": {
        "id": "JySxF8mKW65S",
        "colab_type": "text"
      },
      "source": [
        "Wololo Kingdoms vs Vanilla Win Rates from Reddit\n",
        "\n",
        "![Wololo Kingdoms vs Vanilla Game](https://i.redd.it/b5x2mnh608w01.png)"
      ]
    },
    {
      "cell_type": "code",
      "metadata": {
        "id": "bYynF3-MO24Z",
        "colab_type": "code",
        "outputId": "8225056d-99eb-4b9e-ffd7-723c45749f69",
        "colab": {
          "base_uri": "https://localhost:8080/",
          "height": 105
        }
      },
      "source": [
        "rm_1v1.columns"
      ],
      "execution_count": 0,
      "outputs": [
        {
          "output_type": "execute_result",
          "data": {
            "text/plain": [
              "Index(['MatchDuration', 'MatchMap', 'MatchMods', 'MatchPlayerCivId',\n",
              "       'MatchPlayerCivId2', 'MatchPlayerPreRating', 'MatchPlayerPreRating2',\n",
              "       'MatchPlayerWinner', 'EloDifference', 'EloBin',\n",
              "       'MatchDurationQuintile'],\n",
              "      dtype='object')"
            ]
          },
          "metadata": {
            "tags": []
          },
          "execution_count": 39
        }
      ]
    },
    {
      "cell_type": "code",
      "metadata": {
        "id": "pLBORqg3QKBt",
        "colab_type": "code",
        "outputId": "e012dfab-0b61-4d97-e6f1-d1b2a549ce25",
        "colab": {
          "base_uri": "https://localhost:8080/",
          "height": 334
        }
      },
      "source": [
        "rm_1v1.head()"
      ],
      "execution_count": 0,
      "outputs": [
        {
          "output_type": "execute_result",
          "data": {
            "text/html": [
              "<div>\n",
              "<style scoped>\n",
              "    .dataframe tbody tr th:only-of-type {\n",
              "        vertical-align: middle;\n",
              "    }\n",
              "\n",
              "    .dataframe tbody tr th {\n",
              "        vertical-align: top;\n",
              "    }\n",
              "\n",
              "    .dataframe thead th {\n",
              "        text-align: right;\n",
              "    }\n",
              "</style>\n",
              "<table border=\"1\" class=\"dataframe\">\n",
              "  <thead>\n",
              "    <tr style=\"text-align: right;\">\n",
              "      <th></th>\n",
              "      <th>MatchDuration</th>\n",
              "      <th>MatchMap</th>\n",
              "      <th>MatchMods</th>\n",
              "      <th>MatchPlayerCivId</th>\n",
              "      <th>MatchPlayerCivId2</th>\n",
              "      <th>MatchPlayerPreRating</th>\n",
              "      <th>MatchPlayerPreRating2</th>\n",
              "      <th>MatchPlayerWinner</th>\n",
              "      <th>EloDifference</th>\n",
              "      <th>EloBin</th>\n",
              "      <th>MatchDurationQuintile</th>\n",
              "    </tr>\n",
              "    <tr>\n",
              "      <th>MatchId</th>\n",
              "      <th></th>\n",
              "      <th></th>\n",
              "      <th></th>\n",
              "      <th></th>\n",
              "      <th></th>\n",
              "      <th></th>\n",
              "      <th></th>\n",
              "      <th></th>\n",
              "      <th></th>\n",
              "      <th></th>\n",
              "      <th></th>\n",
              "    </tr>\n",
              "  </thead>\n",
              "  <tbody>\n",
              "    <tr>\n",
              "      <th>19076124</th>\n",
              "      <td>6347</td>\n",
              "      <td>Arabia</td>\n",
              "      <td>v1.5 Beta R7, WololoKingdoms</td>\n",
              "      <td>29</td>\n",
              "      <td>1</td>\n",
              "      <td>1584</td>\n",
              "      <td>1587</td>\n",
              "      <td>0.0</td>\n",
              "      <td>-3</td>\n",
              "      <td>3</td>\n",
              "      <td>10</td>\n",
              "    </tr>\n",
              "    <tr>\n",
              "      <th>18953363</th>\n",
              "      <td>2801</td>\n",
              "      <td>Islands</td>\n",
              "      <td>v1.5 Beta R7, WololoKingdoms</td>\n",
              "      <td>16</td>\n",
              "      <td>16</td>\n",
              "      <td>1859</td>\n",
              "      <td>1812</td>\n",
              "      <td>0.0</td>\n",
              "      <td>47</td>\n",
              "      <td>5</td>\n",
              "      <td>7</td>\n",
              "    </tr>\n",
              "    <tr>\n",
              "      <th>18911954</th>\n",
              "      <td>1513</td>\n",
              "      <td>Arabia</td>\n",
              "      <td>v1.5 Beta R7, WololoKingdoms</td>\n",
              "      <td>29</td>\n",
              "      <td>7</td>\n",
              "      <td>1683</td>\n",
              "      <td>1702</td>\n",
              "      <td>0.0</td>\n",
              "      <td>-19</td>\n",
              "      <td>3</td>\n",
              "      <td>2</td>\n",
              "    </tr>\n",
              "    <tr>\n",
              "      <th>19224647</th>\n",
              "      <td>3443</td>\n",
              "      <td>Custom</td>\n",
              "      <td>v1.5 Beta R7, WololoKingdoms</td>\n",
              "      <td>18</td>\n",
              "      <td>21</td>\n",
              "      <td>1337</td>\n",
              "      <td>1362</td>\n",
              "      <td>0.0</td>\n",
              "      <td>-25</td>\n",
              "      <td>3</td>\n",
              "      <td>9</td>\n",
              "    </tr>\n",
              "    <tr>\n",
              "      <th>18965780</th>\n",
              "      <td>1659</td>\n",
              "      <td>Arabia</td>\n",
              "      <td>v1.5 Beta R7, WololoKingdoms</td>\n",
              "      <td>2</td>\n",
              "      <td>11</td>\n",
              "      <td>1620</td>\n",
              "      <td>1730</td>\n",
              "      <td>0.0</td>\n",
              "      <td>-110</td>\n",
              "      <td>1</td>\n",
              "      <td>3</td>\n",
              "    </tr>\n",
              "  </tbody>\n",
              "</table>\n",
              "</div>"
            ],
            "text/plain": [
              "          MatchDuration MatchMap                     MatchMods  \\\n",
              "MatchId                                                          \n",
              "19076124           6347   Arabia  v1.5 Beta R7, WololoKingdoms   \n",
              "18953363           2801  Islands  v1.5 Beta R7, WololoKingdoms   \n",
              "18911954           1513   Arabia  v1.5 Beta R7, WololoKingdoms   \n",
              "19224647           3443   Custom  v1.5 Beta R7, WololoKingdoms   \n",
              "18965780           1659   Arabia  v1.5 Beta R7, WololoKingdoms   \n",
              "\n",
              "          MatchPlayerCivId  MatchPlayerCivId2  MatchPlayerPreRating  \\\n",
              "MatchId                                                               \n",
              "19076124                29                  1                  1584   \n",
              "18953363                16                 16                  1859   \n",
              "18911954                29                  7                  1683   \n",
              "19224647                18                 21                  1337   \n",
              "18965780                 2                 11                  1620   \n",
              "\n",
              "          MatchPlayerPreRating2  MatchPlayerWinner  EloDifference EloBin  \\\n",
              "MatchId                                                                    \n",
              "19076124                   1587                0.0             -3      3   \n",
              "18953363                   1812                0.0             47      5   \n",
              "18911954                   1702                0.0            -19      3   \n",
              "19224647                   1362                0.0            -25      3   \n",
              "18965780                   1730                0.0           -110      1   \n",
              "\n",
              "         MatchDurationQuintile  \n",
              "MatchId                         \n",
              "19076124                    10  \n",
              "18953363                     7  \n",
              "18911954                     2  \n",
              "19224647                     9  \n",
              "18965780                     3  "
            ]
          },
          "metadata": {
            "tags": []
          },
          "execution_count": 40
        }
      ]
    },
    {
      "cell_type": "markdown",
      "metadata": {
        "id": "t6chcRP7g-iT",
        "colab_type": "text"
      },
      "source": [
        "# PREP DATA FOR MODEL"
      ]
    },
    {
      "cell_type": "code",
      "metadata": {
        "id": "eJnKK7wOaVwl",
        "colab_type": "code",
        "outputId": "ed1ce85d-45d7-4039-a055-6c9cd015a8f6",
        "colab": {
          "base_uri": "https://localhost:8080/",
          "height": 34
        }
      },
      "source": [
        "# train test split\n",
        "from sklearn.model_selection import train_test_split\n",
        "\n",
        "train, val = train_test_split(rm_1v1, train_size = 0.8, test_size = 0.2)\n",
        "\n",
        "train.shape, val.shape"
      ],
      "execution_count": 0,
      "outputs": [
        {
          "output_type": "execute_result",
          "data": {
            "text/plain": [
              "((164253, 11), (41064, 11))"
            ]
          },
          "metadata": {
            "tags": []
          },
          "execution_count": 41
        }
      ]
    },
    {
      "cell_type": "code",
      "metadata": {
        "id": "sirKzQ2ofv1M",
        "colab_type": "code",
        "colab": {}
      },
      "source": [
        "# set up features for model\n",
        "target = 'MatchPlayerWinner'\n",
        "features = [\n",
        "            'MatchMods', \n",
        "            'MatchMap', \n",
        "           # 'MatchDuration',\n",
        "      #  'MatchPlayerCivId', \n",
        "        'MatchPlayerPreRating',\n",
        "     #   'MatchPlayerCivId2', \n",
        "        'MatchPlayerPreRating2',\n",
        "        'EloDifference', \n",
        "        'EloBin']\n",
        "X_train = train[features]\n",
        "y_train = train[target]\n",
        "\n",
        "X_val = val[features]\n",
        "y_val = val[target]"
      ],
      "execution_count": 0,
      "outputs": []
    },
    {
      "cell_type": "markdown",
      "metadata": {
        "id": "2qUWP4xkchpC",
        "colab_type": "text"
      },
      "source": [
        "# Linear Regression"
      ]
    },
    {
      "cell_type": "code",
      "metadata": {
        "id": "HEu-ZNiUchR8",
        "colab_type": "code",
        "outputId": "6b552145-3676-46ce-8250-10f455dd5c46",
        "colab": {
          "base_uri": "https://localhost:8080/",
          "height": 52
        }
      },
      "source": [
        "from sklearn import linear_model\n",
        "pipeline = make_pipeline(\n",
        "    ce.OrdinalEncoder(), \n",
        "    linear_model.LinearRegression()\n",
        ")\n",
        "\n",
        "pipeline.fit(X_train, y_train)\n",
        "\n",
        "y_pred = pipeline.predict(X_val)\n",
        "\n",
        "print('Train Accuracy', pipeline.score(X_train, y_train))\n",
        "\n",
        "print('Validation Accuracy', pipeline.score(X_val, y_val))"
      ],
      "execution_count": 0,
      "outputs": [
        {
          "output_type": "stream",
          "text": [
            "Train Accuracy 0.01681304914400017\n",
            "Validation Accuracy 0.017608002418113666\n"
          ],
          "name": "stdout"
        }
      ]
    },
    {
      "cell_type": "markdown",
      "metadata": {
        "id": "I3F2vSFLcEr2",
        "colab_type": "text"
      },
      "source": [
        "# Decision Forest"
      ]
    },
    {
      "cell_type": "code",
      "metadata": {
        "id": "6Je6A5cfcArj",
        "colab_type": "code",
        "outputId": "4d170790-c279-4125-e05e-cbc5ee885028",
        "colab": {
          "base_uri": "https://localhost:8080/",
          "height": 52
        }
      },
      "source": [
        "from sklearn.ensemble import RandomForestClassifier\n",
        "pipeline = make_pipeline(\n",
        "    ce.OrdinalEncoder(), \n",
        "    RandomForestClassifier(n_estimators = 100, n_jobs=-1)\n",
        ")\n",
        "\n",
        "pipeline.fit(X_train, y_train)\n",
        "\n",
        "y_pred = pipeline.predict(X_val)\n",
        "\n",
        "print('Train Accuracy', pipeline.score(X_train, y_train))\n",
        "\n",
        "print('Validation Accuracy', pipeline.score(X_val, y_val))"
      ],
      "execution_count": 0,
      "outputs": [
        {
          "output_type": "stream",
          "text": [
            "Train Accuracy 0.9498091359061935\n",
            "Validation Accuracy 0.7064095071108514\n"
          ],
          "name": "stdout"
        }
      ]
    },
    {
      "cell_type": "markdown",
      "metadata": {
        "id": "iS0d6q5mbjcD",
        "colab_type": "text"
      },
      "source": [
        "# XGBClassifier"
      ]
    },
    {
      "cell_type": "code",
      "metadata": {
        "id": "ndmCW4Iebe_Y",
        "colab_type": "code",
        "outputId": "36900738-2022-4a25-9b35-31da98ea0727",
        "colab": {
          "base_uri": "https://localhost:8080/",
          "height": 52
        }
      },
      "source": [
        "from xgboost import XGBClassifier\n",
        "pipeline = make_pipeline(\n",
        "    ce.OrdinalEncoder(), \n",
        "    XGBClassifier(n_estimators=100, random_state=42, n_jobs=-1)\n",
        ")\n",
        "\n",
        "pipeline.fit(X_train, y_train)\n",
        "\n",
        "y_pred = pipeline.predict(X_val)\n",
        "\n",
        "print('Train Accuracy', pipeline.score(X_train, y_train))\n",
        "\n",
        "print('Validation Accuracy', pipeline.score(X_val, y_val))"
      ],
      "execution_count": 0,
      "outputs": [
        {
          "output_type": "stream",
          "text": [
            "Train Accuracy 0.762737971300372\n",
            "Validation Accuracy 0.7646843950905903\n"
          ],
          "name": "stdout"
        }
      ]
    },
    {
      "cell_type": "markdown",
      "metadata": {
        "id": "oW50uBx8bphg",
        "colab_type": "text"
      },
      "source": [
        "# Decision Tree"
      ]
    },
    {
      "cell_type": "code",
      "metadata": {
        "id": "NFy6sBV4hYJ0",
        "colab_type": "code",
        "outputId": "8fba0163-1d52-4c4c-c89b-159c81111cc4",
        "colab": {
          "base_uri": "https://localhost:8080/",
          "height": 52
        }
      },
      "source": [
        "from sklearn.tree import DecisionTreeClassifier\n",
        "\n",
        "pipeline = make_pipeline(\n",
        "    ce.OrdinalEncoder(),\n",
        "    \n",
        "    DecisionTreeClassifier(random_state=42)\n",
        ")\n",
        "\n",
        "pipeline.fit(X_train, y_train)\n",
        "\n",
        "y_pred = pipeline.predict(X_val)\n",
        "\n",
        "print('Train Accuracy', pipeline.score(X_train, y_train))\n",
        "\n",
        "print('Validation Accuracy', pipeline.score(X_val, y_val))\n",
        "\n",
        "# above baseline"
      ],
      "execution_count": 0,
      "outputs": [
        {
          "output_type": "stream",
          "text": [
            "Train Accuracy 0.9498639294259466\n",
            "Validation Accuracy 0.6541983245665303\n"
          ],
          "name": "stdout"
        }
      ]
    },
    {
      "cell_type": "markdown",
      "metadata": {
        "id": "gHhWBdMoK6x8",
        "colab_type": "text"
      },
      "source": [
        "# Feature Importances"
      ]
    },
    {
      "cell_type": "code",
      "metadata": {
        "id": "RTVk_osbK555",
        "colab_type": "code",
        "outputId": "6a75606b-f8ea-4f52-d9d8-4434dfc8fe8f",
        "colab": {
          "base_uri": "https://localhost:8080/",
          "height": 607
        }
      },
      "source": [
        "rf = pipeline.named_steps['decisiontreeclassifier']\n",
        "importances = pd.Series(rf.feature_importances_, X_train.columns)\n",
        "\n",
        "%matplotlib inline\n",
        "import matplotlib.pyplot as plt\n",
        "\n",
        "n=20\n",
        "\n",
        "plt.figure(figsize=(10,n/2))\n",
        "plt.title(f'Top {n} features')\n",
        "importances.sort_values()[-n:].plot.barh(color='grey');"
      ],
      "execution_count": 0,
      "outputs": [
        {
          "output_type": "display_data",
          "data": {
            "image/png": "[encoded data removed]",
            "text/plain": [
              "<Figure size 720x720 with 1 Axes>"
            ]
          },
          "metadata": {
            "tags": []
          }
        }
      ]
    },
    {
      "cell_type": "code",
      "metadata": {
        "id": "1mtLAO0_l6YY",
        "colab_type": "code",
        "outputId": "8f6f7816-392e-4d2a-88fb-0e22015b36fa",
        "colab": {
          "base_uri": "https://localhost:8080/",
          "height": 279
        }
      },
      "source": [
        "sns.barplot(x='MatchDurationQuintile', y='MatchPlayerWinner', data=rm_1v1);\n",
        "\n",
        "# um, o . . . k"
      ],
      "execution_count": 0,
      "outputs": [
        {
          "output_type": "display_data",
          "data": {
            "image/png": "[encoded data removed]",
            "text/plain": [
              "<Figure size 432x288 with 1 Axes>"
            ]
          },
          "metadata": {
            "tags": []
          }
        }
      ]
    },
    {
      "cell_type": "markdown",
      "metadata": {
        "id": "_dFhUPjLOK_T",
        "colab_type": "text"
      },
      "source": [
        "# PDP and Shapely Plots"
      ]
    },
    {
      "cell_type": "code",
      "metadata": {
        "id": "XWjjfbiJ4C1f",
        "colab_type": "code",
        "outputId": "7053b3e7-354a-430b-d120-00e5733ddb82",
        "colab": {
          "base_uri": "https://localhost:8080/",
          "height": 279
        }
      },
      "source": [
        "sns.distplot(y_train);"
      ],
      "execution_count": 0,
      "outputs": [
        {
          "output_type": "display_data",
          "data": {
            "image/png": "[encoded data removed]",
            "text/plain": [
              "<Figure size 432x288 with 1 Axes>"
            ]
          },
          "metadata": {
            "tags": []
          }
        }
      ]
    },
    {
      "cell_type": "code",
      "metadata": {
        "id": "oBVdgL-bOmnM",
        "colab_type": "code",
        "outputId": "25a5e26c-9886-4d5d-85d5-e73bbd3a9e0b",
        "colab": {
          "base_uri": "https://localhost:8080/",
          "height": 34
        }
      },
      "source": [
        "import category_encoders as ce\n",
        "from sklearn.linear_model import LinearRegression\n",
        "from sklearn.pipeline import make_pipeline\n",
        "from sklearn.preprocessing import StandardScaler\n",
        "\n",
        "lr = make_pipeline(\n",
        "    ce.TargetEncoder(),  \n",
        "    LinearRegression()\n",
        ")\n",
        "\n",
        "lr.fit(X_train, y_train)\n",
        "print('Linear Regression R^2', lr.score(X_val, y_val))\n",
        "\n",
        "# slightly above baseline!"
      ],
      "execution_count": 0,
      "outputs": [
        {
          "output_type": "stream",
          "text": [
            "Linear Regression R^2 0.017116760801914266\n"
          ],
          "name": "stdout"
        }
      ]
    },
    {
      "cell_type": "code",
      "metadata": {
        "id": "Iocr1YN3O5fF",
        "colab_type": "code",
        "outputId": "94042dd0-890d-476c-9b36-acfbb99c029a",
        "colab": {
          "base_uri": "https://localhost:8080/",
          "height": 125
        }
      },
      "source": [
        "# TODO: see if can get higher\n",
        "\n",
        "from sklearn.metrics import r2_score, accuracy_score\n",
        "from xgboost import XGBRegressor\n",
        "\n",
        "gb = make_pipeline(\n",
        "    ce.OrdinalEncoder(),\n",
        "    XGBRegressor(n_estimators=200, objective='reg:squarederror', n_jobs=-1)\n",
        ")\n",
        "\n",
        "gb.fit(X_train, y_train)\n",
        "y_pred = gb.predict(X_val)\n",
        "print('Gradient Boosting R^2', r2_score(y_val, y_pred))\n"
      ],
      "execution_count": 0,
      "outputs": [
        {
          "output_type": "stream",
          "text": [
            "/usr/local/lib/python3.6/dist-packages/xgboost/core.py:587: FutureWarning: Series.base is deprecated and will be removed in a future version\n",
            "  if getattr(data, 'base', None) is not None and \\\n",
            "/usr/local/lib/python3.6/dist-packages/xgboost/core.py:588: FutureWarning: Series.base is deprecated and will be removed in a future version\n",
            "  data.base is not None and isinstance(data, np.ndarray) \\\n"
          ],
          "name": "stderr"
        },
        {
          "output_type": "stream",
          "text": [
            "Gradient Boosting R^2 0.018538847544673276\n"
          ],
          "name": "stdout"
        }
      ]
    },
    {
      "cell_type": "code",
      "metadata": {
        "id": "zKoDwgUQIdP-",
        "colab_type": "code",
        "colab": {}
      },
      "source": [
        "# increase the dots per inch (double it), so the text isn't so fuzzy\n",
        "import matplotlib.pyplot as plt\n"
      ],
      "execution_count": 0,
      "outputs": []
    },
    {
      "cell_type": "code",
      "metadata": {
        "id": "lrNyAevNLDCG",
        "colab_type": "code",
        "outputId": "03b54414-6b9a-443d-a310-093c480c99eb",
        "colab": {
          "base_uri": "https://localhost:8080/",
          "height": 1000
        }
      },
      "source": [
        "if 'google.colab' in sys.modules:\n",
        "\n",
        "      !pip install pdpbox\n",
        "      !pip install shap\n",
        "\n",
        "from pdpbox.pdp import pdp_isolate, pdp_plot\n",
        "\n",
        "feature = 'EloDifference'\n",
        "\n",
        "isolated = pdp_isolate(\n",
        "    model=gb, \n",
        "    dataset=X_val, \n",
        "    model_features=X_val.columns, \n",
        "    feature=feature\n",
        ")\n",
        "\n",
        "pdp_plot(isolated, feature_name=feature)"
      ],
      "execution_count": 0,
      "outputs": [
        {
          "output_type": "stream",
          "text": [
            "Requirement already satisfied: pdpbox in /usr/local/lib/python3.6/dist-packages (0.2.0)\n",
            "Requirement already satisfied: scikit-learn in /usr/local/lib/python3.6/dist-packages (from pdpbox) (0.22.1)\n",
            "Requirement already satisfied: scipy in /usr/local/lib/python3.6/dist-packages (from pdpbox) (1.4.1)\n",
            "Requirement already satisfied: numpy in /usr/local/lib/python3.6/dist-packages (from pdpbox) (1.17.5)\n",
            "Requirement already satisfied: joblib in /usr/local/lib/python3.6/dist-packages (from pdpbox) (0.14.1)\n",
            "Requirement already satisfied: matplotlib>=2.1.2 in /usr/local/lib/python3.6/dist-packages (from pdpbox) (3.1.2)\n",
            "Requirement already satisfied: pandas in /usr/local/lib/python3.6/dist-packages (from pdpbox) (0.25.3)\n",
            "Requirement already satisfied: psutil in /usr/local/lib/python3.6/dist-packages (from pdpbox) (5.4.8)\n",
            "Requirement already satisfied: cycler>=0.10 in /usr/local/lib/python3.6/dist-packages (from matplotlib>=2.1.2->pdpbox) (0.10.0)\n",
            "Requirement already satisfied: kiwisolver>=1.0.1 in /usr/local/lib/python3.6/dist-packages (from matplotlib>=2.1.2->pdpbox) (1.1.0)\n",
            "Requirement already satisfied: pyparsing!=2.0.4,!=2.1.2,!=2.1.6,>=2.0.1 in /usr/local/lib/python3.6/dist-packages (from matplotlib>=2.1.2->pdpbox) (2.4.6)\n",
            "Requirement already satisfied: python-dateutil>=2.1 in /usr/local/lib/python3.6/dist-packages (from matplotlib>=2.1.2->pdpbox) (2.6.1)\n",
            "Requirement already satisfied: pytz>=2017.2 in /usr/local/lib/python3.6/dist-packages (from pandas->pdpbox) (2018.9)\n",
            "Requirement already satisfied: six in /usr/local/lib/python3.6/dist-packages (from cycler>=0.10->matplotlib>=2.1.2->pdpbox) (1.12.0)\n",
            "Requirement already satisfied: setuptools in /usr/local/lib/python3.6/dist-packages (from kiwisolver>=1.0.1->matplotlib>=2.1.2->pdpbox) (42.0.2)\n",
            "Requirement already satisfied: shap in /usr/local/lib/python3.6/dist-packages (0.34.0)\n",
            "Requirement already satisfied: numpy in /usr/local/lib/python3.6/dist-packages (from shap) (1.17.5)\n",
            "Requirement already satisfied: scipy in /usr/local/lib/python3.6/dist-packages (from shap) (1.4.1)\n",
            "Requirement already satisfied: tqdm>4.25.0 in /usr/local/lib/python3.6/dist-packages (from shap) (4.28.1)\n",
            "Requirement already satisfied: scikit-learn in /usr/local/lib/python3.6/dist-packages (from shap) (0.22.1)\n",
            "Requirement already satisfied: pandas in /usr/local/lib/python3.6/dist-packages (from shap) (0.25.3)\n",
            "Requirement already satisfied: joblib>=0.11 in /usr/local/lib/python3.6/dist-packages (from scikit-learn->shap) (0.14.1)\n",
            "Requirement already satisfied: pytz>=2017.2 in /usr/local/lib/python3.6/dist-packages (from pandas->shap) (2018.9)\n",
            "Requirement already satisfied: python-dateutil>=2.6.1 in /usr/local/lib/python3.6/dist-packages (from pandas->shap) (2.6.1)\n",
            "Requirement already satisfied: six>=1.5 in /usr/local/lib/python3.6/dist-packages (from python-dateutil>=2.6.1->pandas->shap) (1.12.0)\n"
          ],
          "name": "stdout"
        },
        {
          "output_type": "execute_result",
          "data": {
            "text/plain": [
              "(<Figure size 1080x684 with 2 Axes>,\n",
              " {'pdp_ax': <matplotlib.axes._subplots.AxesSubplot at 0x7f2841ee1cc0>,\n",
              "  'title_ax': <matplotlib.axes._subplots.AxesSubplot at 0x7f284204d128>})"
            ]
          },
          "metadata": {
            "tags": []
          },
          "execution_count": 67
        },
        {
          "output_type": "stream",
          "text": [
            "findfont: Font family ['Arial'] not found. Falling back to DejaVu Sans.\n",
            "findfont: Font family ['Arial'] not found. Falling back to DejaVu Sans.\n",
            "findfont: Font family ['Arial'] not found. Falling back to DejaVu Sans.\n",
            "findfont: Font family ['Arial'] not found. Falling back to DejaVu Sans.\n"
          ],
          "name": "stderr"
        },
        {
          "output_type": "display_data",
          "data": {
            "image/png": "[encoded data removed]",
            "text/plain": [
              "<Figure size 1080x684 with 2 Axes>"
            ]
          },
          "metadata": {
            "tags": []
          }
        }
      ]
    },
    {
      "cell_type": "code",
      "metadata": {
        "id": "cuZKsFe4LP_F",
        "colab_type": "code",
        "outputId": "9179317e-2d45-4939-ec70-405677a3a71e",
        "colab": {
          "base_uri": "https://localhost:8080/",
          "height": 578
        }
      },
      "source": [
        "# Plot PDP with 100 ICE curves\n",
        "# PDP: Partial Dependence Plot\n",
        "# ICE: Individual Conditional Expectation\n",
        "pdp_plot(isolated, feature_name=feature, plot_lines=True, \n",
        "         frac_to_plot=0.01)\n",
        "\n",
        "plt.xlim(-1000,1000);"
      ],
      "execution_count": 0,
      "outputs": [
        {
          "output_type": "display_data",
          "data": {
            "image/png": "[encoded data removed]",
            "text/plain": [
              "<Figure size 1080x684 with 2 Axes>"
            ]
          },
          "metadata": {
            "tags": []
          }
        }
      ]
    },
    {
      "cell_type": "code",
      "metadata": {
        "id": "sIujz1--eJMi",
        "colab_type": "code",
        "outputId": "4deeb1ff-787c-41c0-fe19-5eb0fd00f0ee",
        "colab": {
          "base_uri": "https://localhost:8080/",
          "height": 175
        }
      },
      "source": [
        "rm_1v1.MatchDuration.describe()"
      ],
      "execution_count": 0,
      "outputs": [
        {
          "output_type": "execute_result",
          "data": {
            "text/plain": [
              "count    205317.000000\n",
              "mean       2474.787076\n",
              "std        1145.952642\n",
              "min           5.000000\n",
              "25%        1738.000000\n",
              "50%        2439.000000\n",
              "75%        3085.000000\n",
              "max       38404.000000\n",
              "Name: MatchDuration, dtype: float64"
            ]
          },
          "metadata": {
            "tags": []
          },
          "execution_count": 69
        }
      ]
    },
    {
      "cell_type": "code",
      "metadata": {
        "id": "IHcmBOL2dx8Z",
        "colab_type": "code",
        "outputId": "d3d8c805-8f63-46e5-acb2-f14ad0324aad",
        "colab": {
          "base_uri": "https://localhost:8080/",
          "height": 578
        }
      },
      "source": [
        "pdp_plot(isolated, feature_name='MatchDuration', plot_lines=True, \n",
        "         frac_to_plot=0.01)\n",
        "\n",
        "\n",
        "plt.xlim(0,3200);"
      ],
      "execution_count": 0,
      "outputs": [
        {
          "output_type": "display_data",
          "data": {
            "image/png": "[encoded data removed]",
            "text/plain": [
              "<Figure size 1080x684 with 2 Axes>"
            ]
          },
          "metadata": {
            "tags": []
          }
        }
      ]
    }
  ]
}